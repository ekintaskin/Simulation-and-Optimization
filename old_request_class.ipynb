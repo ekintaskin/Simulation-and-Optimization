{
 "cells": [
  {
   "cell_type": "code",
   "execution_count": 1,
   "id": "1f536e5a-4d19-418b-a95f-9be15e396848",
   "metadata": {},
   "outputs": [],
   "source": [
    "class Request:\n",
    "    def __init__(self, group_id=None, movie_id=None, storage_id=None):\n",
    "        \"\"\"\n",
    "        Initialize a Request object.\n",
    "        \n",
    "        Args:\n",
    "            group_id: Identifier for the group making the request\n",
    "            movie_id: Identifier for the requested movie\n",
    "            storage_id: Identifier for the storage location\n",
    "        \"\"\"\n",
    "        self.time_creation = None  # When the request was created\n",
    "        self.time_arrived = None   # When the request arrived in the system\n",
    "        self.time_handled = None   # When the request started being processed\n",
    "        self.time_served = None    # When the request was completed\n",
    "        self.group_id = group_id   # Group identifier\n",
    "        self.movie_id = movie_id   # Movie identifier\n",
    "        self.storage_id = storage_id  # Storage identifier\n",
    "        \n",
    "    def set_creation_time(self, time):\n",
    "        \"\"\"Set the creation time of the request.\"\"\"\n",
    "        self.time_creation = time\n",
    "        \n",
    "    def set_arrival_time(self, time):\n",
    "        \"\"\"Set the arrival time of the request.\"\"\"\n",
    "        self.time_arrived = time\n",
    "        \n",
    "    def set_handled_time(self, time):\n",
    "        \"\"\"Set the time when the request started being processed.\"\"\"\n",
    "        self.time_handled = time\n",
    "        \n",
    "    def set_served_time(self, time):\n",
    "        \"\"\"Set the time when the request was completed.\"\"\"\n",
    "        self.time_served = time\n",
    "        \n",
    "    def get_waiting_time(self):\n",
    "        \"\"\"Calculate the waiting time (time_handled - time_arrived).\"\"\"\n",
    "        if self.time_handled and self.time_arrived:\n",
    "            return self.time_handled - self.time_arrived\n",
    "        return None\n",
    "        \n",
    "    def get_processing_time(self):\n",
    "        \"\"\"Calculate the processing time (time_served - time_handled).\"\"\"\n",
    "        if self.time_served and self.time_handled:\n",
    "            return self.time_served - self.time_handled\n",
    "        return None\n",
    "        \n",
    "    def get_total_time(self):\n",
    "        \"\"\"Calculate the total time (time_served - time_arrived).\"\"\"\n",
    "        if self.time_served and self.time_arrived:\n",
    "            return self.time_served - self.time_arrived\n",
    "        return None\n",
    "    \n",
    "    def __str__(self):\n",
    "        \"\"\"Return a string representation of the Request.\"\"\"\n",
    "        return f\"Request(group_id={self.group_id}, movie_id={self.movie_id}, storage_id={self.storage_id})\""
   ]
  }
 ],
 "metadata": {
  "kernelspec": {
   "display_name": "Python 3 (ipykernel)",
   "language": "python",
   "name": "python3"
  },
  "language_info": {
   "codemirror_mode": {
    "name": "ipython",
    "version": 3
   },
   "file_extension": ".py",
   "mimetype": "text/x-python",
   "name": "python",
   "nbconvert_exporter": "python",
   "pygments_lexer": "ipython3",
   "version": "3.10.6"
  }
 },
 "nbformat": 4,
 "nbformat_minor": 5
}
