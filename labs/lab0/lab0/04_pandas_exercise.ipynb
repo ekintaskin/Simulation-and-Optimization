{
 "cells": [
  {
   "cell_type": "markdown",
   "metadata": {},
   "source": [
    "# Hands on with pandas"
   ]
  },
  {
   "cell_type": "markdown",
   "metadata": {},
   "source": [
    "This notebook was written by Tim Hillel (tim.hillel@epfl.ch) for the Decision-aid methodologies in transportation course at EPFL (http://edu.epfl.ch/coursebook/en/decision-aid-methodologies-in-transportation-CIVIL-557).\n",
    "\n",
    "Please contact before distributing or reusing the material below.\n",
    "\n",
    "## Overview\n",
    "\n",
    "This notebook will introduce the case-study dataset for the course, using the pandas python library."
   ]
  },
  {
   "cell_type": "markdown",
   "metadata": {},
   "source": [
    "## Pandas\n",
    "\n",
    "Pandas is a library which replicates the dataframe functionality of R in python. \n",
    "\n",
    "It is a wrapper around a numpy array with a *header* for each *column* and a unique *index* for each *row*.\n",
    "(The difference between a pandas `DataFrame` and a numpy `Array` is similar to the difference between a `dictionary`  and a `list`.)\n",
    "\n",
    "If you have not used R before, you can consider pandas to be the *excel* of Python!\n",
    "\n",
    "Let's import pandas. As with numpy, we give pandas an alias, this time `pd`"
   ]
  },
  {
   "cell_type": "code",
   "execution_count": 2,
   "metadata": {},
   "outputs": [],
   "source": [
    "import pandas as pd"
   ]
  },
  {
   "cell_type": "markdown",
   "metadata": {},
   "source": [
    "### Importing data\n",
    "\n",
    "You can manually enter data in a pandas dataframe in Python, as we did with numpy in the last notebook.\n",
    "\n",
    "However, pandas is much more useful when we import data from elsewhere! Pandas supports many file types and interfaces, including *SQL, Excel,* and *JSON*. Today however, we will be importing a *csv* file.\n",
    "\n",
    "The data file is in the data directory. We can open it using a relative file path."
   ]
  },
  {
   "cell_type": "code",
   "execution_count": null,
   "metadata": {},
   "outputs": [],
   "source": [
    "import os\n",
    "cwd = os.getcwd()\n",
    "df = pd.read_csv(cwd + '/dataset.csv')"
   ]
  },
  {
   "cell_type": "markdown",
   "metadata": {},
   "source": [
    "The dataframe has many attributes. Have a look at the shape of the dataframe, and the names of the columns. "
   ]
  },
  {
   "cell_type": "code",
   "execution_count": null,
   "metadata": {},
   "outputs": [],
   "source": []
  },
  {
   "cell_type": "code",
   "execution_count": null,
   "metadata": {},
   "outputs": [],
   "source": []
  },
  {
   "cell_type": "markdown",
   "metadata": {},
   "source": [
    "We can use the method `head` to look at the first 5 rows."
   ]
  },
  {
   "cell_type": "code",
   "execution_count": 9,
   "metadata": {},
   "outputs": [
    {
     "data": {
      "text/html": [
       "<div>\n",
       "<style scoped>\n",
       "    .dataframe tbody tr th:only-of-type {\n",
       "        vertical-align: middle;\n",
       "    }\n",
       "\n",
       "    .dataframe tbody tr th {\n",
       "        vertical-align: top;\n",
       "    }\n",
       "\n",
       "    .dataframe thead th {\n",
       "        text-align: right;\n",
       "    }\n",
       "</style>\n",
       "<table border=\"1\" class=\"dataframe\">\n",
       "  <thead>\n",
       "    <tr style=\"text-align: right;\">\n",
       "      <th></th>\n",
       "      <th>trip_id</th>\n",
       "      <th>household_id</th>\n",
       "      <th>person_n</th>\n",
       "      <th>trip_n</th>\n",
       "      <th>travel_mode</th>\n",
       "      <th>purpose</th>\n",
       "      <th>fueltype</th>\n",
       "      <th>faretype</th>\n",
       "      <th>bus_scale</th>\n",
       "      <th>survey_year</th>\n",
       "      <th>...</th>\n",
       "      <th>dur_pt_int_total</th>\n",
       "      <th>dur_pt_int_waiting</th>\n",
       "      <th>dur_pt_int_walking</th>\n",
       "      <th>pt_n_interchanges</th>\n",
       "      <th>dur_driving</th>\n",
       "      <th>cost_transit</th>\n",
       "      <th>cost_driving_total</th>\n",
       "      <th>cost_driving_fuel</th>\n",
       "      <th>cost_driving_con_charge</th>\n",
       "      <th>driving_traffic_percent</th>\n",
       "    </tr>\n",
       "  </thead>\n",
       "  <tbody>\n",
       "    <tr>\n",
       "      <th>0</th>\n",
       "      <td>0</td>\n",
       "      <td>0</td>\n",
       "      <td>0</td>\n",
       "      <td>0</td>\n",
       "      <td>drive</td>\n",
       "      <td>HBO</td>\n",
       "      <td>Petrol_Car</td>\n",
       "      <td>full</td>\n",
       "      <td>1.0</td>\n",
       "      <td>1</td>\n",
       "      <td>...</td>\n",
       "      <td>0.0</td>\n",
       "      <td>0.0</td>\n",
       "      <td>0.0</td>\n",
       "      <td>0</td>\n",
       "      <td>0.052222</td>\n",
       "      <td>1.5</td>\n",
       "      <td>0.14</td>\n",
       "      <td>0.14</td>\n",
       "      <td>0.0</td>\n",
       "      <td>0.111702</td>\n",
       "    </tr>\n",
       "    <tr>\n",
       "      <th>1</th>\n",
       "      <td>1</td>\n",
       "      <td>0</td>\n",
       "      <td>0</td>\n",
       "      <td>1</td>\n",
       "      <td>drive</td>\n",
       "      <td>HBO</td>\n",
       "      <td>Petrol_Car</td>\n",
       "      <td>full</td>\n",
       "      <td>1.0</td>\n",
       "      <td>1</td>\n",
       "      <td>...</td>\n",
       "      <td>0.0</td>\n",
       "      <td>0.0</td>\n",
       "      <td>0.0</td>\n",
       "      <td>0</td>\n",
       "      <td>0.059444</td>\n",
       "      <td>1.5</td>\n",
       "      <td>0.15</td>\n",
       "      <td>0.15</td>\n",
       "      <td>0.0</td>\n",
       "      <td>0.112150</td>\n",
       "    </tr>\n",
       "    <tr>\n",
       "      <th>2</th>\n",
       "      <td>2</td>\n",
       "      <td>0</td>\n",
       "      <td>0</td>\n",
       "      <td>2</td>\n",
       "      <td>drive</td>\n",
       "      <td>HBO</td>\n",
       "      <td>Petrol_Car</td>\n",
       "      <td>full</td>\n",
       "      <td>1.0</td>\n",
       "      <td>1</td>\n",
       "      <td>...</td>\n",
       "      <td>0.0</td>\n",
       "      <td>0.0</td>\n",
       "      <td>0.0</td>\n",
       "      <td>0</td>\n",
       "      <td>0.236667</td>\n",
       "      <td>1.5</td>\n",
       "      <td>0.79</td>\n",
       "      <td>0.79</td>\n",
       "      <td>0.0</td>\n",
       "      <td>0.203052</td>\n",
       "    </tr>\n",
       "    <tr>\n",
       "      <th>3</th>\n",
       "      <td>3</td>\n",
       "      <td>0</td>\n",
       "      <td>0</td>\n",
       "      <td>3</td>\n",
       "      <td>drive</td>\n",
       "      <td>HBO</td>\n",
       "      <td>Petrol_Car</td>\n",
       "      <td>full</td>\n",
       "      <td>1.0</td>\n",
       "      <td>1</td>\n",
       "      <td>...</td>\n",
       "      <td>0.0</td>\n",
       "      <td>0.0</td>\n",
       "      <td>0.0</td>\n",
       "      <td>0</td>\n",
       "      <td>0.233333</td>\n",
       "      <td>1.5</td>\n",
       "      <td>0.78</td>\n",
       "      <td>0.78</td>\n",
       "      <td>0.0</td>\n",
       "      <td>0.160714</td>\n",
       "    </tr>\n",
       "    <tr>\n",
       "      <th>4</th>\n",
       "      <td>4</td>\n",
       "      <td>0</td>\n",
       "      <td>1</td>\n",
       "      <td>2</td>\n",
       "      <td>drive</td>\n",
       "      <td>HBO</td>\n",
       "      <td>Petrol_Car</td>\n",
       "      <td>dis</td>\n",
       "      <td>1.0</td>\n",
       "      <td>1</td>\n",
       "      <td>...</td>\n",
       "      <td>0.0</td>\n",
       "      <td>0.0</td>\n",
       "      <td>0.0</td>\n",
       "      <td>0</td>\n",
       "      <td>0.229167</td>\n",
       "      <td>1.5</td>\n",
       "      <td>0.78</td>\n",
       "      <td>0.78</td>\n",
       "      <td>0.0</td>\n",
       "      <td>0.130909</td>\n",
       "    </tr>\n",
       "  </tbody>\n",
       "</table>\n",
       "<p>5 rows × 36 columns</p>\n",
       "</div>"
      ],
      "text/plain": [
       "   trip_id  household_id  person_n  trip_n travel_mode purpose    fueltype  \\\n",
       "0        0             0         0       0       drive     HBO  Petrol_Car   \n",
       "1        1             0         0       1       drive     HBO  Petrol_Car   \n",
       "2        2             0         0       2       drive     HBO  Petrol_Car   \n",
       "3        3             0         0       3       drive     HBO  Petrol_Car   \n",
       "4        4             0         1       2       drive     HBO  Petrol_Car   \n",
       "\n",
       "  faretype  bus_scale  survey_year  ...  dur_pt_int_total  dur_pt_int_waiting  \\\n",
       "0     full        1.0            1  ...               0.0                 0.0   \n",
       "1     full        1.0            1  ...               0.0                 0.0   \n",
       "2     full        1.0            1  ...               0.0                 0.0   \n",
       "3     full        1.0            1  ...               0.0                 0.0   \n",
       "4      dis        1.0            1  ...               0.0                 0.0   \n",
       "\n",
       "   dur_pt_int_walking  pt_n_interchanges  dur_driving  cost_transit  \\\n",
       "0                 0.0                  0     0.052222           1.5   \n",
       "1                 0.0                  0     0.059444           1.5   \n",
       "2                 0.0                  0     0.236667           1.5   \n",
       "3                 0.0                  0     0.233333           1.5   \n",
       "4                 0.0                  0     0.229167           1.5   \n",
       "\n",
       "   cost_driving_total  cost_driving_fuel  cost_driving_con_charge  \\\n",
       "0                0.14               0.14                      0.0   \n",
       "1                0.15               0.15                      0.0   \n",
       "2                0.79               0.79                      0.0   \n",
       "3                0.78               0.78                      0.0   \n",
       "4                0.78               0.78                      0.0   \n",
       "\n",
       "   driving_traffic_percent  \n",
       "0                 0.111702  \n",
       "1                 0.112150  \n",
       "2                 0.203052  \n",
       "3                 0.160714  \n",
       "4                 0.130909  \n",
       "\n",
       "[5 rows x 36 columns]"
      ]
     },
     "execution_count": 9,
     "metadata": {},
     "output_type": "execute_result"
    }
   ],
   "source": [
    "df.head()"
   ]
  },
  {
   "cell_type": "markdown",
   "metadata": {},
   "source": [
    "### Pandas series & boolean masks\n",
    "\n",
    "Every column in the dataframe is a series. We can access the series using the column name. Remember, we use square brackets for indexing!"
   ]
  },
  {
   "cell_type": "code",
   "execution_count": 10,
   "metadata": {},
   "outputs": [],
   "source": [
    "dist = df['distance']"
   ]
  },
  {
   "cell_type": "markdown",
   "metadata": {},
   "source": [
    "A pandas series is a numpy vector with an index and a name. We can use many similar methods and attributes to numpy arrays. \n",
    "\n",
    "Try using the relevant methods to output the mean, min, and max distance. Use a format string to output them in a useful sentence."
   ]
  },
  {
   "cell_type": "code",
   "execution_count": 15,
   "metadata": {},
   "outputs": [
    {
     "data": {
      "text/plain": [
       "0     778\n",
       "1     778\n",
       "2    4562\n",
       "3    4562\n",
       "4    4562\n",
       "Name: distance, dtype: int64"
      ]
     },
     "execution_count": 15,
     "metadata": {},
     "output_type": "execute_result"
    }
   ],
   "source": [
    "dist.head()"
   ]
  },
  {
   "cell_type": "markdown",
   "metadata": {},
   "source": [
    "We can also use boolean conditions on a series, e.g. dist<1000. \n",
    "\n",
    "Use this to select all trips in the dataset greater than 5km (5000m), and store it as a new dataframe `long_trips`"
   ]
  },
  {
   "cell_type": "code",
   "execution_count": 20,
   "metadata": {},
   "outputs": [
    {
     "data": {
      "text/html": [
       "<div>\n",
       "<style scoped>\n",
       "    .dataframe tbody tr th:only-of-type {\n",
       "        vertical-align: middle;\n",
       "    }\n",
       "\n",
       "    .dataframe tbody tr th {\n",
       "        vertical-align: top;\n",
       "    }\n",
       "\n",
       "    .dataframe thead th {\n",
       "        text-align: right;\n",
       "    }\n",
       "</style>\n",
       "<table border=\"1\" class=\"dataframe\">\n",
       "  <thead>\n",
       "    <tr style=\"text-align: right;\">\n",
       "      <th></th>\n",
       "      <th>trip_id</th>\n",
       "      <th>household_id</th>\n",
       "      <th>person_n</th>\n",
       "      <th>trip_n</th>\n",
       "      <th>travel_mode</th>\n",
       "      <th>purpose</th>\n",
       "      <th>fueltype</th>\n",
       "      <th>faretype</th>\n",
       "      <th>bus_scale</th>\n",
       "      <th>survey_year</th>\n",
       "      <th>...</th>\n",
       "      <th>dur_pt_int_total</th>\n",
       "      <th>dur_pt_int_waiting</th>\n",
       "      <th>dur_pt_int_walking</th>\n",
       "      <th>pt_n_interchanges</th>\n",
       "      <th>dur_driving</th>\n",
       "      <th>cost_transit</th>\n",
       "      <th>cost_driving_total</th>\n",
       "      <th>cost_driving_fuel</th>\n",
       "      <th>cost_driving_con_charge</th>\n",
       "      <th>driving_traffic_percent</th>\n",
       "    </tr>\n",
       "  </thead>\n",
       "  <tbody>\n",
       "    <tr>\n",
       "      <th>14</th>\n",
       "      <td>14</td>\n",
       "      <td>2</td>\n",
       "      <td>1</td>\n",
       "      <td>0</td>\n",
       "      <td>drive</td>\n",
       "      <td>HBO</td>\n",
       "      <td>Petrol_Car</td>\n",
       "      <td>full</td>\n",
       "      <td>1.0</td>\n",
       "      <td>1</td>\n",
       "      <td>...</td>\n",
       "      <td>0.089444</td>\n",
       "      <td>0.089444</td>\n",
       "      <td>0.000000</td>\n",
       "      <td>1</td>\n",
       "      <td>0.508333</td>\n",
       "      <td>3.0</td>\n",
       "      <td>1.59</td>\n",
       "      <td>1.59</td>\n",
       "      <td>0.0</td>\n",
       "      <td>0.356831</td>\n",
       "    </tr>\n",
       "    <tr>\n",
       "      <th>15</th>\n",
       "      <td>15</td>\n",
       "      <td>2</td>\n",
       "      <td>1</td>\n",
       "      <td>1</td>\n",
       "      <td>drive</td>\n",
       "      <td>NHBO</td>\n",
       "      <td>Petrol_Car</td>\n",
       "      <td>full</td>\n",
       "      <td>1.0</td>\n",
       "      <td>1</td>\n",
       "      <td>...</td>\n",
       "      <td>0.339444</td>\n",
       "      <td>0.293611</td>\n",
       "      <td>0.045833</td>\n",
       "      <td>2</td>\n",
       "      <td>0.448056</td>\n",
       "      <td>4.5</td>\n",
       "      <td>1.48</td>\n",
       "      <td>1.48</td>\n",
       "      <td>0.0</td>\n",
       "      <td>0.340360</td>\n",
       "    </tr>\n",
       "    <tr>\n",
       "      <th>27</th>\n",
       "      <td>27</td>\n",
       "      <td>7</td>\n",
       "      <td>1</td>\n",
       "      <td>0</td>\n",
       "      <td>drive</td>\n",
       "      <td>B</td>\n",
       "      <td>Diesel_Car</td>\n",
       "      <td>full</td>\n",
       "      <td>1.0</td>\n",
       "      <td>1</td>\n",
       "      <td>...</td>\n",
       "      <td>0.100000</td>\n",
       "      <td>0.100000</td>\n",
       "      <td>0.000000</td>\n",
       "      <td>1</td>\n",
       "      <td>0.340833</td>\n",
       "      <td>1.5</td>\n",
       "      <td>2.04</td>\n",
       "      <td>2.04</td>\n",
       "      <td>0.0</td>\n",
       "      <td>0.280359</td>\n",
       "    </tr>\n",
       "    <tr>\n",
       "      <th>28</th>\n",
       "      <td>28</td>\n",
       "      <td>8</td>\n",
       "      <td>1</td>\n",
       "      <td>0</td>\n",
       "      <td>pt</td>\n",
       "      <td>HBO</td>\n",
       "      <td>Petrol_Car</td>\n",
       "      <td>full</td>\n",
       "      <td>1.0</td>\n",
       "      <td>1</td>\n",
       "      <td>...</td>\n",
       "      <td>0.000000</td>\n",
       "      <td>0.000000</td>\n",
       "      <td>0.000000</td>\n",
       "      <td>0</td>\n",
       "      <td>0.418056</td>\n",
       "      <td>1.5</td>\n",
       "      <td>1.20</td>\n",
       "      <td>1.20</td>\n",
       "      <td>0.0</td>\n",
       "      <td>0.242525</td>\n",
       "    </tr>\n",
       "    <tr>\n",
       "      <th>29</th>\n",
       "      <td>29</td>\n",
       "      <td>8</td>\n",
       "      <td>1</td>\n",
       "      <td>2</td>\n",
       "      <td>pt</td>\n",
       "      <td>HBO</td>\n",
       "      <td>Petrol_Car</td>\n",
       "      <td>full</td>\n",
       "      <td>1.0</td>\n",
       "      <td>1</td>\n",
       "      <td>...</td>\n",
       "      <td>0.000000</td>\n",
       "      <td>0.000000</td>\n",
       "      <td>0.000000</td>\n",
       "      <td>0</td>\n",
       "      <td>0.467778</td>\n",
       "      <td>1.5</td>\n",
       "      <td>1.23</td>\n",
       "      <td>1.23</td>\n",
       "      <td>0.0</td>\n",
       "      <td>0.397862</td>\n",
       "    </tr>\n",
       "  </tbody>\n",
       "</table>\n",
       "<p>5 rows × 36 columns</p>\n",
       "</div>"
      ],
      "text/plain": [
       "    trip_id  household_id  person_n  trip_n travel_mode purpose    fueltype  \\\n",
       "14       14             2         1       0       drive     HBO  Petrol_Car   \n",
       "15       15             2         1       1       drive    NHBO  Petrol_Car   \n",
       "27       27             7         1       0       drive       B  Diesel_Car   \n",
       "28       28             8         1       0          pt     HBO  Petrol_Car   \n",
       "29       29             8         1       2          pt     HBO  Petrol_Car   \n",
       "\n",
       "   faretype  bus_scale  survey_year  ...  dur_pt_int_total  \\\n",
       "14     full        1.0            1  ...          0.089444   \n",
       "15     full        1.0            1  ...          0.339444   \n",
       "27     full        1.0            1  ...          0.100000   \n",
       "28     full        1.0            1  ...          0.000000   \n",
       "29     full        1.0            1  ...          0.000000   \n",
       "\n",
       "    dur_pt_int_waiting  dur_pt_int_walking  pt_n_interchanges  dur_driving  \\\n",
       "14            0.089444            0.000000                  1     0.508333   \n",
       "15            0.293611            0.045833                  2     0.448056   \n",
       "27            0.100000            0.000000                  1     0.340833   \n",
       "28            0.000000            0.000000                  0     0.418056   \n",
       "29            0.000000            0.000000                  0     0.467778   \n",
       "\n",
       "    cost_transit  cost_driving_total  cost_driving_fuel  \\\n",
       "14           3.0                1.59               1.59   \n",
       "15           4.5                1.48               1.48   \n",
       "27           1.5                2.04               2.04   \n",
       "28           1.5                1.20               1.20   \n",
       "29           1.5                1.23               1.23   \n",
       "\n",
       "    cost_driving_con_charge  driving_traffic_percent  \n",
       "14                      0.0                 0.356831  \n",
       "15                      0.0                 0.340360  \n",
       "27                      0.0                 0.280359  \n",
       "28                      0.0                 0.242525  \n",
       "29                      0.0                 0.397862  \n",
       "\n",
       "[5 rows x 36 columns]"
      ]
     },
     "execution_count": 20,
     "metadata": {},
     "output_type": "execute_result"
    }
   ],
   "source": [
    "mask = df['distance'] > 5000\n",
    "long_trips = df[mask]\n",
    "long_trips.head()"
   ]
  },
  {
   "cell_type": "markdown",
   "metadata": {},
   "source": [
    "How many trips (rows) are in long_trips?"
   ]
  },
  {
   "cell_type": "code",
   "execution_count": 21,
   "metadata": {},
   "outputs": [
    {
     "data": {
      "text/plain": [
       "(25261, 36)"
      ]
     },
     "execution_count": 21,
     "metadata": {},
     "output_type": "execute_result"
    }
   ],
   "source": [
    "long_trips.shape"
   ]
  },
  {
   "cell_type": "markdown",
   "metadata": {},
   "source": [
    "As well as using the column name to index each column, we can also access each column as an `attribute` of the dataframe. This is particularly useful for using tab autocomplete!"
   ]
  },
  {
   "cell_type": "code",
   "execution_count": 22,
   "metadata": {},
   "outputs": [
    {
     "data": {
      "text/plain": [
       "14    drive\n",
       "15    drive\n",
       "27    drive\n",
       "28       pt\n",
       "29       pt\n",
       "Name: travel_mode, dtype: object"
      ]
     },
     "execution_count": 22,
     "metadata": {},
     "output_type": "execute_result"
    }
   ],
   "source": [
    "long_trips.travel_mode.head()"
   ]
  },
  {
   "cell_type": "markdown",
   "metadata": {},
   "source": [
    "Try to output the unique values in `long_trips.travel_mode`"
   ]
  },
  {
   "cell_type": "code",
   "execution_count": 23,
   "metadata": {},
   "outputs": [
    {
     "data": {
      "text/plain": [
       "array(['drive', 'pt', 'cycle', 'walk'], dtype=object)"
      ]
     },
     "execution_count": 23,
     "metadata": {},
     "output_type": "execute_result"
    }
   ],
   "source": [
    "long_trips.travel_mode.unique()"
   ]
  },
  {
   "cell_type": "markdown",
   "metadata": {},
   "source": [
    "We could also count the values"
   ]
  },
  {
   "cell_type": "code",
   "execution_count": 24,
   "metadata": {},
   "outputs": [
    {
     "data": {
      "text/plain": [
       "travel_mode\n",
       "pt       14168\n",
       "drive    10429\n",
       "cycle      609\n",
       "walk        55\n",
       "Name: count, dtype: int64"
      ]
     },
     "execution_count": 24,
     "metadata": {},
     "output_type": "execute_result"
    }
   ],
   "source": [
    "long_trips.travel_mode.value_counts()"
   ]
  },
  {
   "cell_type": "markdown",
   "metadata": {},
   "source": [
    "Try comparing the ratios of the different modes for the long_trips and trips shorter than 1000m. *Hint* divide the value counts by the number of trips"
   ]
  },
  {
   "cell_type": "code",
   "execution_count": 25,
   "metadata": {},
   "outputs": [
    {
     "data": {
      "text/plain": [
       "travel_mode\n",
       "pt       0.560865\n",
       "drive    0.412850\n",
       "cycle    0.024108\n",
       "walk     0.002177\n",
       "Name: count, dtype: float64"
      ]
     },
     "execution_count": 25,
     "metadata": {},
     "output_type": "execute_result"
    }
   ],
   "source": [
    "long_trips.travel_mode.value_counts() / long_trips.shape[0]"
   ]
  },
  {
   "cell_type": "code",
   "execution_count": 26,
   "metadata": {},
   "outputs": [
    {
     "data": {
      "text/plain": [
       "travel_mode\n",
       "drive    0.454598\n",
       "pt       0.258621\n",
       "walk     0.254608\n",
       "cycle    0.032173\n",
       "Name: count, dtype: float64"
      ]
     },
     "execution_count": 26,
     "metadata": {},
     "output_type": "execute_result"
    }
   ],
   "source": [
    "short_trips = df[df['distance'] < 5000]\n",
    "short_trips.travel_mode.value_counts() / short_trips.shape[0]"
   ]
  },
  {
   "cell_type": "markdown",
   "metadata": {},
   "source": [
    "#### Selecting multiple columns\n",
    "\n",
    "We have seen that we can access a single `series` (column) by indexing the name of the column, and we could also select rows by using a boolean mask. \n",
    "\n",
    "What if we want to select a subset of the columns? \n",
    "\n",
    "We can use a list of the column names we want to select!\n"
   ]
  },
  {
   "cell_type": "code",
   "execution_count": 27,
   "metadata": {},
   "outputs": [
    {
     "data": {
      "text/html": [
       "<div>\n",
       "<style scoped>\n",
       "    .dataframe tbody tr th:only-of-type {\n",
       "        vertical-align: middle;\n",
       "    }\n",
       "\n",
       "    .dataframe tbody tr th {\n",
       "        vertical-align: top;\n",
       "    }\n",
       "\n",
       "    .dataframe thead th {\n",
       "        text-align: right;\n",
       "    }\n",
       "</style>\n",
       "<table border=\"1\" class=\"dataframe\">\n",
       "  <thead>\n",
       "    <tr style=\"text-align: right;\">\n",
       "      <th></th>\n",
       "      <th>travel_mode</th>\n",
       "      <th>distance</th>\n",
       "    </tr>\n",
       "  </thead>\n",
       "  <tbody>\n",
       "    <tr>\n",
       "      <th>0</th>\n",
       "      <td>drive</td>\n",
       "      <td>778</td>\n",
       "    </tr>\n",
       "    <tr>\n",
       "      <th>1</th>\n",
       "      <td>drive</td>\n",
       "      <td>778</td>\n",
       "    </tr>\n",
       "    <tr>\n",
       "      <th>2</th>\n",
       "      <td>drive</td>\n",
       "      <td>4562</td>\n",
       "    </tr>\n",
       "    <tr>\n",
       "      <th>3</th>\n",
       "      <td>drive</td>\n",
       "      <td>4562</td>\n",
       "    </tr>\n",
       "    <tr>\n",
       "      <th>4</th>\n",
       "      <td>drive</td>\n",
       "      <td>4562</td>\n",
       "    </tr>\n",
       "  </tbody>\n",
       "</table>\n",
       "</div>"
      ],
      "text/plain": [
       "  travel_mode  distance\n",
       "0       drive       778\n",
       "1       drive       778\n",
       "2       drive      4562\n",
       "3       drive      4562\n",
       "4       drive      4562"
      ]
     },
     "execution_count": 27,
     "metadata": {},
     "output_type": "execute_result"
    }
   ],
   "source": [
    "smalldf = df[['travel_mode', 'distance']]\n",
    "smalldf.head()"
   ]
  },
  {
   "cell_type": "markdown",
   "metadata": {},
   "source": [
    "Using a comprehension with the `travel_modes` iterator created below, create a dictionary where the `key` is each transport mode, and the `value` is the mean distance for that mode (from `smalldf`)"
   ]
  },
  {
   "cell_type": "code",
   "execution_count": 29,
   "metadata": {},
   "outputs": [
    {
     "data": {
      "text/plain": [
       "{'drive': 0          778\n",
       " 1          778\n",
       " 2         4562\n",
       " 3         4562\n",
       " 4         4562\n",
       "          ...  \n",
       " 81073     6003\n",
       " 81074     6003\n",
       " 81081    15697\n",
       " 81082    14485\n",
       " 81083     1630\n",
       " Name: distance, Length: 35808, dtype: int64,\n",
       " 'pt': 17        1901\n",
       " 18        2714\n",
       " 19        2714\n",
       " 22        1170\n",
       " 24        1134\n",
       "          ...  \n",
       " 81078    17448\n",
       " 81079    17448\n",
       " 81080     5062\n",
       " 81084    12962\n",
       " 81085    12962\n",
       " Name: distance, Length: 28605, dtype: int64,\n",
       " 'walk': 23        699\n",
       " 25        472\n",
       " 26        444\n",
       " 30        765\n",
       " 31        521\n",
       "          ... \n",
       " 81027    2316\n",
       " 81028    2117\n",
       " 81029     397\n",
       " 81065     414\n",
       " 81077     462\n",
       " Name: distance, Length: 14268, dtype: int64,\n",
       " 'cycle': 102      6398\n",
       " 103      6398\n",
       " 151      3032\n",
       " 152      3032\n",
       " 173      2685\n",
       "          ... \n",
       " 80930    3399\n",
       " 80939    5099\n",
       " 80940    5099\n",
       " 81020    8105\n",
       " 81021    8105\n",
       " Name: distance, Length: 2405, dtype: int64}"
      ]
     },
     "execution_count": 29,
     "metadata": {},
     "output_type": "execute_result"
    }
   ],
   "source": [
    "travel_modes = smalldf.travel_mode.unique()\n",
    "# use dictionary comprehension with travel_modes and smalldf\n",
    "\n",
    "mode_distance = {mode: smalldf[smalldf.travel_mode == mode].distance for mode in travel_modes}\n",
    "mode_distance\n"
   ]
  },
  {
   "cell_type": "markdown",
   "metadata": {},
   "source": [
    "Lets add a few more columns. Use a list comprehension to create a list of all columns names which contain the string `dur`. \n",
    "Append the values `travel_mode` and `distance` to this list, and use it to select these columns from `df` to form a new dataframe `dur_df`.\n",
    "\n",
    "*Hints*: Remember `df.columns` returns a list of the column names, and we can check if something (e.g. a substring or integer) is in something else (e.g. a string or list) using the `in` keyword!"
   ]
  },
  {
   "cell_type": "code",
   "execution_count": 31,
   "metadata": {},
   "outputs": [
    {
     "data": {
      "text/html": [
       "<div>\n",
       "<style scoped>\n",
       "    .dataframe tbody tr th:only-of-type {\n",
       "        vertical-align: middle;\n",
       "    }\n",
       "\n",
       "    .dataframe tbody tr th {\n",
       "        vertical-align: top;\n",
       "    }\n",
       "\n",
       "    .dataframe thead th {\n",
       "        text-align: right;\n",
       "    }\n",
       "</style>\n",
       "<table border=\"1\" class=\"dataframe\">\n",
       "  <thead>\n",
       "    <tr style=\"text-align: right;\">\n",
       "      <th></th>\n",
       "      <th>dur_walking</th>\n",
       "      <th>dur_cycling</th>\n",
       "      <th>dur_pt_total</th>\n",
       "      <th>dur_pt_access</th>\n",
       "      <th>dur_pt_rail</th>\n",
       "      <th>dur_pt_bus</th>\n",
       "      <th>dur_pt_int_total</th>\n",
       "      <th>dur_pt_int_waiting</th>\n",
       "      <th>dur_pt_int_walking</th>\n",
       "      <th>dur_driving</th>\n",
       "      <th>travel_mode</th>\n",
       "      <th>distance</th>\n",
       "    </tr>\n",
       "  </thead>\n",
       "  <tbody>\n",
       "    <tr>\n",
       "      <th>0</th>\n",
       "      <td>0.218056</td>\n",
       "      <td>0.092222</td>\n",
       "      <td>0.149444</td>\n",
       "      <td>0.134444</td>\n",
       "      <td>0.0</td>\n",
       "      <td>0.016667</td>\n",
       "      <td>0.0</td>\n",
       "      <td>0.0</td>\n",
       "      <td>0.0</td>\n",
       "      <td>0.052222</td>\n",
       "      <td>drive</td>\n",
       "      <td>778</td>\n",
       "    </tr>\n",
       "    <tr>\n",
       "      <th>1</th>\n",
       "      <td>0.188889</td>\n",
       "      <td>0.061944</td>\n",
       "      <td>0.168056</td>\n",
       "      <td>0.109444</td>\n",
       "      <td>0.0</td>\n",
       "      <td>0.055556</td>\n",
       "      <td>0.0</td>\n",
       "      <td>0.0</td>\n",
       "      <td>0.0</td>\n",
       "      <td>0.059444</td>\n",
       "      <td>drive</td>\n",
       "      <td>778</td>\n",
       "    </tr>\n",
       "    <tr>\n",
       "      <th>2</th>\n",
       "      <td>1.037778</td>\n",
       "      <td>0.355833</td>\n",
       "      <td>0.412222</td>\n",
       "      <td>0.203056</td>\n",
       "      <td>0.0</td>\n",
       "      <td>0.210278</td>\n",
       "      <td>0.0</td>\n",
       "      <td>0.0</td>\n",
       "      <td>0.0</td>\n",
       "      <td>0.236667</td>\n",
       "      <td>drive</td>\n",
       "      <td>4562</td>\n",
       "    </tr>\n",
       "    <tr>\n",
       "      <th>3</th>\n",
       "      <td>1.039444</td>\n",
       "      <td>0.384444</td>\n",
       "      <td>0.463611</td>\n",
       "      <td>0.205556</td>\n",
       "      <td>0.0</td>\n",
       "      <td>0.258611</td>\n",
       "      <td>0.0</td>\n",
       "      <td>0.0</td>\n",
       "      <td>0.0</td>\n",
       "      <td>0.233333</td>\n",
       "      <td>drive</td>\n",
       "      <td>4562</td>\n",
       "    </tr>\n",
       "    <tr>\n",
       "      <th>4</th>\n",
       "      <td>1.037778</td>\n",
       "      <td>0.355833</td>\n",
       "      <td>0.391389</td>\n",
       "      <td>0.203056</td>\n",
       "      <td>0.0</td>\n",
       "      <td>0.189444</td>\n",
       "      <td>0.0</td>\n",
       "      <td>0.0</td>\n",
       "      <td>0.0</td>\n",
       "      <td>0.229167</td>\n",
       "      <td>drive</td>\n",
       "      <td>4562</td>\n",
       "    </tr>\n",
       "  </tbody>\n",
       "</table>\n",
       "</div>"
      ],
      "text/plain": [
       "   dur_walking  dur_cycling  dur_pt_total  dur_pt_access  dur_pt_rail  \\\n",
       "0     0.218056     0.092222      0.149444       0.134444          0.0   \n",
       "1     0.188889     0.061944      0.168056       0.109444          0.0   \n",
       "2     1.037778     0.355833      0.412222       0.203056          0.0   \n",
       "3     1.039444     0.384444      0.463611       0.205556          0.0   \n",
       "4     1.037778     0.355833      0.391389       0.203056          0.0   \n",
       "\n",
       "   dur_pt_bus  dur_pt_int_total  dur_pt_int_waiting  dur_pt_int_walking  \\\n",
       "0    0.016667               0.0                 0.0                 0.0   \n",
       "1    0.055556               0.0                 0.0                 0.0   \n",
       "2    0.210278               0.0                 0.0                 0.0   \n",
       "3    0.258611               0.0                 0.0                 0.0   \n",
       "4    0.189444               0.0                 0.0                 0.0   \n",
       "\n",
       "   dur_driving travel_mode  distance  \n",
       "0     0.052222       drive       778  \n",
       "1     0.059444       drive       778  \n",
       "2     0.236667       drive      4562  \n",
       "3     0.233333       drive      4562  \n",
       "4     0.229167       drive      4562  "
      ]
     },
     "execution_count": 31,
     "metadata": {},
     "output_type": "execute_result"
    }
   ],
   "source": [
    "col_list = [n for n in df.columns if 'dur' in n]\n",
    "col_list.append('travel_mode')\n",
    "col_list.append('distance')\n",
    "dur_df = df[col_list]\n",
    "dur_df.head()"
   ]
  },
  {
   "cell_type": "markdown",
   "metadata": {},
   "source": [
    "Pandas dataframes have a useful method, `describe`, which provide basic statistics about all of the numerical columns in a dataframe"
   ]
  },
  {
   "cell_type": "code",
   "execution_count": 32,
   "metadata": {},
   "outputs": [
    {
     "data": {
      "text/html": [
       "<div>\n",
       "<style scoped>\n",
       "    .dataframe tbody tr th:only-of-type {\n",
       "        vertical-align: middle;\n",
       "    }\n",
       "\n",
       "    .dataframe tbody tr th {\n",
       "        vertical-align: top;\n",
       "    }\n",
       "\n",
       "    .dataframe thead th {\n",
       "        text-align: right;\n",
       "    }\n",
       "</style>\n",
       "<table border=\"1\" class=\"dataframe\">\n",
       "  <thead>\n",
       "    <tr style=\"text-align: right;\">\n",
       "      <th></th>\n",
       "      <th>dur_walking</th>\n",
       "      <th>dur_cycling</th>\n",
       "      <th>dur_pt_total</th>\n",
       "      <th>dur_pt_access</th>\n",
       "      <th>dur_pt_rail</th>\n",
       "      <th>dur_pt_bus</th>\n",
       "      <th>dur_pt_int_total</th>\n",
       "      <th>dur_pt_int_waiting</th>\n",
       "      <th>dur_pt_int_walking</th>\n",
       "      <th>dur_driving</th>\n",
       "      <th>distance</th>\n",
       "    </tr>\n",
       "  </thead>\n",
       "  <tbody>\n",
       "    <tr>\n",
       "      <th>count</th>\n",
       "      <td>81086.000000</td>\n",
       "      <td>81086.000000</td>\n",
       "      <td>81086.000000</td>\n",
       "      <td>81086.000000</td>\n",
       "      <td>81086.000000</td>\n",
       "      <td>81086.000000</td>\n",
       "      <td>81086.000000</td>\n",
       "      <td>81086.000000</td>\n",
       "      <td>81086.000000</td>\n",
       "      <td>81086.000000</td>\n",
       "      <td>81086.000000</td>\n",
       "    </tr>\n",
       "    <tr>\n",
       "      <th>mean</th>\n",
       "      <td>1.129074</td>\n",
       "      <td>0.362129</td>\n",
       "      <td>0.466878</td>\n",
       "      <td>0.160415</td>\n",
       "      <td>0.090128</td>\n",
       "      <td>0.171894</td>\n",
       "      <td>0.044032</td>\n",
       "      <td>0.037067</td>\n",
       "      <td>0.006966</td>\n",
       "      <td>0.282131</td>\n",
       "      <td>4605.264152</td>\n",
       "    </tr>\n",
       "    <tr>\n",
       "      <th>std</th>\n",
       "      <td>1.118179</td>\n",
       "      <td>0.352031</td>\n",
       "      <td>0.310061</td>\n",
       "      <td>0.091764</td>\n",
       "      <td>0.177097</td>\n",
       "      <td>0.189836</td>\n",
       "      <td>0.077698</td>\n",
       "      <td>0.065874</td>\n",
       "      <td>0.016861</td>\n",
       "      <td>0.252295</td>\n",
       "      <td>4782.352976</td>\n",
       "    </tr>\n",
       "    <tr>\n",
       "      <th>min</th>\n",
       "      <td>0.025278</td>\n",
       "      <td>0.006111</td>\n",
       "      <td>0.007500</td>\n",
       "      <td>0.000000</td>\n",
       "      <td>0.000000</td>\n",
       "      <td>0.000000</td>\n",
       "      <td>0.000000</td>\n",
       "      <td>0.000000</td>\n",
       "      <td>0.000000</td>\n",
       "      <td>0.000278</td>\n",
       "      <td>77.000000</td>\n",
       "    </tr>\n",
       "    <tr>\n",
       "      <th>25%</th>\n",
       "      <td>0.350556</td>\n",
       "      <td>0.116944</td>\n",
       "      <td>0.225833</td>\n",
       "      <td>0.092500</td>\n",
       "      <td>0.000000</td>\n",
       "      <td>0.033333</td>\n",
       "      <td>0.000000</td>\n",
       "      <td>0.000000</td>\n",
       "      <td>0.000000</td>\n",
       "      <td>0.107500</td>\n",
       "      <td>1309.000000</td>\n",
       "    </tr>\n",
       "    <tr>\n",
       "      <th>50%</th>\n",
       "      <td>0.723056</td>\n",
       "      <td>0.232222</td>\n",
       "      <td>0.388611</td>\n",
       "      <td>0.143889</td>\n",
       "      <td>0.000000</td>\n",
       "      <td>0.111944</td>\n",
       "      <td>0.000000</td>\n",
       "      <td>0.000000</td>\n",
       "      <td>0.000000</td>\n",
       "      <td>0.191667</td>\n",
       "      <td>2814.000000</td>\n",
       "    </tr>\n",
       "    <tr>\n",
       "      <th>75%</th>\n",
       "      <td>1.513889</td>\n",
       "      <td>0.484722</td>\n",
       "      <td>0.642778</td>\n",
       "      <td>0.211389</td>\n",
       "      <td>0.100000</td>\n",
       "      <td>0.249722</td>\n",
       "      <td>0.083333</td>\n",
       "      <td>0.073889</td>\n",
       "      <td>0.000000</td>\n",
       "      <td>0.368889</td>\n",
       "      <td>6175.000000</td>\n",
       "    </tr>\n",
       "    <tr>\n",
       "      <th>max</th>\n",
       "      <td>9.278333</td>\n",
       "      <td>3.051944</td>\n",
       "      <td>2.735278</td>\n",
       "      <td>1.188889</td>\n",
       "      <td>1.466667</td>\n",
       "      <td>2.147222</td>\n",
       "      <td>0.865278</td>\n",
       "      <td>0.837222</td>\n",
       "      <td>0.179167</td>\n",
       "      <td>2.060833</td>\n",
       "      <td>40941.000000</td>\n",
       "    </tr>\n",
       "  </tbody>\n",
       "</table>\n",
       "</div>"
      ],
      "text/plain": [
       "        dur_walking   dur_cycling  dur_pt_total  dur_pt_access   dur_pt_rail  \\\n",
       "count  81086.000000  81086.000000  81086.000000   81086.000000  81086.000000   \n",
       "mean       1.129074      0.362129      0.466878       0.160415      0.090128   \n",
       "std        1.118179      0.352031      0.310061       0.091764      0.177097   \n",
       "min        0.025278      0.006111      0.007500       0.000000      0.000000   \n",
       "25%        0.350556      0.116944      0.225833       0.092500      0.000000   \n",
       "50%        0.723056      0.232222      0.388611       0.143889      0.000000   \n",
       "75%        1.513889      0.484722      0.642778       0.211389      0.100000   \n",
       "max        9.278333      3.051944      2.735278       1.188889      1.466667   \n",
       "\n",
       "         dur_pt_bus  dur_pt_int_total  dur_pt_int_waiting  dur_pt_int_walking  \\\n",
       "count  81086.000000      81086.000000        81086.000000        81086.000000   \n",
       "mean       0.171894          0.044032            0.037067            0.006966   \n",
       "std        0.189836          0.077698            0.065874            0.016861   \n",
       "min        0.000000          0.000000            0.000000            0.000000   \n",
       "25%        0.033333          0.000000            0.000000            0.000000   \n",
       "50%        0.111944          0.000000            0.000000            0.000000   \n",
       "75%        0.249722          0.083333            0.073889            0.000000   \n",
       "max        2.147222          0.865278            0.837222            0.179167   \n",
       "\n",
       "        dur_driving      distance  \n",
       "count  81086.000000  81086.000000  \n",
       "mean       0.282131   4605.264152  \n",
       "std        0.252295   4782.352976  \n",
       "min        0.000278     77.000000  \n",
       "25%        0.107500   1309.000000  \n",
       "50%        0.191667   2814.000000  \n",
       "75%        0.368889   6175.000000  \n",
       "max        2.060833  40941.000000  "
      ]
     },
     "execution_count": 32,
     "metadata": {},
     "output_type": "execute_result"
    }
   ],
   "source": [
    "dur_df.describe()"
   ]
  },
  {
   "cell_type": "markdown",
   "metadata": {},
   "source": [
    "## Exercise\n",
    "\n",
    "Using the `dur_df` dataframe, and the matplotlib plotting interface produce two plots:\n",
    "\n",
    "1. The first plot should be a scatter plot of *distance* vs *duration* for the four transport modes (`['dur_walking', 'dur_cycling', 'dur_pt_total', 'dur_driving']`). \n",
    "Use a different colour for each mode, with a marker of a point ('.') and a size of 1. \n",
    "Remember to add a legend and label your axis. \n",
    "Save it as a pdf file, with a name of your choice.\n",
    "\n",
    "2. The second plot should be a *kernel density* plot of the distance distribution for each mode. Use the density function from the direct pandas plotting interface (e.g. `df.plot.density()`)\n",
    "Again, label the axis and add a legend.\n",
    "Save it as a png file, with a name of your choice"
   ]
  },
  {
   "cell_type": "code",
   "execution_count": null,
   "metadata": {},
   "outputs": [
    {
     "data": {
      "image/png": "[encoded data removed]",
      "text/plain": [
       "<Figure size 640x480 with 1 Axes>"
      ]
     },
     "metadata": {},
     "output_type": "display_data"
    }
   ],
   "source": [
    "import matplotlib.pyplot as plt\n",
    "cols = ['dur_walking', 'dur_cycling', 'dur_pt_total', 'dur_driving']\n",
    "plt.scatter(dur_df.distance, dur_df.dur_walking, color='red', alpha=0.5)\n",
    "plt.scatter(dur_df.distance, dur_df.dur_cycling, color='blue', alpha=0.5)\n",
    "plt.scatter(dur_df.distance, dur_df.dur_pt_total, color='green', alpha=0.5)\n",
    "plt.scatter(dur_df.distance, dur_df.dur_driving, color='orange', alpha=0.5)\n",
    "plt.xlabel('Distance')\n",
    "plt.ylabel('Duration')\n",
    "plt.title('Distance vs Duration')\n",
    "plt.legend(cols)\n",
    "plt.show()"
   ]
  },
  {
   "cell_type": "code",
   "execution_count": 39,
   "metadata": {},
   "outputs": [
    {
     "data": {
      "image/png": "[encoded data removed]",
      "text/plain": [
       "<Figure size 640x480 with 1 Axes>"
      ]
     },
     "metadata": {},
     "output_type": "display_data"
    }
   ],
   "source": [
    "dur_df.plot.density()\n",
    "plt.ylim(0, 5)\n",
    "plt.show()"
   ]
  },
  {
   "cell_type": "code",
   "execution_count": null,
   "metadata": {},
   "outputs": [],
   "source": []
  }
 ],
 "metadata": {
  "kernelspec": {
   "display_name": "env_optisimu",
   "language": "python",
   "name": "python3"
  },
  "language_info": {
   "codemirror_mode": {
    "name": "ipython",
    "version": 3
   },
   "file_extension": ".py",
   "mimetype": "text/x-python",
   "name": "python",
   "nbconvert_exporter": "python",
   "pygments_lexer": "ipython3",
   "version": "3.10.9"
  }
 },
 "nbformat": 4,
 "nbformat_minor": 2
}
