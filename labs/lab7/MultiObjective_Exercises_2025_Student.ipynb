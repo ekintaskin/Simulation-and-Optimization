{
 "cells": [
  {
   "cell_type": "markdown",
   "metadata": {},
   "source": [
    "**Submitted by `your_name` on `date_of_submission`**"
   ]
  },
  {
   "cell_type": "markdown",
   "metadata": {},
   "source": [
    "# Optimization Exercises\n",
    "\n",
    "This notebook was written by Selin Ataç (selin.atac@epfl.ch) and edited by Dr. Léa Ricard (lea.ricard@epfl.ch) for the Optimization and Simulation course at EPFL (https://edu.epfl.ch/studyplan/en/doctoral_school/civil-and-environmental-engineering/coursebook/optimization-and-simulation-MATH-600). \n",
    "\n",
    "Please contact before distributing or reusing the material below."
   ]
  },
  {
   "cell_type": "markdown",
   "metadata": {},
   "source": [
    "## Table of Contents\n",
    "* [(Priced) Knapsack Problem](#(Priced)-Knapsack-problem)\n",
    "   * [Problem definition and encoding](#Problem-definition-(KP))\n",
    "   * [Implementation](#Implementation)\n",
    "   * [Core functionalities](#The-core-functionalities)\n",
    "* [Multi-objective optimization](#Multi-objective-optimization)\n",
    "    * [Dominance](#Dominance)"
   ]
  },
  {
   "cell_type": "markdown",
   "metadata": {},
   "source": [
    "## (Priced) Knapsack problem\n",
    "\n",
    "### Problem definition (KP)\n",
    "\n",
    "Each item has a weight $w$, utility $u$ and cost $c$. What is the set of items that can be put in the knapsack that is below the maximum weigh, minimizes the cost, and maximizes the utility?\n",
    "\n",
    "### Problem encoding\n",
    "\n",
    "We consecutively number the items: $0,..., n$\n",
    "\n",
    "We define our decision variables as $x_i=1$ if item $i$ is in the knapsack, $0$ otherwise.\n",
    "\n",
    "### Objectives\n",
    "\n",
    "1. Maximizing the utility: $\\max \\mathcal{f}_1(x)=\\sum_{i=1}^n u_i x_i$ \n",
    "2. Minimizing the cost: $\\min \\mathcal{f}_2(x)=\\sum_{i=1}^n c_i x_i$\n",
    "3. $w^Tx \\leq W$ where $W$ is the maximum weight allowed, e.g. 100kg"
   ]
  },
  {
   "cell_type": "markdown",
   "metadata": {},
   "source": [
    "### Implementation"
   ]
  },
  {
   "cell_type": "markdown",
   "metadata": {},
   "source": [
    "#### The required python libraries\n",
    "You will use the following python libraries in this exercise: `numpy`, `plotly`. Install it using `pip` on your command line:\n",
    "\n",
    "    pip install numpy plotly\n",
    "\n",
    "or if you are using conda:\n",
    "\n",
    "    conda install numpy\n",
    "    conda install -c plotly plotly"
   ]
  },
  {
   "cell_type": "code",
   "execution_count": 1,
   "metadata": {},
   "outputs": [],
   "source": [
    "import numpy as np\n",
    "import plotly\n",
    "import plotly.graph_objects as go\n",
    "import time\n",
    "\n",
    "from numpy.random import Generator, PCG64 \n",
    "from plotly.subplots import make_subplots"
   ]
  },
  {
   "cell_type": "markdown",
   "metadata": {},
   "source": [
    "### The core functionalities\n",
    "\n",
    "Next, we implement the functions `total_cost()`, `total_utility()`, and `weight()`:"
   ]
  },
  {
   "cell_type": "code",
   "execution_count": 2,
   "metadata": {},
   "outputs": [],
   "source": [
    "def total_cost(sol, item_costs):\n",
    "    \"\"\"Function to implement\n",
    "\n",
    "    Args:\n",
    "        sol (list): a list of all decision variables x_1, ... x_n\n",
    "        item_costs (list): a list of the cost c_1, ..., c_n of the items\n",
    "        \n",
    "    Returns:\n",
    "        cost (float): total cost of the items in the knapsack\n",
    "    \n",
    "    \"\"\"  \n",
    "    # Implement your solution here\n",
    "    cost = 0\n",
    "    for i in range(len(sol)):\n",
    "        if sol[i] == 1:\n",
    "            cost += item_costs[i]\n",
    "    \n",
    "    return cost\n",
    "\n",
    "def total_utility(sol, item_utilities):\n",
    "    \"\"\"Function to implement\n",
    "\n",
    "    Args:\n",
    "        sol (list): a list of all decision variables x_1, ... x_n\n",
    "        item_utilities (list): a list of the utility u_1, ..., u_n of the items\n",
    "        \n",
    "    Returns:\n",
    "        cost (float): total utility of the items in the knapsack\n",
    "    \n",
    "    \"\"\"  \n",
    "    # Implement your solution here\n",
    "    utility = 0\n",
    "    for i in range(len(sol)):\n",
    "        if sol[i] == 1:\n",
    "            utility += item_utilities[i]\n",
    "    \n",
    "    return utility\n",
    "\n",
    "def weight(sol, item_weights):\n",
    "    \"\"\"Function to implement\n",
    "\n",
    "    Args:\n",
    "        sol (list): a list of all decision variables x_1, ... x_n\n",
    "        item_weights (list): a list of the weight w_1, ..., w_n of the items\n",
    "        \n",
    "    Returns:\n",
    "        cost (float): total weight of the items in the knapsack\n",
    "    \n",
    "    \"\"\" \n",
    "    # Implement your solution here\n",
    "    weight = 0\n",
    "    for i in range(len(sol)):\n",
    "        if sol[i] == 1:\n",
    "            weight += item_weights[i]\n",
    "    \n",
    "    return weight"
   ]
  },
  {
   "cell_type": "markdown",
   "metadata": {},
   "source": [
    "#### Test the functions `total_cost()`, `total_utility()`, and `weight()`"
   ]
  },
  {
   "cell_type": "code",
   "execution_count": 3,
   "metadata": {},
   "outputs": [
    {
     "name": "stdout",
     "output_type": "stream",
     "text": [
      "weights:  [45 47 29 21 20]\n",
      "utility:  [ 7 98 32 82 55]\n",
      "cost:  [0.86346747 0.72134798 0.69142444 0.54085333 0.45354493]\n",
      "Knapsack composition:  [1 1 0 0 0]\n",
      "Total cost:  1.5848154561081227\n",
      "Total utility:  105\n",
      "Total weight:  92\n"
     ]
    }
   ],
   "source": [
    "rg = Generator(PCG64(42069)) # set your own unique seed number\n",
    "n_items = 5\n",
    "item_weights = rg.integers(10, 50, n_items)\n",
    "item_utilities = rg.integers(0, 100, n_items)\n",
    "item_costs = rg.random(n_items)\n",
    "\n",
    "print(\"weights: \", item_weights)\n",
    "print(\"utility: \", item_utilities)\n",
    "print(\"cost: \", item_costs)\n",
    "sol = rg.integers(0, 2, n_items) # Random solution\n",
    "print(\"Knapsack composition: \", sol)\n",
    "print(\"Total cost: \", total_cost(sol, item_costs))\n",
    "print(\"Total utility: \", total_utility(sol, item_utilities))\n",
    "print(\"Total weight: \", weight(sol, item_weights))"
   ]
  },
  {
   "cell_type": "markdown",
   "metadata": {},
   "source": [
    "# Multi-objective optimization"
   ]
  },
  {
   "cell_type": "markdown",
   "metadata": {},
   "source": [
    "In this lab, we will implement a multi-objective optimization algorithm (described in the lecture notes). Several methods are possible:\n",
    "\n",
    "1. Weighted sum\n",
    "2. Lexicographic rules (e.g., sequence by importance)\n",
    "3. Constrained optimization\n",
    "4. **Local search**/**heuristics**\n",
    "\n",
    "Here, we will use a heurisric local search algorithm.\n",
    "\n"
   ]
  },
  {
   "cell_type": "markdown",
   "metadata": {},
   "source": [
    "## Concepts in multi-objective optimization\n",
    "\n",
    "- We need to minimize several objective functions.\n",
    "- In many practical applications, the objectives are conflicting.\n",
    "- Improving one objective may deteriorate several others (e.g., risk vs reward).\n",
    "\n",
    "$$\n",
    "min F(x) = (f_1(x), ..., f_p(x))\n",
    "$$\n",
    "subject to\n",
    "$$\n",
    "x \\in F \\subseteq \\mathbb{R}^n\n",
    "$$\n",
    "where\n",
    "$$\n",
    "F: \\mathbb{R}^n \\rightarrow \\mathbb{R}^p\n",
    "$$"
   ]
  },
  {
   "cell_type": "markdown",
   "metadata": {},
   "source": [
    "## Dominance\n",
    "\n",
    "Notation:\n",
    "\n",
    "$x_1$ dominates $x_2$: $F(x_1)\\prec F(x_2)$\n",
    "\n",
    "Dominance must fulfill two conditions, assuming we want to **minimize**\n",
    "\n",
    "1. $x_1$ is no worse than $x_2$ in **any** objective: $\\forall i \\in \\{1,...,p\\},f_i(x_1)\\leq f_i(x_2)$\n",
    "2. $x_1$ is strictly better in at least one objective: $\\exists i \\in \\{1,...,p\\}, f_i(x_1)<f_i(x_2)$"
   ]
  },
  {
   "cell_type": "markdown",
   "metadata": {},
   "source": [
    "### Pseudo algorithm for local search\n",
    "\n",
    "Main difference with single objective optimization is that we need to maintain a set $P$ of potential Pareto optimal solutions such that $\\forall x,y \\in P, F(x) \\nprec F(y)$ and $F(y) \\nprec F(x)$.\n",
    "\n",
    "**Initialization:**\n",
    "\n",
    "Start with a first set $P$ of candidate solutions\n",
    "\n",
    "**Main iteration:**\n",
    "\n",
    "1. Select a random solution $x$ from $P$, define $x^+$ as a neighbour solution  \n",
    "2. Define 2 sets: $D(x^+)$ and $S(x^+)$, where\n",
    "\n",
    "$$D(x^+)=\\{y\\in P, s.t. F(x^+)\\prec F(y)\\}$$\n",
    "\n",
    "$$S(x^+)=\\{y\\in P, s.t. F(y)\\prec F(x^+)\\}$$\n",
    "\n",
    "In other words, at each iteration, compare each objective function of the new solution $x^+$ against all $y$ in $P$. If the condition is fulfiled for any of the above, put $y$ into the respective set.\n",
    "\n",
    "3. If $S(x^+)=\\emptyset$ (i.e., if $x^+$ is not dominated by any $y \\in P$)\n",
    "    \n",
    "    Update $P$ (remove all exisiting solutions in the Pareto set, $P$, if it appears in $D$ and add the new solution to $P$):\n",
    "$$\n",
    "P^+ = P\\cup \\{x^+\\} \\setminus D(x^+)\n",
    "$$"
   ]
  },
  {
   "cell_type": "markdown",
   "metadata": {},
   "source": [
    "Implement the dominance rule and compute the sets $D$ and $S$ in functions `dominance()` and `generate_D_and_S()`."
   ]
  },
  {
   "cell_type": "code",
   "execution_count": 4,
   "metadata": {},
   "outputs": [],
   "source": [
    "def dominance(cost_x1, cost_x2):\n",
    "    \"\"\"Function to implement\n",
    "    Determines dominance between two solutions based on their cost components with respect to two objectives.\n",
    "\n",
    "    Args:\n",
    "        cost_x1 (list): a list of cost components with respect to objectives f_1 and f_2 for solution x1.\n",
    "        cost_x2 (list): a list of cost components with respect to objectives f_1 and f_2 for solution x2.\n",
    "        \n",
    "    Returns:\n",
    "        bool: True if solution x1 dominates solution x2, False otherwise.\n",
    "        \n",
    "    Examples:\n",
    "        >>> dominance([105, 1.58], [99, 2.25])\n",
    "        True\n",
    "        >>> dominance([105, 1.58], [99, 1.45])\n",
    "        False\n",
    "    \"\"\" \n",
    "    \n",
    "    # Implement your solution here\n",
    "    cost_x1 = np.array(cost_x1)\n",
    "    cost_x2 = np.array(cost_x2)\n",
    "    if (cost_x1 >= cost_x2).all() and (cost_x1 > cost_x2).any():\n",
    "        return True\n",
    "    return False\n",
    "\n",
    "def generate_D_and_S(P, cost_new, item_utilities, item_costs):\n",
    "    \n",
    "    \"\"\"Function to implement\n",
    "    Generates sets of solutions dominated and dominating a new neighbor solution within a Pareto set.\n",
    "\n",
    "    Args:\n",
    "        P (dict): a dictionary containing solutions in a Pareto set.\n",
    "        cost_new (list): a list of cost components with respect to objectives f_1 and f_2 for a new neighbor \n",
    "        solution.\n",
    "        item_utilities (list): a list of the utility u_1, ..., u_n of the items.\n",
    "        item_costs (list): a list of the cost c_1, ..., c_n of the items.\n",
    "\n",
    "    Returns:\n",
    "        D (dict): A set of solutions in P dominated by the new neighbor solution.\n",
    "        S (dict): A set of solutions in P that dominate the new neighbor solution.\n",
    "        \n",
    "    \"\"\" \n",
    "        \n",
    "    D = {}\n",
    "    S = {}\n",
    "    \n",
    "    # Implement your solution here\n",
    "    for k, v in P.items():\n",
    "        cost = [total_cost(v, item_costs), total_utility(v, item_utilities)]\n",
    "        if dominance(cost_new, cost):\n",
    "            S[k] = v\n",
    "        elif dominance(cost, cost_new):\n",
    "            D[k] = v\n",
    "\n",
    "    return D, S"
   ]
  },
  {
   "cell_type": "markdown",
   "metadata": {},
   "source": [
    "### Neighbourhood structures.\n",
    "\n",
    "Implement at least one neighborhood structure. Ensure that this neighborhood structure (or these neighborhood structures) enable(s) exploration of the Pareto frontier, from solutions with low costs and low utilities to solutions with high costs and high utilities. Ensure each neighborhood structure outputs feasible solutions by verifying that the total weight does not exceed the given maximum weight, $W$."
   ]
  },
  {
   "cell_type": "code",
   "execution_count": 5,
   "metadata": {},
   "outputs": [],
   "source": [
    "def neighborhood_i(solution, item_weights, item_utilities, item_costs, W):\n",
    "    \"\"\"Function to implement\n",
    "    Generate a neighbor solution within the neighborhood structure.\n",
    "    Args:\n",
    "        solution (list): a list of all decision variables x_1, ... x_n of a current solution.\n",
    "        item_weights (list): a list of the weight w_1, ..., w_n of the items.\n",
    "        item_utilities (list): a list of the utility u_1, ..., u_n of the items.\n",
    "        item_costs (list): a list of the cost c_1, ..., c_n of the items.\n",
    "        W (int): maximum weight of the knapsack.\n",
    "\n",
    "    Returns:\n",
    "        neighbor (list): a list of all decision variables x_1, ... x_n of a neighboring solution.\n",
    "    \"\"\" \n",
    "    \n",
    "    # Implement your solution here\n",
    "\n",
    "    neighbor = solution.copy()\n",
    "    \n",
    "    # remove one item from the knapsack\n",
    "    while True:\n",
    "        idx = rg.integers(0, len(neighbor))\n",
    "        if neighbor[idx] == 1:\n",
    "            neighbor[idx] = 0\n",
    "            break\n",
    "\n",
    "    # add one item to the knapsack\n",
    "    while True:\n",
    "        idx = rg.integers(0, len(neighbor))\n",
    "        if neighbor[idx] == 0 and weight(neighbor, item_weights) + item_weights[idx] <= W:\n",
    "            neighbor[idx] = 1\n",
    "            break\n",
    "    \n",
    "    return neighbor"
   ]
  },
  {
   "cell_type": "markdown",
   "metadata": {},
   "source": [
    "### Main loop\n",
    "\n",
    "\n",
    "Generate an initial random solution and add it to P. For example, start with 2 random items from the set.\n",
    "\n",
    "\n",
    "Main iteration\n",
    "\n",
    "    a. Select a random solution from set $P$\n",
    "    b. Find neighbor(s)\n",
    "    c. Compute the new cost of the new solution(s)\n",
    "    d. Apply Pareto dominance, i.e., sets $D$ and $S$\n",
    "    e. If $S$ is empty, update $P$\n",
    "\n",
    "        "
   ]
  },
  {
   "cell_type": "code",
   "execution_count": 10,
   "metadata": {},
   "outputs": [],
   "source": [
    "def main(item_weights, item_utilities, item_costs, iterations=100, W=400):\n",
    "    \"\"\"Function to implement\n",
    "\n",
    "    Args:\n",
    "        item_weights (list): a list of the weight w_1, ..., w_n of the items\n",
    "        item_utilities (list): a list of the utility u_1, ..., u_n of the items.\n",
    "        item_costs (list): a list of the cost c_1, ..., c_n of the items.\n",
    "        iterations (int): maximum number of iterations of the algorithm\n",
    "        W (int): maximum weight of the knapsack.\n",
    "\n",
    "    Returns:\n",
    "        P (dict): a dictionary containing solutions in a Pareto set.\n",
    "        D_all (dict): a dictionary containing all dominated solutions.\n",
    "        \n",
    "    \"\"\" \n",
    "    \n",
    "    P = {}\n",
    "    D_all = {}\n",
    "    \n",
    "    # Implement your solution here\n",
    "\n",
    "    # Initialize the first solution\n",
    "    sol = rg.integers(0, 2, len(item_weights))\n",
    "    while weight(sol, item_weights) > W:\n",
    "        sol = rg.integers(0, 2, len(item_weights))\n",
    "    P[0] = sol\n",
    "\n",
    "    for i in range(iterations):\n",
    "        # Generate a new neighbor solution by calculating a neighborhood of one Pareto solution\n",
    "        P_i = list(P.values())[rg.integers(0, len(P))]\n",
    "        sol_new = neighborhood_i(P_i, item_weights, item_utilities, item_costs, W)\n",
    "        \n",
    "        # Calculate the cost of the new solution\n",
    "        cost_new = [total_cost(sol_new, item_costs), total_utility(sol_new, item_utilities)]\n",
    "        \n",
    "        # Generate sets of dominated and dominating solutions\n",
    "        D, S = generate_D_and_S(P, cost_new, item_utilities, item_costs)\n",
    "\n",
    "\n",
    "        if len(S) == 0: # No solution dominates the new solution\n",
    "            # Remove dominated solutions from the Pareto set\n",
    "            for k, v in D.items():\n",
    "                if k in P:\n",
    "                    del P[k]\n",
    "                    D_all[k] = v\n",
    "            \n",
    "            # Add new solution to the Pareto set\n",
    "            P[i + 1] = sol_new\n",
    "    \n",
    "    return P, D_all"
   ]
  },
  {
   "cell_type": "markdown",
   "metadata": {},
   "source": [
    "### Run the optimization"
   ]
  },
  {
   "cell_type": "code",
   "execution_count": 11,
   "metadata": {},
   "outputs": [],
   "source": [
    "rg = Generator(PCG64(42069)) # set your own unique seed number\n",
    "n_items = 20\n",
    "item_weights = rg.integers(10, 50, n_items)\n",
    "item_utilities = rg.integers(0, 100, n_items)\n",
    "item_costs = rg.random(n_items)\n",
    "P, D_all = main(item_weights, item_utilities, item_costs, iterations=1000, W=300) # weight limit=W"
   ]
  },
  {
   "cell_type": "markdown",
   "metadata": {},
   "source": [
    "### View the Pareto frontier"
   ]
  },
  {
   "cell_type": "code",
   "execution_count": 12,
   "metadata": {},
   "outputs": [],
   "source": [
    "def draw_pareto_frontier(P, D_all):\n",
    "    costs_P = []\n",
    "    utilities_P = []\n",
    "    costs_D = []\n",
    "    utilities_D = []\n",
    "\n",
    "    for key, sol in P.items():\n",
    "        cost = total_cost(sol, item_costs)\n",
    "        costs_P.append(cost)\n",
    "        utility = total_utility(sol, item_utilities)\n",
    "        utilities_P.append(utility)\n",
    "\n",
    "    for key, sol in D_all.items():\n",
    "        cost = total_cost(sol, item_costs)\n",
    "        costs_D.append(cost)\n",
    "        utility = total_utility(sol, item_utilities)\n",
    "        utilities_D.append(utility)\n",
    "\n",
    "    trace_P = go.Scatter(x=utilities_P, y=costs_P, mode='markers', name='Non-dominated')\n",
    "    trace_D = go.Scatter(x=utilities_D, y=costs_D, mode='markers', name='Dominated', marker=dict(symbol='x'))\n",
    "\n",
    "    layout = go.Layout(\n",
    "        template=\"presentation\",\n",
    "        xaxis=dict(title='Utility'),\n",
    "        yaxis=dict(title='Cost'),\n",
    "        legend=dict(x=0, y=1),\n",
    "        width=800, \n",
    "        height=600\n",
    "    )\n",
    "\n",
    "    fig = go.Figure(data=[trace_P, trace_D], layout=layout)\n",
    "    fig.show()"
   ]
  },
  {
   "cell_type": "markdown",
   "metadata": {},
   "source": [
    "#### Run the function `draw_pareto_frontier()`"
   ]
  },
  {
   "cell_type": "code",
   "execution_count": 13,
   "metadata": {},
   "outputs": [
    {
     "data": {
      "application/vnd.plotly.v1+json": {
       "config": {
        "plotlyServerURL": "https://plot.ly"
       },
       "data": [
        {
         "mode": "markers",
         "name": "Non-dominated",
         "type": "scatter",
         "x": [
          225,
          247,
          323,
          344,
          323,
          273,
          245,
          281,
          257,
          415,
          232,
          321,
          323,
          257,
          236,
          358,
          358,
          234,
          323,
          243,
          307,
          377,
          323,
          307,
          415,
          307,
          311,
          323,
          247,
          323,
          245,
          377,
          247,
          236,
          275,
          344,
          358,
          273,
          321,
          236,
          323,
          281,
          243,
          398,
          247,
          275,
          273,
          281,
          243,
          243,
          236,
          377,
          323,
          265,
          311,
          281,
          377,
          277,
          358,
          289,
          277,
          245,
          415,
          307,
          265,
          377,
          344,
          293,
          358,
          277,
          377,
          307,
          232,
          275,
          236,
          273,
          323,
          289,
          255,
          415,
          277,
          243,
          232,
          255,
          245,
          289,
          232,
          277,
          243,
          275,
          344,
          321,
          323,
          293,
          344,
          323,
          257,
          377,
          321,
          307,
          344,
          245,
          243,
          377,
          232,
          415,
          377,
          232,
          265,
          243,
          321,
          257,
          344,
          245,
          398,
          265,
          225
         ],
         "y": [
          5.111049521585185,
          3.555989405900901,
          2.0330098125170855,
          1.9144813912348573,
          2.0330098125170855,
          3.19183293318266,
          3.712035122495575,
          2.8681734660703246,
          3.4230728855940575,
          1.224213653509119,
          4.509180021769976,
          2.260243862825488,
          2.0330098125170855,
          3.4230728855940575,
          4.351993606232113,
          1.6862801530672695,
          1.6862801530672695,
          4.471091037848648,
          2.0330098125170855,
          3.713175821438764,
          2.4884451009930757,
          1.5650073500464194,
          2.0330098125170855,
          2.4884451009930757,
          1.224213653509119,
          2.4884451009930757,
          2.3468305778142207,
          2.0330098125170855,
          3.555989405900901,
          2.0330098125170855,
          3.712035122495575,
          1.5650073500464194,
          3.555989405900901,
          4.351993606232113,
          3.1906922342394712,
          1.9144813912348573,
          1.6862801530672695,
          3.19183293318266,
          2.260243862825488,
          4.351993606232113,
          2.0330098125170855,
          2.8681734660703246,
          3.713175821438764,
          1.4464789287641913,
          3.555989405900901,
          3.1906922342394712,
          3.19183293318266,
          2.8681734660703246,
          3.713175821438764,
          3.713175821438764,
          4.351993606232113,
          1.5650073500464194,
          2.0330098125170855,
          3.323608754546315,
          2.3468305778142207,
          2.8681734660703246,
          1.5650073500464194,
          3.0097879892491792,
          1.6862801530672695,
          2.7208257523476616,
          3.0097879892491792,
          3.712035122495575,
          1.224213653509119,
          2.4884451009930757,
          3.323608754546315,
          1.5650073500464194,
          1.9144813912348573,
          2.579211229168807,
          1.6862801530672695,
          3.0097879892491792,
          1.5650073500464194,
          2.4884451009930757,
          4.509180021769976,
          3.1906922342394712,
          4.351993606232113,
          3.19183293318266,
          2.0330098125170855,
          2.7208257523476616,
          3.424213584537246,
          1.224213653509119,
          3.0097879892491792,
          3.713175821438764,
          4.509180021769976,
          3.424213584537246,
          3.712035122495575,
          2.7208257523476616,
          4.509180021769976,
          3.0097879892491792,
          3.713175821438764,
          3.1906922342394712,
          1.9144813912348573,
          2.260243862825488,
          2.0330098125170855,
          2.579211229168807,
          1.9144813912348573,
          2.0330098125170855,
          3.4230728855940575,
          1.5650073500464194,
          2.260243862825488,
          2.4884451009930757,
          1.9144813912348573,
          3.712035122495575,
          3.713175821438764,
          1.5650073500464194,
          4.509180021769976,
          1.224213653509119,
          1.5650073500464194,
          4.509180021769976,
          3.323608754546315,
          3.713175821438764,
          2.260243862825488,
          3.4230728855940575,
          1.9144813912348573,
          3.712035122495575,
          1.4464789287641913,
          3.323608754546315,
          5.111049521585185
         ]
        },
        {
         "marker": {
          "symbol": "x"
         },
         "mode": "markers",
         "name": "Dominated",
         "type": "scatter",
         "x": [
          394,
          416,
          378,
          378,
          378,
          377,
          405,
          370,
          365,
          363,
          340,
          326,
          306,
          339,
          330,
          338,
          271,
          271,
          271,
          374,
          352,
          354,
          347,
          316,
          292,
          296,
          271,
          305,
          269,
          278,
          280,
          348,
          347,
          311,
          311,
          290,
          313,
          290,
          314,
          452,
          400,
          259,
          266,
          259,
          266,
          274,
          257,
          266,
          342,
          328,
          324,
          324,
          346,
          346,
          276,
          282,
          278,
          420,
          314,
          314,
          285,
          285,
          287,
          287,
          284,
          284,
          417,
          381,
          360,
          360,
          360,
          360,
          244,
          280,
          280,
          309,
          309,
          314,
          398,
          398,
          398,
          277,
          277,
          289,
          291,
          291,
          289,
          289,
          289,
          291,
          291,
          289,
          289,
          289,
          291,
          289,
          291
         ],
         "y": [
          3.966267432081721,
          3.5767003651892715,
          3.917494061726572,
          3.917494061726572,
          3.917494061726572,
          3.9775851359896897,
          3.0518139153938466,
          3.3985435748436625,
          2.8747423871347455,
          3.1019764374431475,
          3.258373491114679,
          3.4865747292822666,
          3.8750010972315274,
          2.8142559065466575,
          3.0922442969817423,
          2.9604684756180877,
          4.134271344853091,
          4.134271344853091,
          4.134271344853091,
          2.3427001705580506,
          2.732487588982525,
          2.7313368936143574,
          2.444218502932426,
          2.75858782338317,
          3.937246652350182,
          3.795632129171327,
          4.05577507363241,
          3.430883512663506,
          3.935216312011757,
          3.4539055738172006,
          3.376356128443207,
          2.173179857322205,
          2.3574582768596897,
          3.046414915633455,
          3.046414915633455,
          3.164943336915683,
          2.9440069418638433,
          3.164943336915683,
          2.6729682962536225,
          1.7258208185158939,
          1.6195578677219915,
          4.423233581754609,
          3.7688439046022517,
          4.423233581754609,
          3.7688439046022517,
          3.674016368216736,
          4.650467632063011,
          3.7688439046022517,
          2.1417154415432598,
          2.232481569718991,
          2.389667985256854,
          2.389667985256854,
          2.0001009183644047,
          2.0001009183644047,
          3.305685163255018,
          3.209259746451085,
          3.3045444643118294,
          1.5111448225392774,
          2.460682807886579,
          2.460682807886579,
          2.8780121678855246,
          2.8780121678855246,
          2.876871468942336,
          2.876871468942336,
          2.9820256961426828,
          2.9820256961426828,
          1.3972925924669193,
          1.7408306707428416,
          1.8593590920250698,
          1.8593590920250698,
          1.8593590920250698,
          1.8593590920250698,
          4.220217784868458,
          3.1392121116805454,
          3.1392121116805454,
          2.574064628122623,
          2.574064628122623,
          2.435824279490961,
          1.5185653954877694,
          1.5185653954877694,
          1.5185653954877694,
          3.0346465176447968,
          3.0346465176447968,
          2.73639764470667,
          2.7352569457634814,
          2.7352569457634814,
          2.73639764470667,
          2.73639764470667,
          2.73639764470667,
          2.7352569457634814,
          2.7352569457634814,
          2.73639764470667,
          2.73639764470667,
          2.73639764470667,
          2.7352569457634814,
          2.73639764470667,
          2.7352569457634814
         ]
        }
       ],
       "layout": {
        "height": 600,
        "legend": {
         "x": 0,
         "y": 1
        },
        "template": {
         "data": {
          "pie": [
           {
            "automargin": true,
            "type": "pie"
           }
          ],
          "scatter": [
           {
            "line": {
             "width": 3
            },
            "marker": {
             "size": 9
            },
            "type": "scatter"
           }
          ],
          "scatter3d": [
           {
            "line": {
             "width": 3
            },
            "marker": {
             "size": 9
            },
            "type": "scatter3d"
           }
          ],
          "scattergeo": [
           {
            "line": {
             "width": 3
            },
            "marker": {
             "size": 9
            },
            "type": "scattergeo"
           }
          ],
          "scattergl": [
           {
            "line": {
             "width": 3
            },
            "marker": {
             "size": 9
            },
            "type": "scattergl"
           }
          ],
          "scatterpolar": [
           {
            "line": {
             "width": 3
            },
            "marker": {
             "size": 9
            },
            "type": "scatterpolar"
           }
          ],
          "scatterpolargl": [
           {
            "line": {
             "width": 3
            },
            "marker": {
             "size": 9
            },
            "type": "scatterpolargl"
           }
          ],
          "scatterternary": [
           {
            "line": {
             "width": 3
            },
            "marker": {
             "size": 9
            },
            "type": "scatterternary"
           }
          ],
          "table": [
           {
            "cells": {
             "height": 30
            },
            "header": {
             "height": 36
            },
            "type": "table"
           }
          ]
         },
         "layout": {
          "font": {
           "size": 18
          },
          "xaxis": {
           "title": {
            "standoff": 15
           }
          },
          "yaxis": {
           "title": {
            "standoff": 15
           }
          }
         }
        },
        "width": 800,
        "xaxis": {
         "title": {
          "text": "Utility"
         }
        },
        "yaxis": {
         "title": {
          "text": "Cost"
         }
        }
       }
      }
     },
     "metadata": {},
     "output_type": "display_data"
    }
   ],
   "source": [
    "draw_pareto_frontier(P, D_all)"
   ]
  },
  {
   "cell_type": "markdown",
   "metadata": {},
   "source": [
    "## Further exercises\n",
    "\n",
    "Try to implement a full enumaration algorithm. Use the `itertools.product()` function to generate all possible solutions. Apply dominance conditions. \n",
    "\n",
    "Calculate the computational time and limitations of the full enumeration.\n",
    "\n",
    "What is the maximum problem size (number of items) that you could solve with this approach?"
   ]
  },
  {
   "cell_type": "code",
   "execution_count": null,
   "metadata": {},
   "outputs": [],
   "source": [
    "from itertools import product"
   ]
  },
  {
   "cell_type": "code",
   "execution_count": null,
   "metadata": {},
   "outputs": [],
   "source": [
    "def knapsack_fe(item_weights, item_utilities, item_costs, W=400):\n",
    "    \"\"\"Function to implement\n",
    "\n",
    "    Args:\n",
    "        item_weights (list): a list of the weight w_1, ..., w_n of the items\n",
    "        item_utilities (list): a list of the utility u_1, ..., u_n of the items.\n",
    "        item_costs (list): a list of the cost c_1, ..., c_n of the items.\n",
    "        W (int): maximum weight of the knapsack.\n",
    "\n",
    "    Returns:\n",
    "        P (dict): a dictionary containing solutions in a Pareto set.\n",
    "        D_all (dict): a dictionary containing all dominated solutions.\n",
    "        \n",
    "    \"\"\" \n",
    "    \n",
    "    P = {}\n",
    "    D_all = {}\n",
    "    \n",
    "    # Implement your solution here\n",
    "    \n",
    "    return P, D_all"
   ]
  },
  {
   "cell_type": "code",
   "execution_count": null,
   "metadata": {},
   "outputs": [],
   "source": [
    "P_fe, D_all_fe = knapsack_fe(item_weights, item_utilities, item_costs, W=300) # weight limit=W\n",
    "draw_pareto_frontier(P_fe, D_all_fe)"
   ]
  }
 ],
 "metadata": {
  "kernelspec": {
   "display_name": "env_optisimu",
   "language": "python",
   "name": "python3"
  },
  "language_info": {
   "codemirror_mode": {
    "name": "ipython",
    "version": 3
   },
   "file_extension": ".py",
   "mimetype": "text/x-python",
   "name": "python",
   "nbconvert_exporter": "python",
   "pygments_lexer": "ipython3",
   "version": "3.10.9"
  },
  "varInspector": {
   "cols": {
    "lenName": 16,
    "lenType": 16,
    "lenVar": 40
   },
   "kernels_config": {
    "python": {
     "delete_cmd_postfix": "",
     "delete_cmd_prefix": "del ",
     "library": "var_list.py",
     "varRefreshCmd": "print(var_dic_list())"
    },
    "r": {
     "delete_cmd_postfix": ") ",
     "delete_cmd_prefix": "rm(",
     "library": "var_list.r",
     "varRefreshCmd": "cat(var_dic_list()) "
    }
   },
   "types_to_exclude": [
    "module",
    "function",
    "builtin_function_or_method",
    "instance",
    "_Feature"
   ],
   "window_display": false
  }
 },
 "nbformat": 4,
 "nbformat_minor": 4
}
