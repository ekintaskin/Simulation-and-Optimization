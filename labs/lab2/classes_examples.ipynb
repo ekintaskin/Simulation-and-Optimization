{
 "cells": [
  {
   "cell_type": "markdown",
   "metadata": {},
   "source": [
    "# Classes in Python\n",
    "\n",
    "- Python is an __object-oriented__ programming language.\n",
    "- An __object__ is a collection of __data__ and __methods__.\n",
    "- __Classes__ are object constructors in Python. An __object__ is an __instance__ of a class.\n",
    "- __Inheritance__ enables deriving __children__ classes from __parent__ classes. The children classes inherent the functionality of their parents.\n",
    "\n",
    "## Example"
   ]
  },
  {
   "cell_type": "code",
   "execution_count": 14,
   "metadata": {},
   "outputs": [],
   "source": [
    "class Boat:\n",
    "    def __init__(self, loa, beam, displacement):\n",
    "        self.loa = loa\n",
    "        self.beam = beam\n",
    "        self.displacement = displacement\n",
    "        self.sog = 0\n",
    "        self.heading = None\n",
    "        \n",
    "    def dock(self):\n",
    "        self.sog = 0"
   ]
  },
  {
   "cell_type": "code",
   "execution_count": 15,
   "metadata": {},
   "outputs": [],
   "source": [
    "class SailBoat(Boat):\n",
    "    \n",
    "    def __init__(self, loa, beam, displacement, masts):\n",
    "        super().__init__(loa, beam, displacement)\n",
    "        self.masts = masts\n",
    "        \n",
    "    def tack(self, new_heading):\n",
    "        self.heading = new_heading\n",
    "        \n",
    "    def jibe(self, new_heading):\n",
    "        self.heading = new_heading  "
   ]
  },
  {
   "cell_type": "code",
   "execution_count": 16,
   "metadata": {},
   "outputs": [],
   "source": [
    "class PowerBoat(Boat):\n",
    "    def __init__(self, loa, beam, displacement, engine_power):\n",
    "        super().__init__(loa, beam, displacement)\n",
    "        self.engine_power = engine_power\n",
    "        self.power_output = 0\n",
    "        \n",
    "    def accelerate(self, output_increase):\n",
    "        self.power_output += output_increase"
   ]
  },
  {
   "cell_type": "code",
   "execution_count": 17,
   "metadata": {},
   "outputs": [],
   "source": [
    "sv_lemania = SailBoat(loa=20, beam=10, displacement=4, masts=[30])"
   ]
  },
  {
   "cell_type": "code",
   "execution_count": 18,
   "metadata": {},
   "outputs": [
    {
     "data": {
      "text/plain": [
       "<__main__.SailBoat at 0x7fd56e496d90>"
      ]
     },
     "execution_count": 18,
     "metadata": {},
     "output_type": "execute_result"
    }
   ],
   "source": [
    "sv_lemania"
   ]
  },
  {
   "cell_type": "code",
   "execution_count": 19,
   "metadata": {},
   "outputs": [
    {
     "data": {
      "text/plain": [
       "True"
      ]
     },
     "execution_count": 19,
     "metadata": {},
     "output_type": "execute_result"
    }
   ],
   "source": [
    "isinstance(sv_lemania, SailBoat)"
   ]
  },
  {
   "cell_type": "code",
   "execution_count": 20,
   "metadata": {},
   "outputs": [
    {
     "data": {
      "text/plain": [
       "20"
      ]
     },
     "execution_count": 20,
     "metadata": {},
     "output_type": "execute_result"
    }
   ],
   "source": [
    "sv_lemania.loa"
   ]
  },
  {
   "cell_type": "code",
   "execution_count": 21,
   "metadata": {},
   "outputs": [],
   "source": [
    "sv_lemania.tack(10)"
   ]
  },
  {
   "cell_type": "code",
   "execution_count": 22,
   "metadata": {},
   "outputs": [
    {
     "data": {
      "text/plain": [
       "10"
      ]
     },
     "execution_count": 22,
     "metadata": {},
     "output_type": "execute_result"
    }
   ],
   "source": [
    "sv_lemania.heading"
   ]
  },
  {
   "cell_type": "code",
   "execution_count": 23,
   "metadata": {},
   "outputs": [],
   "source": [
    "sv_lemania.sog = 10"
   ]
  },
  {
   "cell_type": "code",
   "execution_count": 24,
   "metadata": {},
   "outputs": [],
   "source": [
    "sv_lemania.dock()"
   ]
  },
  {
   "cell_type": "code",
   "execution_count": 25,
   "metadata": {},
   "outputs": [
    {
     "data": {
      "text/plain": [
       "0"
      ]
     },
     "execution_count": 25,
     "metadata": {},
     "output_type": "execute_result"
    }
   ],
   "source": [
    "sv_lemania.sog"
   ]
  },
  {
   "cell_type": "code",
   "execution_count": null,
   "metadata": {},
   "outputs": [],
   "source": []
  }
 ],
 "metadata": {
  "kernelspec": {
   "display_name": "Python 3",
   "language": "python",
   "name": "python3"
  },
  "language_info": {
   "codemirror_mode": {
    "name": "ipython",
    "version": 3
   },
   "file_extension": ".py",
   "mimetype": "text/x-python",
   "name": "python",
   "nbconvert_exporter": "python",
   "pygments_lexer": "ipython3",
   "version": "3.8.5"
  }
 },
 "nbformat": 4,
 "nbformat_minor": 2
}
