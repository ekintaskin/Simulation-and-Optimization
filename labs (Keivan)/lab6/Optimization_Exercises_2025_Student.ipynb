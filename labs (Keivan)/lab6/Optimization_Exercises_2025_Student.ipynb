{
 "cells": [
  {
   "cell_type": "markdown",
   "metadata": {},
   "source": [
    "**Submitted by `your_name` on `date_of_submission`**"
   ]
  },
  {
   "cell_type": "markdown",
   "metadata": {},
   "source": [
    "# Optimization Exercises\n",
    "\n",
    "This notebook was written by Selin Ataç (selin.atac@epfl.ch) and edited by Dr. Léa Ricard (lea.ricard@epfl.ch) for the Optimization and Simulation course at EPFL (https://edu.epfl.ch/studyplan/en/doctoral_school/civil-and-environmental-engineering/coursebook/optimization-and-simulation-MATH-600). \n",
    "\n",
    "Please contact before distributing or reusing the material below."
   ]
  },
  {
   "cell_type": "markdown",
   "metadata": {},
   "source": [
    "\n",
    "## Table of Contents\n",
    "* [Travelling Salesman Problem](#Travelling-Salesman-Problem)\n",
    "    * [Problem definition and encoding](#Problem-definition)\n",
    "    * [Implementation: The core functionality](#Implementation)\n",
    "* [Optimization Algorithms](#Optimization-algorithms)\n",
    "    * [Exercise 1: Full enumeration](#Exercise-1:-Full-enumeration)\n",
    "    * [Exercise 2: Greedy algorithm](#Exercise-2:-Greedy-algorithm)\n",
    "    * [Exercise 3: Local search](#Exercise-3:-Local-search)\n",
    "    * [Exercise 4: Variable Neighborhood Search](#Exercise-4:-Variable-Neighborhood-Search)\n",
    "    * [Exercise 5: Simulated annealing](#Exercise-5:-Simulated-annealing)\n",
    "* [Testing the optimization algorithms and solution profiling](#Testing-the-optimization-algorithms-and-solution-profiling)"
   ]
  },
  {
   "cell_type": "markdown",
   "metadata": {},
   "source": [
    "## Travelling Salesman Problem\n",
    "\n",
    "### Problem definition\n",
    "\n",
    "- A salesman must visit $n$ cities.\n",
    "- Every city must be visited exactly once.\n",
    "- The salesman starts and ends the trip at their home city.\n",
    "- The total trip length is assumed to be the cost of the travel."
   ]
  },
  {
   "cell_type": "markdown",
   "metadata": {},
   "source": [
    "### Objective\n",
    "\n",
    "What sequence of cities minimizes the travel cost?"
   ]
  },
  {
   "cell_type": "markdown",
   "metadata": {},
   "source": [
    "### Problem encoding\n",
    "\n",
    "We consecutively number the cities: $0,..., n$\n",
    "\n",
    "We encode the solutions as $x=(x_0, x_1,..., x_n, x_0)$ where\n",
    "\n",
    "- $x_0$ is the index of the home city,\n",
    "- $x_i$ is the index of the $i^{th}$ city visited along the way, and\n",
    "- $x_n$ is the index of the last city visited before returning home."
   ]
  },
  {
   "cell_type": "markdown",
   "metadata": {},
   "source": [
    "### Implementation"
   ]
  },
  {
   "cell_type": "markdown",
   "metadata": {},
   "source": [
    "#### The required python libraries\n",
    "You will use the following python libraries in this exercise: `numpy`, `plotly`. Install it using `pip` on your command line:\n",
    "\n",
    "    pip install numpy plotly\n",
    "\n",
    "or if you are using conda:\n",
    "\n",
    "    conda install numpy\n",
    "    conda install -c plotly plotly"
   ]
  },
  {
   "cell_type": "code",
   "execution_count": 1,
   "metadata": {
    "tags": [
     "hide-cell"
    ]
   },
   "outputs": [],
   "source": [
    "import numpy as np\n",
    "import pandas as pd\n",
    "import plotly\n",
    "import plotly.graph_objects as go\n",
    "import time\n",
    "import timeit\n",
    "import math\n",
    "\n",
    "from numpy.random import Generator, PCG64 \n",
    "from plotly.subplots import make_subplots"
   ]
  },
  {
   "cell_type": "markdown",
   "metadata": {},
   "source": [
    "### The core functionality\n",
    "\n",
    "Before we optimize the path of the salesman, we need to construct several functions to help us simulate and display the path of the salesman.\n",
    "\n",
    "Begin by implementing a function for simulating city locations on an x-y grid. \n",
    "At the end of this step, you will be able to generate a plot of cities on an x-y coordinate plot, path of the salesman, and a list of tuples representing the location of the cities."
   ]
  },
  {
   "cell_type": "markdown",
   "metadata": {},
   "source": [
    "1. Implement a function `simulate_cities(rg, n_cities)` which takes as input: \n",
    "  - `rg` : a numpy random generator object with a specified seed value\n",
    "  - `n_cities`: an integer for the number of cities to generate\n",
    " \n",
    " The return of the function should be a dictionary of tuples, e.g., `{0: (x0,y0), 1: (x1,y1), ..., n: (xn,yn)}`"
   ]
  },
  {
   "cell_type": "code",
   "execution_count": 2,
   "metadata": {},
   "outputs": [],
   "source": [
    "def simulate_cities(rg, n_cities):\n",
    "    \"\"\"Function to implement\n",
    "\n",
    "    Args:\n",
    "        rg (Generator object): a numpy random generator object with a specified seed value\n",
    "        n_cities (int) : an integer for the number of cities to generate\n",
    "        \n",
    "    Returns:\n",
    "        cities (dict): data structure that contains supplementary \n",
    "            information about the problem, in particular the xy-coordinates of the \n",
    "            cities.\n",
    "    \n",
    "    Example:\n",
    "        rg = Generator(PCG64(42069))\n",
    "        simulate_cities(rg, 2)\n",
    "        >>> {0: (2.4, 1.4), 1: (0.2, 3.5)}   \n",
    "    \"\"\"  \n",
    "    # Implement your solution here\n",
    "    cities = {}\n",
    "    \n",
    "    for i in range(n_cities):\n",
    "        cities[i] = (rg.random(),rg.random())\n",
    "        \n",
    "    return cities"
   ]
  },
  {
   "cell_type": "markdown",
   "metadata": {},
   "source": [
    "#### Test the function `simulate_cities(rg, n_cities)`"
   ]
  },
  {
   "cell_type": "code",
   "execution_count": 3,
   "metadata": {
    "scrolled": true
   },
   "outputs": [
    {
     "data": {
      "text/plain": [
       "{0: (0.9478996465627648, 0.2974102502883651),\n",
       " 1: (0.07180247229372805, 0.3295081953938601),\n",
       " 2: (0.5594414353429973, 0.8634674736423997),\n",
       " 3: (0.721347982465723, 0.691424444294593),\n",
       " 4: (0.5408533259842724, 0.4535449329926894),\n",
       " 5: (0.8072731499300757, 0.35227676836708866),\n",
       " 6: (0.6985951690873387, 0.735711881881111),\n",
       " 7: (0.7701562520511277, 0.7905928224207733),\n",
       " 8: (0.3989059418598707, 0.34322732737709305),\n",
       " 9: (0.5754637086577505, 0.6388855586960542)}"
      ]
     },
     "execution_count": 3,
     "metadata": {},
     "output_type": "execute_result"
    }
   ],
   "source": [
    "rg = Generator(PCG64(42069)) # set your own unique seed number\n",
    "simulate_cities(rg, 10)"
   ]
  },
  {
   "cell_type": "markdown",
   "metadata": {},
   "source": [
    "2. Implement a function `draw_salesman(path, cities)` which takes as input:\n",
    "  - `path`: a list of integers which represents the sequence of cities visited, e.g. `[0,1,3,2,4,0]` \n",
    "  - `cities`: a dictionary of city x-y coordinates, keyed by the number of the city, use the return value of the `simulate_cities()` function as example: `{0: (x0,y0), 1: (x1,y1), ..., n: (xn,yn)}`\n",
    "  \n",
    " The return of the function should display a visualization of the cities visited."
   ]
  },
  {
   "cell_type": "code",
   "execution_count": 4,
   "metadata": {},
   "outputs": [],
   "source": [
    "def draw_salesman(path, cities, title=\"Path taken\"):\n",
    "    \"\"\"Function to implement\n",
    "\n",
    "    Args:\n",
    "        path (list): a row vector representing the solution to be evaluated\n",
    "        cities (dict): data structure that contains supplementary \n",
    "            information about the problem, in particular the xy-coordinates of the \n",
    "            cities.\n",
    "        **kwargs: arbitrary keyword arguments (optional variables)\n",
    "    \"\"\"  \n",
    "    # Implement your solution here\n",
    "    xs = [cities[x][0] for x in path]\n",
    "    ys = [cities[x][1] for x in path]    \n",
    "    texts = [str(x) for x in path[1:-1]]\n",
    "    \n",
    "    fig = go.Figure()\n",
    "    fig.add_trace(go.Scatter(x=xs, y=ys, mode='lines'))\n",
    "    fig.add_trace(go.Scatter(x=[xs[0]], y=[ys[0]], text=\"0\",\n",
    "                             mode='markers', marker=dict(size=10,symbol='star')))\n",
    "    fig.add_trace(go.Scatter(x=xs[1:-1], y=ys[1:-1], text=texts,\n",
    "                             mode='markers', marker=dict(size=10,symbol='x')))\n",
    "    \n",
    "    fig.update_layout(\n",
    "        width=500,\n",
    "        height=500,\n",
    "        showlegend=False)\n",
    "    \n",
    "    fig.show()"
   ]
  },
  {
   "cell_type": "markdown",
   "metadata": {},
   "source": [
    "#### Test the function `draw_salesman(path, cities)`"
   ]
  },
  {
   "cell_type": "code",
   "execution_count": 5,
   "metadata": {},
   "outputs": [
    {
     "name": "stdout",
     "output_type": "stream",
     "text": [
      "Cities: {0: (0.9478996465627648, 0.2974102502883651), 1: (0.07180247229372805, 0.3295081953938601), 2: (0.5594414353429973, 0.8634674736423997), 3: (0.721347982465723, 0.691424444294593), 4: (0.5408533259842724, 0.4535449329926894), 5: (0.8072731499300757, 0.35227676836708866), 6: (0.6985951690873387, 0.735711881881111), 7: (0.7701562520511277, 0.7905928224207733), 8: (0.3989059418598707, 0.34322732737709305), 9: (0.5754637086577505, 0.6388855586960542)}\n",
      "Path Solution: [0, 1, 2, 3, 4, 5, 6, 7, 8, 9, 0]\n"
     ]
    },
    {
     "data": {
      "application/vnd.plotly.v1+json": {
       "config": {
        "plotlyServerURL": "https://plot.ly"
       },
       "data": [
        {
         "mode": "lines",
         "type": "scatter",
         "x": [
          0.9478996465627648,
          0.07180247229372805,
          0.5594414353429973,
          0.721347982465723,
          0.5408533259842724,
          0.8072731499300757,
          0.6985951690873387,
          0.7701562520511277,
          0.3989059418598707,
          0.5754637086577505,
          0.9478996465627648
         ],
         "y": [
          0.2974102502883651,
          0.3295081953938601,
          0.8634674736423997,
          0.691424444294593,
          0.4535449329926894,
          0.35227676836708866,
          0.735711881881111,
          0.7905928224207733,
          0.34322732737709305,
          0.6388855586960542,
          0.2974102502883651
         ]
        },
        {
         "marker": {
          "size": 10,
          "symbol": "star"
         },
         "mode": "markers",
         "text": "0",
         "type": "scatter",
         "x": [
          0.9478996465627648
         ],
         "y": [
          0.2974102502883651
         ]
        },
        {
         "marker": {
          "size": 10,
          "symbol": "x"
         },
         "mode": "markers",
         "text": [
          "1",
          "2",
          "3",
          "4",
          "5",
          "6",
          "7",
          "8",
          "9"
         ],
         "type": "scatter",
         "x": [
          0.07180247229372805,
          0.5594414353429973,
          0.721347982465723,
          0.5408533259842724,
          0.8072731499300757,
          0.6985951690873387,
          0.7701562520511277,
          0.3989059418598707,
          0.5754637086577505
         ],
         "y": [
          0.3295081953938601,
          0.8634674736423997,
          0.691424444294593,
          0.4535449329926894,
          0.35227676836708866,
          0.735711881881111,
          0.7905928224207733,
          0.34322732737709305,
          0.6388855586960542
         ]
        }
       ],
       "layout": {
        "height": 500,
        "showlegend": false,
        "template": {
         "data": {
          "bar": [
           {
            "error_x": {
             "color": "#2a3f5f"
            },
            "error_y": {
             "color": "#2a3f5f"
            },
            "marker": {
             "line": {
              "color": "#E5ECF6",
              "width": 0.5
             },
             "pattern": {
              "fillmode": "overlay",
              "size": 10,
              "solidity": 0.2
             }
            },
            "type": "bar"
           }
          ],
          "barpolar": [
           {
            "marker": {
             "line": {
              "color": "#E5ECF6",
              "width": 0.5
             },
             "pattern": {
              "fillmode": "overlay",
              "size": 10,
              "solidity": 0.2
             }
            },
            "type": "barpolar"
           }
          ],
          "carpet": [
           {
            "aaxis": {
             "endlinecolor": "#2a3f5f",
             "gridcolor": "white",
             "linecolor": "white",
             "minorgridcolor": "white",
             "startlinecolor": "#2a3f5f"
            },
            "baxis": {
             "endlinecolor": "#2a3f5f",
             "gridcolor": "white",
             "linecolor": "white",
             "minorgridcolor": "white",
             "startlinecolor": "#2a3f5f"
            },
            "type": "carpet"
           }
          ],
          "choropleth": [
           {
            "colorbar": {
             "outlinewidth": 0,
             "ticks": ""
            },
            "type": "choropleth"
           }
          ],
          "contour": [
           {
            "colorbar": {
             "outlinewidth": 0,
             "ticks": ""
            },
            "colorscale": [
             [
              0,
              "#0d0887"
             ],
             [
              0.1111111111111111,
              "#46039f"
             ],
             [
              0.2222222222222222,
              "#7201a8"
             ],
             [
              0.3333333333333333,
              "#9c179e"
             ],
             [
              0.4444444444444444,
              "#bd3786"
             ],
             [
              0.5555555555555556,
              "#d8576b"
             ],
             [
              0.6666666666666666,
              "#ed7953"
             ],
             [
              0.7777777777777778,
              "#fb9f3a"
             ],
             [
              0.8888888888888888,
              "#fdca26"
             ],
             [
              1,
              "#f0f921"
             ]
            ],
            "type": "contour"
           }
          ],
          "contourcarpet": [
           {
            "colorbar": {
             "outlinewidth": 0,
             "ticks": ""
            },
            "type": "contourcarpet"
           }
          ],
          "heatmap": [
           {
            "colorbar": {
             "outlinewidth": 0,
             "ticks": ""
            },
            "colorscale": [
             [
              0,
              "#0d0887"
             ],
             [
              0.1111111111111111,
              "#46039f"
             ],
             [
              0.2222222222222222,
              "#7201a8"
             ],
             [
              0.3333333333333333,
              "#9c179e"
             ],
             [
              0.4444444444444444,
              "#bd3786"
             ],
             [
              0.5555555555555556,
              "#d8576b"
             ],
             [
              0.6666666666666666,
              "#ed7953"
             ],
             [
              0.7777777777777778,
              "#fb9f3a"
             ],
             [
              0.8888888888888888,
              "#fdca26"
             ],
             [
              1,
              "#f0f921"
             ]
            ],
            "type": "heatmap"
           }
          ],
          "histogram": [
           {
            "marker": {
             "pattern": {
              "fillmode": "overlay",
              "size": 10,
              "solidity": 0.2
             }
            },
            "type": "histogram"
           }
          ],
          "histogram2d": [
           {
            "colorbar": {
             "outlinewidth": 0,
             "ticks": ""
            },
            "colorscale": [
             [
              0,
              "#0d0887"
             ],
             [
              0.1111111111111111,
              "#46039f"
             ],
             [
              0.2222222222222222,
              "#7201a8"
             ],
             [
              0.3333333333333333,
              "#9c179e"
             ],
             [
              0.4444444444444444,
              "#bd3786"
             ],
             [
              0.5555555555555556,
              "#d8576b"
             ],
             [
              0.6666666666666666,
              "#ed7953"
             ],
             [
              0.7777777777777778,
              "#fb9f3a"
             ],
             [
              0.8888888888888888,
              "#fdca26"
             ],
             [
              1,
              "#f0f921"
             ]
            ],
            "type": "histogram2d"
           }
          ],
          "histogram2dcontour": [
           {
            "colorbar": {
             "outlinewidth": 0,
             "ticks": ""
            },
            "colorscale": [
             [
              0,
              "#0d0887"
             ],
             [
              0.1111111111111111,
              "#46039f"
             ],
             [
              0.2222222222222222,
              "#7201a8"
             ],
             [
              0.3333333333333333,
              "#9c179e"
             ],
             [
              0.4444444444444444,
              "#bd3786"
             ],
             [
              0.5555555555555556,
              "#d8576b"
             ],
             [
              0.6666666666666666,
              "#ed7953"
             ],
             [
              0.7777777777777778,
              "#fb9f3a"
             ],
             [
              0.8888888888888888,
              "#fdca26"
             ],
             [
              1,
              "#f0f921"
             ]
            ],
            "type": "histogram2dcontour"
           }
          ],
          "mesh3d": [
           {
            "colorbar": {
             "outlinewidth": 0,
             "ticks": ""
            },
            "type": "mesh3d"
           }
          ],
          "parcoords": [
           {
            "line": {
             "colorbar": {
              "outlinewidth": 0,
              "ticks": ""
             }
            },
            "type": "parcoords"
           }
          ],
          "pie": [
           {
            "automargin": true,
            "type": "pie"
           }
          ],
          "scatter": [
           {
            "fillpattern": {
             "fillmode": "overlay",
             "size": 10,
             "solidity": 0.2
            },
            "type": "scatter"
           }
          ],
          "scatter3d": [
           {
            "line": {
             "colorbar": {
              "outlinewidth": 0,
              "ticks": ""
             }
            },
            "marker": {
             "colorbar": {
              "outlinewidth": 0,
              "ticks": ""
             }
            },
            "type": "scatter3d"
           }
          ],
          "scattercarpet": [
           {
            "marker": {
             "colorbar": {
              "outlinewidth": 0,
              "ticks": ""
             }
            },
            "type": "scattercarpet"
           }
          ],
          "scattergeo": [
           {
            "marker": {
             "colorbar": {
              "outlinewidth": 0,
              "ticks": ""
             }
            },
            "type": "scattergeo"
           }
          ],
          "scattergl": [
           {
            "marker": {
             "colorbar": {
              "outlinewidth": 0,
              "ticks": ""
             }
            },
            "type": "scattergl"
           }
          ],
          "scattermap": [
           {
            "marker": {
             "colorbar": {
              "outlinewidth": 0,
              "ticks": ""
             }
            },
            "type": "scattermap"
           }
          ],
          "scattermapbox": [
           {
            "marker": {
             "colorbar": {
              "outlinewidth": 0,
              "ticks": ""
             }
            },
            "type": "scattermapbox"
           }
          ],
          "scatterpolar": [
           {
            "marker": {
             "colorbar": {
              "outlinewidth": 0,
              "ticks": ""
             }
            },
            "type": "scatterpolar"
           }
          ],
          "scatterpolargl": [
           {
            "marker": {
             "colorbar": {
              "outlinewidth": 0,
              "ticks": ""
             }
            },
            "type": "scatterpolargl"
           }
          ],
          "scatterternary": [
           {
            "marker": {
             "colorbar": {
              "outlinewidth": 0,
              "ticks": ""
             }
            },
            "type": "scatterternary"
           }
          ],
          "surface": [
           {
            "colorbar": {
             "outlinewidth": 0,
             "ticks": ""
            },
            "colorscale": [
             [
              0,
              "#0d0887"
             ],
             [
              0.1111111111111111,
              "#46039f"
             ],
             [
              0.2222222222222222,
              "#7201a8"
             ],
             [
              0.3333333333333333,
              "#9c179e"
             ],
             [
              0.4444444444444444,
              "#bd3786"
             ],
             [
              0.5555555555555556,
              "#d8576b"
             ],
             [
              0.6666666666666666,
              "#ed7953"
             ],
             [
              0.7777777777777778,
              "#fb9f3a"
             ],
             [
              0.8888888888888888,
              "#fdca26"
             ],
             [
              1,
              "#f0f921"
             ]
            ],
            "type": "surface"
           }
          ],
          "table": [
           {
            "cells": {
             "fill": {
              "color": "#EBF0F8"
             },
             "line": {
              "color": "white"
             }
            },
            "header": {
             "fill": {
              "color": "#C8D4E3"
             },
             "line": {
              "color": "white"
             }
            },
            "type": "table"
           }
          ]
         },
         "layout": {
          "annotationdefaults": {
           "arrowcolor": "#2a3f5f",
           "arrowhead": 0,
           "arrowwidth": 1
          },
          "autotypenumbers": "strict",
          "coloraxis": {
           "colorbar": {
            "outlinewidth": 0,
            "ticks": ""
           }
          },
          "colorscale": {
           "diverging": [
            [
             0,
             "#8e0152"
            ],
            [
             0.1,
             "#c51b7d"
            ],
            [
             0.2,
             "#de77ae"
            ],
            [
             0.3,
             "#f1b6da"
            ],
            [
             0.4,
             "#fde0ef"
            ],
            [
             0.5,
             "#f7f7f7"
            ],
            [
             0.6,
             "#e6f5d0"
            ],
            [
             0.7,
             "#b8e186"
            ],
            [
             0.8,
             "#7fbc41"
            ],
            [
             0.9,
             "#4d9221"
            ],
            [
             1,
             "#276419"
            ]
           ],
           "sequential": [
            [
             0,
             "#0d0887"
            ],
            [
             0.1111111111111111,
             "#46039f"
            ],
            [
             0.2222222222222222,
             "#7201a8"
            ],
            [
             0.3333333333333333,
             "#9c179e"
            ],
            [
             0.4444444444444444,
             "#bd3786"
            ],
            [
             0.5555555555555556,
             "#d8576b"
            ],
            [
             0.6666666666666666,
             "#ed7953"
            ],
            [
             0.7777777777777778,
             "#fb9f3a"
            ],
            [
             0.8888888888888888,
             "#fdca26"
            ],
            [
             1,
             "#f0f921"
            ]
           ],
           "sequentialminus": [
            [
             0,
             "#0d0887"
            ],
            [
             0.1111111111111111,
             "#46039f"
            ],
            [
             0.2222222222222222,
             "#7201a8"
            ],
            [
             0.3333333333333333,
             "#9c179e"
            ],
            [
             0.4444444444444444,
             "#bd3786"
            ],
            [
             0.5555555555555556,
             "#d8576b"
            ],
            [
             0.6666666666666666,
             "#ed7953"
            ],
            [
             0.7777777777777778,
             "#fb9f3a"
            ],
            [
             0.8888888888888888,
             "#fdca26"
            ],
            [
             1,
             "#f0f921"
            ]
           ]
          },
          "colorway": [
           "#636efa",
           "#EF553B",
           "#00cc96",
           "#ab63fa",
           "#FFA15A",
           "#19d3f3",
           "#FF6692",
           "#B6E880",
           "#FF97FF",
           "#FECB52"
          ],
          "font": {
           "color": "#2a3f5f"
          },
          "geo": {
           "bgcolor": "white",
           "lakecolor": "white",
           "landcolor": "#E5ECF6",
           "showlakes": true,
           "showland": true,
           "subunitcolor": "white"
          },
          "hoverlabel": {
           "align": "left"
          },
          "hovermode": "closest",
          "mapbox": {
           "style": "light"
          },
          "paper_bgcolor": "white",
          "plot_bgcolor": "#E5ECF6",
          "polar": {
           "angularaxis": {
            "gridcolor": "white",
            "linecolor": "white",
            "ticks": ""
           },
           "bgcolor": "#E5ECF6",
           "radialaxis": {
            "gridcolor": "white",
            "linecolor": "white",
            "ticks": ""
           }
          },
          "scene": {
           "xaxis": {
            "backgroundcolor": "#E5ECF6",
            "gridcolor": "white",
            "gridwidth": 2,
            "linecolor": "white",
            "showbackground": true,
            "ticks": "",
            "zerolinecolor": "white"
           },
           "yaxis": {
            "backgroundcolor": "#E5ECF6",
            "gridcolor": "white",
            "gridwidth": 2,
            "linecolor": "white",
            "showbackground": true,
            "ticks": "",
            "zerolinecolor": "white"
           },
           "zaxis": {
            "backgroundcolor": "#E5ECF6",
            "gridcolor": "white",
            "gridwidth": 2,
            "linecolor": "white",
            "showbackground": true,
            "ticks": "",
            "zerolinecolor": "white"
           }
          },
          "shapedefaults": {
           "line": {
            "color": "#2a3f5f"
           }
          },
          "ternary": {
           "aaxis": {
            "gridcolor": "white",
            "linecolor": "white",
            "ticks": ""
           },
           "baxis": {
            "gridcolor": "white",
            "linecolor": "white",
            "ticks": ""
           },
           "bgcolor": "#E5ECF6",
           "caxis": {
            "gridcolor": "white",
            "linecolor": "white",
            "ticks": ""
           }
          },
          "title": {
           "x": 0.05
          },
          "xaxis": {
           "automargin": true,
           "gridcolor": "white",
           "linecolor": "white",
           "ticks": "",
           "title": {
            "standoff": 15
           },
           "zerolinecolor": "white",
           "zerolinewidth": 2
          },
          "yaxis": {
           "automargin": true,
           "gridcolor": "white",
           "linecolor": "white",
           "ticks": "",
           "title": {
            "standoff": 15
           },
           "zerolinecolor": "white",
           "zerolinewidth": 2
          }
         }
        },
        "width": 500
       }
      }
     },
     "metadata": {},
     "output_type": "display_data"
    }
   ],
   "source": [
    "rg = Generator(PCG64(42069)) # set your own unique seed number\n",
    "n_cities = 10\n",
    "cities = simulate_cities(rg, n_cities) # simulate the list of cities\n",
    "print(\"Cities:\", cities)\n",
    "solution = list(range(0, n_cities)) # sample solution of the path of the salesman\n",
    "solution.append(solution[0])\n",
    "print(\"Path Solution:\", solution)\n",
    "draw_salesman(solution, cities) # draw salesman"
   ]
  },
  {
   "cell_type": "markdown",
   "metadata": {},
   "source": [
    "3. Implement a function `evaluate_city_sequence(path, cities)` which takes as input:\n",
    "  - `path`: a list of integers which represents the sequence of cities visited, e.g. `[0,1,3,2,4,0]` \n",
    "  - `cities`: the dict of cities {n: (x, y)}\n",
    "  - The return of the function should be the **total length of the travelled path**.\n",
    "  \n",
    "We use the Euclidean distance to calculate the distance between each city, including the distance from the final visited city back to the home city."
   ]
  },
  {
   "cell_type": "code",
   "execution_count": 6,
   "metadata": {},
   "outputs": [],
   "source": [
    "def evaluate_city_sequence(path, cities, **kwargs):\n",
    "    \"\"\"Function to implement\n",
    "\n",
    "    Returns the total length of the travelled path.\n",
    "\n",
    "    Args:\n",
    "        path (list): a row vector representing the solution to be evaluated\n",
    "        cities (dict): data structure that contains supplementary \n",
    "            information about the problem, in particular the xy-coordinates of the \n",
    "            cities.\n",
    "        **kwargs: arbitrary keyword arguments (optional variables)\n",
    "    \n",
    "    Returns:\n",
    "        Q (float): a scalar representing the value of a path's objective function (i.e., the total\n",
    "            distance travelled)\n",
    "    \n",
    "    Example:\n",
    "        cities = {0: (2.4, 1.4), 1: (0.2, 3.5)}\n",
    "        calculated = evaluate_city_sequence([0, 1], cities)\n",
    "        print(calculated)\n",
    "        >>> 3.041381\n",
    "    \"\"\"  \n",
    "   \n",
    "    # Implement your solution here\n",
    "    Q = 0\n",
    "    for i in range(len(path)-1):\n",
    "        dist = np.sqrt((cities[path[i]][0] - cities[path[i+1]][0])**2 + (cities[path[i]][1] - cities[path[i+1]][1])**2)\n",
    "        Q += dist\n",
    "    \n",
    "    return Q"
   ]
  },
  {
   "cell_type": "markdown",
   "metadata": {},
   "source": [
    "**Test the function `evaluate_city_sequence(x, cities=None, **kwargs)`** and verify that the calculation is correct."
   ]
  },
  {
   "cell_type": "code",
   "execution_count": 7,
   "metadata": {
    "tags": [
     "hide-cell"
    ]
   },
   "outputs": [
    {
     "name": "stdout",
     "output_type": "stream",
     "text": [
      "Expected=2.828, Calculated=2.828\n",
      "OK\n"
     ]
    }
   ],
   "source": [
    "def evaluate_city_sequence_test(cities={0: (0, 0), 1: (1, 1)}):\n",
    "    \"\"\"Very simple test\n",
    "    \n",
    "    Salesman starts at city zero with coordinates(0, 0), travels to city one with \n",
    "    coordinates(1, 1), and then returns to city zero.\n",
    "    \"\"\"\n",
    "\n",
    "    # expected distance travelled\n",
    "    expected = 2 * np.sqrt(2)\n",
    "    \n",
    "    # call your objective function\n",
    "    calculated = evaluate_city_sequence([0, 1, 0], cities)\n",
    "    \n",
    "    # show your results\n",
    "    results = print(\n",
    "        'Expected={0:.3f}, Calculated={1:.3f}'.format(expected, calculated)\n",
    "    )\n",
    "    if abs(expected-calculated) < 1e-6:\n",
    "        print('OK')\n",
    "    else:\n",
    "        print('NOT CORRECT')\n",
    "\n",
    "evaluate_city_sequence_test()"
   ]
  },
  {
   "cell_type": "markdown",
   "metadata": {},
   "source": [
    "## Optimization algorithms"
   ]
  },
  {
   "cell_type": "markdown",
   "metadata": {},
   "source": [
    "### Optimize traveling salesman path\n",
    "\n",
    "We want to optimize the path taken by a travelling salesman. \n",
    "First, implement a function `randomly_generate_new_city_seq()` that randomly generates a path sequence. This funtion will serve as a benchmark to test \"smarter\" algorithms.\n",
    "We assume that the salesman always starts and ends in city `0`.\n",
    "\n",
    "A very simple example is a full (random) enumeration of the cities."
   ]
  },
  {
   "cell_type": "code",
   "execution_count": 8,
   "metadata": {},
   "outputs": [],
   "source": [
    "def randomly_generate_new_city_seq(rg:np.random.Generator, path, cities=None, **kwargs):\n",
    "    \"\"\"Function to implement\n",
    "\n",
    "    Returns a permutation of the row vector \"path\", where the first and last elements\n",
    "    of \"path\" stay unchanged. Implement different specifications. For example:\n",
    "    - exchanges two randomly selected entries of \"path\"\n",
    "\n",
    "    Args:\n",
    "        rg (Generator object) : a numpy random seed value\n",
    "        path (list): a row vector representing the current city sequence\n",
    "        cities (dict, optional): data structure that contains supplementary \n",
    "            information about the problem, in particular the coordinates of the \n",
    "            cities.\n",
    "        **kwargs: arbitrary keyword arguments (optional variables)\n",
    "    \n",
    "    Returns:\n",
    "        new_path (list): a row vector with a permutation of \"path\" \n",
    "        \n",
    "        Where the first and last elements of \"new_path\" are the first and last elements of \"path\", respectively\n",
    "    \n",
    "    Example:\n",
    "        path = [0, 1, 2, 3, 4, 5]\n",
    "        new_path = randomly_generate_new_city_seq(path)\n",
    "        print(new_path)\n",
    "        >>> [0, 1, 3, 2, 4, 5]\n",
    "    \"\"\"   \n",
    "    new_path = np.array(path.copy()) # make a copy of path\n",
    "    \n",
    "    # Implement your solution here\n",
    "\n",
    "    # Randomly select two indices to swap\n",
    "    idx1 = rg.integers(1, len(path) - 3) + 1\n",
    "    idx2 = rg.integers(1, len(path) - 3) + 1\n",
    "    while idx1 == idx2:\n",
    "        idx2 = rg.integers(1, len(path) - 3) + 1\n",
    "\n",
    "    # Swap the two indices\n",
    "    new_path[idx1], new_path[idx2] = new_path[idx2], new_path[idx1]\n",
    "    \n",
    "    return list(new_path)\n",
    "    "
   ]
  },
  {
   "cell_type": "markdown",
   "metadata": {},
   "source": [
    "#### Test the function"
   ]
  },
  {
   "cell_type": "code",
   "execution_count": 9,
   "metadata": {},
   "outputs": [
    {
     "name": "stdout",
     "output_type": "stream",
     "text": [
      "{0: (0.9478996465627648, 0.2974102502883651), 1: (0.07180247229372805, 0.3295081953938601), 2: (0.5594414353429973, 0.8634674736423997), 3: (0.721347982465723, 0.691424444294593), 4: (0.5408533259842724, 0.4535449329926894), 5: (0.8072731499300757, 0.35227676836708866), 6: (0.6985951690873387, 0.735711881881111), 7: (0.7701562520511277, 0.7905928224207733), 8: (0.3989059418598707, 0.34322732737709305), 9: (0.5754637086577505, 0.6388855586960542), 10: (0.6927275748222806, 0.5741830212716611), 11: (0.9892790910022541, 0.8575032696385994), 12: (0.8563625706954108, 0.1541154374490148), 13: (0.826842816994146, 0.012500914270159869), 14: (0.5864646240283783, 0.673065924331924), 15: (0.24567092749107788, 0.7694721151999951), 16: (0.09844735428552698, 0.7003168541007362), 17: (0.7077374270492284, 0.41338568507057805), 18: (0.23973496457856236, 0.46793620274615), 19: (0.06035837036419933, 0.8842708897557718)}\n",
      "[0, 1, 2, 3, 4, 5, 6, 7, 8, 9, 10, 11, 12, 13, 14, 15, 16, 17, 18, 19, 0]\n",
      "[0, 1, 2, 3, 4, 7, 6, 5, 8, 9, 10, 11, 12, 13, 14, 15, 16, 17, 18, 19, 0]\n"
     ]
    },
    {
     "data": {
      "application/vnd.plotly.v1+json": {
       "config": {
        "plotlyServerURL": "https://plot.ly"
       },
       "data": [
        {
         "mode": "lines",
         "type": "scatter",
         "x": [
          0.9478996465627648,
          0.07180247229372805,
          0.5594414353429973,
          0.721347982465723,
          0.5408533259842724,
          0.7701562520511277,
          0.6985951690873387,
          0.8072731499300757,
          0.3989059418598707,
          0.5754637086577505,
          0.6927275748222806,
          0.9892790910022541,
          0.8563625706954108,
          0.826842816994146,
          0.5864646240283783,
          0.24567092749107788,
          0.09844735428552698,
          0.7077374270492284,
          0.23973496457856236,
          0.06035837036419933,
          0.9478996465627648
         ],
         "y": [
          0.2974102502883651,
          0.3295081953938601,
          0.8634674736423997,
          0.691424444294593,
          0.4535449329926894,
          0.7905928224207733,
          0.735711881881111,
          0.35227676836708866,
          0.34322732737709305,
          0.6388855586960542,
          0.5741830212716611,
          0.8575032696385994,
          0.1541154374490148,
          0.012500914270159869,
          0.673065924331924,
          0.7694721151999951,
          0.7003168541007362,
          0.41338568507057805,
          0.46793620274615,
          0.8842708897557718,
          0.2974102502883651
         ]
        },
        {
         "marker": {
          "size": 10,
          "symbol": "star"
         },
         "mode": "markers",
         "text": "0",
         "type": "scatter",
         "x": [
          0.9478996465627648
         ],
         "y": [
          0.2974102502883651
         ]
        },
        {
         "marker": {
          "size": 10,
          "symbol": "x"
         },
         "mode": "markers",
         "text": [
          "1",
          "2",
          "3",
          "4",
          "7",
          "6",
          "5",
          "8",
          "9",
          "10",
          "11",
          "12",
          "13",
          "14",
          "15",
          "16",
          "17",
          "18",
          "19"
         ],
         "type": "scatter",
         "x": [
          0.07180247229372805,
          0.5594414353429973,
          0.721347982465723,
          0.5408533259842724,
          0.7701562520511277,
          0.6985951690873387,
          0.8072731499300757,
          0.3989059418598707,
          0.5754637086577505,
          0.6927275748222806,
          0.9892790910022541,
          0.8563625706954108,
          0.826842816994146,
          0.5864646240283783,
          0.24567092749107788,
          0.09844735428552698,
          0.7077374270492284,
          0.23973496457856236,
          0.06035837036419933
         ],
         "y": [
          0.3295081953938601,
          0.8634674736423997,
          0.691424444294593,
          0.4535449329926894,
          0.7905928224207733,
          0.735711881881111,
          0.35227676836708866,
          0.34322732737709305,
          0.6388855586960542,
          0.5741830212716611,
          0.8575032696385994,
          0.1541154374490148,
          0.012500914270159869,
          0.673065924331924,
          0.7694721151999951,
          0.7003168541007362,
          0.41338568507057805,
          0.46793620274615,
          0.8842708897557718
         ]
        }
       ],
       "layout": {
        "height": 500,
        "showlegend": false,
        "template": {
         "data": {
          "bar": [
           {
            "error_x": {
             "color": "#2a3f5f"
            },
            "error_y": {
             "color": "#2a3f5f"
            },
            "marker": {
             "line": {
              "color": "#E5ECF6",
              "width": 0.5
             },
             "pattern": {
              "fillmode": "overlay",
              "size": 10,
              "solidity": 0.2
             }
            },
            "type": "bar"
           }
          ],
          "barpolar": [
           {
            "marker": {
             "line": {
              "color": "#E5ECF6",
              "width": 0.5
             },
             "pattern": {
              "fillmode": "overlay",
              "size": 10,
              "solidity": 0.2
             }
            },
            "type": "barpolar"
           }
          ],
          "carpet": [
           {
            "aaxis": {
             "endlinecolor": "#2a3f5f",
             "gridcolor": "white",
             "linecolor": "white",
             "minorgridcolor": "white",
             "startlinecolor": "#2a3f5f"
            },
            "baxis": {
             "endlinecolor": "#2a3f5f",
             "gridcolor": "white",
             "linecolor": "white",
             "minorgridcolor": "white",
             "startlinecolor": "#2a3f5f"
            },
            "type": "carpet"
           }
          ],
          "choropleth": [
           {
            "colorbar": {
             "outlinewidth": 0,
             "ticks": ""
            },
            "type": "choropleth"
           }
          ],
          "contour": [
           {
            "colorbar": {
             "outlinewidth": 0,
             "ticks": ""
            },
            "colorscale": [
             [
              0,
              "#0d0887"
             ],
             [
              0.1111111111111111,
              "#46039f"
             ],
             [
              0.2222222222222222,
              "#7201a8"
             ],
             [
              0.3333333333333333,
              "#9c179e"
             ],
             [
              0.4444444444444444,
              "#bd3786"
             ],
             [
              0.5555555555555556,
              "#d8576b"
             ],
             [
              0.6666666666666666,
              "#ed7953"
             ],
             [
              0.7777777777777778,
              "#fb9f3a"
             ],
             [
              0.8888888888888888,
              "#fdca26"
             ],
             [
              1,
              "#f0f921"
             ]
            ],
            "type": "contour"
           }
          ],
          "contourcarpet": [
           {
            "colorbar": {
             "outlinewidth": 0,
             "ticks": ""
            },
            "type": "contourcarpet"
           }
          ],
          "heatmap": [
           {
            "colorbar": {
             "outlinewidth": 0,
             "ticks": ""
            },
            "colorscale": [
             [
              0,
              "#0d0887"
             ],
             [
              0.1111111111111111,
              "#46039f"
             ],
             [
              0.2222222222222222,
              "#7201a8"
             ],
             [
              0.3333333333333333,
              "#9c179e"
             ],
             [
              0.4444444444444444,
              "#bd3786"
             ],
             [
              0.5555555555555556,
              "#d8576b"
             ],
             [
              0.6666666666666666,
              "#ed7953"
             ],
             [
              0.7777777777777778,
              "#fb9f3a"
             ],
             [
              0.8888888888888888,
              "#fdca26"
             ],
             [
              1,
              "#f0f921"
             ]
            ],
            "type": "heatmap"
           }
          ],
          "histogram": [
           {
            "marker": {
             "pattern": {
              "fillmode": "overlay",
              "size": 10,
              "solidity": 0.2
             }
            },
            "type": "histogram"
           }
          ],
          "histogram2d": [
           {
            "colorbar": {
             "outlinewidth": 0,
             "ticks": ""
            },
            "colorscale": [
             [
              0,
              "#0d0887"
             ],
             [
              0.1111111111111111,
              "#46039f"
             ],
             [
              0.2222222222222222,
              "#7201a8"
             ],
             [
              0.3333333333333333,
              "#9c179e"
             ],
             [
              0.4444444444444444,
              "#bd3786"
             ],
             [
              0.5555555555555556,
              "#d8576b"
             ],
             [
              0.6666666666666666,
              "#ed7953"
             ],
             [
              0.7777777777777778,
              "#fb9f3a"
             ],
             [
              0.8888888888888888,
              "#fdca26"
             ],
             [
              1,
              "#f0f921"
             ]
            ],
            "type": "histogram2d"
           }
          ],
          "histogram2dcontour": [
           {
            "colorbar": {
             "outlinewidth": 0,
             "ticks": ""
            },
            "colorscale": [
             [
              0,
              "#0d0887"
             ],
             [
              0.1111111111111111,
              "#46039f"
             ],
             [
              0.2222222222222222,
              "#7201a8"
             ],
             [
              0.3333333333333333,
              "#9c179e"
             ],
             [
              0.4444444444444444,
              "#bd3786"
             ],
             [
              0.5555555555555556,
              "#d8576b"
             ],
             [
              0.6666666666666666,
              "#ed7953"
             ],
             [
              0.7777777777777778,
              "#fb9f3a"
             ],
             [
              0.8888888888888888,
              "#fdca26"
             ],
             [
              1,
              "#f0f921"
             ]
            ],
            "type": "histogram2dcontour"
           }
          ],
          "mesh3d": [
           {
            "colorbar": {
             "outlinewidth": 0,
             "ticks": ""
            },
            "type": "mesh3d"
           }
          ],
          "parcoords": [
           {
            "line": {
             "colorbar": {
              "outlinewidth": 0,
              "ticks": ""
             }
            },
            "type": "parcoords"
           }
          ],
          "pie": [
           {
            "automargin": true,
            "type": "pie"
           }
          ],
          "scatter": [
           {
            "fillpattern": {
             "fillmode": "overlay",
             "size": 10,
             "solidity": 0.2
            },
            "type": "scatter"
           }
          ],
          "scatter3d": [
           {
            "line": {
             "colorbar": {
              "outlinewidth": 0,
              "ticks": ""
             }
            },
            "marker": {
             "colorbar": {
              "outlinewidth": 0,
              "ticks": ""
             }
            },
            "type": "scatter3d"
           }
          ],
          "scattercarpet": [
           {
            "marker": {
             "colorbar": {
              "outlinewidth": 0,
              "ticks": ""
             }
            },
            "type": "scattercarpet"
           }
          ],
          "scattergeo": [
           {
            "marker": {
             "colorbar": {
              "outlinewidth": 0,
              "ticks": ""
             }
            },
            "type": "scattergeo"
           }
          ],
          "scattergl": [
           {
            "marker": {
             "colorbar": {
              "outlinewidth": 0,
              "ticks": ""
             }
            },
            "type": "scattergl"
           }
          ],
          "scattermap": [
           {
            "marker": {
             "colorbar": {
              "outlinewidth": 0,
              "ticks": ""
             }
            },
            "type": "scattermap"
           }
          ],
          "scattermapbox": [
           {
            "marker": {
             "colorbar": {
              "outlinewidth": 0,
              "ticks": ""
             }
            },
            "type": "scattermapbox"
           }
          ],
          "scatterpolar": [
           {
            "marker": {
             "colorbar": {
              "outlinewidth": 0,
              "ticks": ""
             }
            },
            "type": "scatterpolar"
           }
          ],
          "scatterpolargl": [
           {
            "marker": {
             "colorbar": {
              "outlinewidth": 0,
              "ticks": ""
             }
            },
            "type": "scatterpolargl"
           }
          ],
          "scatterternary": [
           {
            "marker": {
             "colorbar": {
              "outlinewidth": 0,
              "ticks": ""
             }
            },
            "type": "scatterternary"
           }
          ],
          "surface": [
           {
            "colorbar": {
             "outlinewidth": 0,
             "ticks": ""
            },
            "colorscale": [
             [
              0,
              "#0d0887"
             ],
             [
              0.1111111111111111,
              "#46039f"
             ],
             [
              0.2222222222222222,
              "#7201a8"
             ],
             [
              0.3333333333333333,
              "#9c179e"
             ],
             [
              0.4444444444444444,
              "#bd3786"
             ],
             [
              0.5555555555555556,
              "#d8576b"
             ],
             [
              0.6666666666666666,
              "#ed7953"
             ],
             [
              0.7777777777777778,
              "#fb9f3a"
             ],
             [
              0.8888888888888888,
              "#fdca26"
             ],
             [
              1,
              "#f0f921"
             ]
            ],
            "type": "surface"
           }
          ],
          "table": [
           {
            "cells": {
             "fill": {
              "color": "#EBF0F8"
             },
             "line": {
              "color": "white"
             }
            },
            "header": {
             "fill": {
              "color": "#C8D4E3"
             },
             "line": {
              "color": "white"
             }
            },
            "type": "table"
           }
          ]
         },
         "layout": {
          "annotationdefaults": {
           "arrowcolor": "#2a3f5f",
           "arrowhead": 0,
           "arrowwidth": 1
          },
          "autotypenumbers": "strict",
          "coloraxis": {
           "colorbar": {
            "outlinewidth": 0,
            "ticks": ""
           }
          },
          "colorscale": {
           "diverging": [
            [
             0,
             "#8e0152"
            ],
            [
             0.1,
             "#c51b7d"
            ],
            [
             0.2,
             "#de77ae"
            ],
            [
             0.3,
             "#f1b6da"
            ],
            [
             0.4,
             "#fde0ef"
            ],
            [
             0.5,
             "#f7f7f7"
            ],
            [
             0.6,
             "#e6f5d0"
            ],
            [
             0.7,
             "#b8e186"
            ],
            [
             0.8,
             "#7fbc41"
            ],
            [
             0.9,
             "#4d9221"
            ],
            [
             1,
             "#276419"
            ]
           ],
           "sequential": [
            [
             0,
             "#0d0887"
            ],
            [
             0.1111111111111111,
             "#46039f"
            ],
            [
             0.2222222222222222,
             "#7201a8"
            ],
            [
             0.3333333333333333,
             "#9c179e"
            ],
            [
             0.4444444444444444,
             "#bd3786"
            ],
            [
             0.5555555555555556,
             "#d8576b"
            ],
            [
             0.6666666666666666,
             "#ed7953"
            ],
            [
             0.7777777777777778,
             "#fb9f3a"
            ],
            [
             0.8888888888888888,
             "#fdca26"
            ],
            [
             1,
             "#f0f921"
            ]
           ],
           "sequentialminus": [
            [
             0,
             "#0d0887"
            ],
            [
             0.1111111111111111,
             "#46039f"
            ],
            [
             0.2222222222222222,
             "#7201a8"
            ],
            [
             0.3333333333333333,
             "#9c179e"
            ],
            [
             0.4444444444444444,
             "#bd3786"
            ],
            [
             0.5555555555555556,
             "#d8576b"
            ],
            [
             0.6666666666666666,
             "#ed7953"
            ],
            [
             0.7777777777777778,
             "#fb9f3a"
            ],
            [
             0.8888888888888888,
             "#fdca26"
            ],
            [
             1,
             "#f0f921"
            ]
           ]
          },
          "colorway": [
           "#636efa",
           "#EF553B",
           "#00cc96",
           "#ab63fa",
           "#FFA15A",
           "#19d3f3",
           "#FF6692",
           "#B6E880",
           "#FF97FF",
           "#FECB52"
          ],
          "font": {
           "color": "#2a3f5f"
          },
          "geo": {
           "bgcolor": "white",
           "lakecolor": "white",
           "landcolor": "#E5ECF6",
           "showlakes": true,
           "showland": true,
           "subunitcolor": "white"
          },
          "hoverlabel": {
           "align": "left"
          },
          "hovermode": "closest",
          "mapbox": {
           "style": "light"
          },
          "paper_bgcolor": "white",
          "plot_bgcolor": "#E5ECF6",
          "polar": {
           "angularaxis": {
            "gridcolor": "white",
            "linecolor": "white",
            "ticks": ""
           },
           "bgcolor": "#E5ECF6",
           "radialaxis": {
            "gridcolor": "white",
            "linecolor": "white",
            "ticks": ""
           }
          },
          "scene": {
           "xaxis": {
            "backgroundcolor": "#E5ECF6",
            "gridcolor": "white",
            "gridwidth": 2,
            "linecolor": "white",
            "showbackground": true,
            "ticks": "",
            "zerolinecolor": "white"
           },
           "yaxis": {
            "backgroundcolor": "#E5ECF6",
            "gridcolor": "white",
            "gridwidth": 2,
            "linecolor": "white",
            "showbackground": true,
            "ticks": "",
            "zerolinecolor": "white"
           },
           "zaxis": {
            "backgroundcolor": "#E5ECF6",
            "gridcolor": "white",
            "gridwidth": 2,
            "linecolor": "white",
            "showbackground": true,
            "ticks": "",
            "zerolinecolor": "white"
           }
          },
          "shapedefaults": {
           "line": {
            "color": "#2a3f5f"
           }
          },
          "ternary": {
           "aaxis": {
            "gridcolor": "white",
            "linecolor": "white",
            "ticks": ""
           },
           "baxis": {
            "gridcolor": "white",
            "linecolor": "white",
            "ticks": ""
           },
           "bgcolor": "#E5ECF6",
           "caxis": {
            "gridcolor": "white",
            "linecolor": "white",
            "ticks": ""
           }
          },
          "title": {
           "x": 0.05
          },
          "xaxis": {
           "automargin": true,
           "gridcolor": "white",
           "linecolor": "white",
           "ticks": "",
           "title": {
            "standoff": 15
           },
           "zerolinecolor": "white",
           "zerolinewidth": 2
          },
          "yaxis": {
           "automargin": true,
           "gridcolor": "white",
           "linecolor": "white",
           "ticks": "",
           "title": {
            "standoff": 15
           },
           "zerolinecolor": "white",
           "zerolinewidth": 2
          }
         }
        },
        "width": 500
       }
      }
     },
     "metadata": {},
     "output_type": "display_data"
    }
   ],
   "source": [
    "rg = Generator(PCG64(42069)) # set your own unique seed number\n",
    "n_cities = 20\n",
    "cities = simulate_cities(rg, n_cities)\n",
    "print(cities)\n",
    "path = [0,1,2,3,4,5,6,7,8,9,10,11,12,13,14,15,16,17,18,19,0]\n",
    "print(path)\n",
    "rg = Generator(PCG64(42070))\n",
    "path = randomly_generate_new_city_seq(rg, path)\n",
    "print(path)\n",
    "draw_salesman(path, cities)"
   ]
  },
  {
   "cell_type": "markdown",
   "metadata": {},
   "source": [
    "### Algorithms\n",
    "\n",
    "Notice in our sample solution, it was not ideal and the salesman's path criss-crossed. Our goal is to minimize the total distance travelled by the salesman, while visiting all the cities.\n",
    "\n",
    "We can use the total path travelled as our **objective function**. Recall the function `evaluate_city_sequence()`, this is our objective function. \n",
    "\n",
    "Now let us implement a **full enumeration** algorithm. This is a simple trial and error method."
   ]
  },
  {
   "cell_type": "markdown",
   "metadata": {},
   "source": [
    "### Exercise 1: Full enumeration\n",
    "\n",
    "Functions to implement:\n",
    "\n",
    "`full_enumeration()`\n",
    "\n",
    "Calculate the computational time and limitations of the full enumeration.\n",
    "\n",
    "What is the maximum problem size (number of cities) that you could solve with this approach?"
   ]
  },
  {
   "cell_type": "code",
   "execution_count": 10,
   "metadata": {},
   "outputs": [],
   "source": [
    "from itertools import permutations"
   ]
  },
  {
   "cell_type": "code",
   "execution_count": 11,
   "metadata": {},
   "outputs": [],
   "source": [
    "def full_enumeration(cities, **kwargs):\n",
    "    \"\"\"Function to implement\n",
    "\n",
    "    Returns the best solution minimizing distance travelled.\n",
    "\n",
    "    Args:\n",
    "        cities (dict, optional): data structure that contains supplementary \n",
    "            information about the problem, in particular the xy-coordinates of the \n",
    "            cities.\n",
    "        **kwargs: arbitrary keyword arguments (optional variables)\n",
    "    \n",
    "    Returns:\n",
    "        best_path (list): a row vector representing the minimum cost city sequence\n",
    "        best_path_cost (float): a scalar representing the objective function value of the best path\n",
    "    \n",
    "    \"\"\"  \n",
    "    \n",
    "    # implement your own solution here\n",
    "    best_path = None\n",
    "    best_path_cost = float('inf')\n",
    "\n",
    "    # Generate all permutations of the cities\n",
    "    for path in permutations(range(len(cities))):\n",
    "        # Calculate the cost of the current path\n",
    "        path_cost = evaluate_city_sequence(path, cities)\n",
    "        \n",
    "        # Update the best path if the current one is better\n",
    "        if path_cost < best_path_cost:\n",
    "            best_path_cost = path_cost\n",
    "            best_path = path\n",
    "\n",
    "    return best_path, best_path_cost"
   ]
  },
  {
   "cell_type": "code",
   "execution_count": 12,
   "metadata": {},
   "outputs": [
    {
     "name": "stdout",
     "output_type": "stream",
     "text": [
      "best solution: (0, 5, 3, 6, 7, 2, 9, 4, 8, 1)\n",
      "distance travelled: 1.7846107612524171\n",
      "Computing time: 45.50059127807617 seconds\n"
     ]
    },
    {
     "data": {
      "application/vnd.plotly.v1+json": {
       "config": {
        "plotlyServerURL": "https://plot.ly"
       },
       "data": [
        {
         "mode": "lines",
         "type": "scatter",
         "x": [
          0.9478996465627648,
          0.8072731499300757,
          0.721347982465723,
          0.6985951690873387,
          0.7701562520511277,
          0.5594414353429973,
          0.5754637086577505,
          0.5408533259842724,
          0.3989059418598707,
          0.07180247229372805
         ],
         "y": [
          0.2974102502883651,
          0.35227676836708866,
          0.691424444294593,
          0.735711881881111,
          0.7905928224207733,
          0.8634674736423997,
          0.6388855586960542,
          0.4535449329926894,
          0.34322732737709305,
          0.3295081953938601
         ]
        },
        {
         "marker": {
          "size": 10,
          "symbol": "star"
         },
         "mode": "markers",
         "text": "0",
         "type": "scatter",
         "x": [
          0.9478996465627648
         ],
         "y": [
          0.2974102502883651
         ]
        },
        {
         "marker": {
          "size": 10,
          "symbol": "x"
         },
         "mode": "markers",
         "text": [
          "5",
          "3",
          "6",
          "7",
          "2",
          "9",
          "4",
          "8"
         ],
         "type": "scatter",
         "x": [
          0.8072731499300757,
          0.721347982465723,
          0.6985951690873387,
          0.7701562520511277,
          0.5594414353429973,
          0.5754637086577505,
          0.5408533259842724,
          0.3989059418598707
         ],
         "y": [
          0.35227676836708866,
          0.691424444294593,
          0.735711881881111,
          0.7905928224207733,
          0.8634674736423997,
          0.6388855586960542,
          0.4535449329926894,
          0.34322732737709305
         ]
        }
       ],
       "layout": {
        "height": 500,
        "showlegend": false,
        "template": {
         "data": {
          "bar": [
           {
            "error_x": {
             "color": "#2a3f5f"
            },
            "error_y": {
             "color": "#2a3f5f"
            },
            "marker": {
             "line": {
              "color": "#E5ECF6",
              "width": 0.5
             },
             "pattern": {
              "fillmode": "overlay",
              "size": 10,
              "solidity": 0.2
             }
            },
            "type": "bar"
           }
          ],
          "barpolar": [
           {
            "marker": {
             "line": {
              "color": "#E5ECF6",
              "width": 0.5
             },
             "pattern": {
              "fillmode": "overlay",
              "size": 10,
              "solidity": 0.2
             }
            },
            "type": "barpolar"
           }
          ],
          "carpet": [
           {
            "aaxis": {
             "endlinecolor": "#2a3f5f",
             "gridcolor": "white",
             "linecolor": "white",
             "minorgridcolor": "white",
             "startlinecolor": "#2a3f5f"
            },
            "baxis": {
             "endlinecolor": "#2a3f5f",
             "gridcolor": "white",
             "linecolor": "white",
             "minorgridcolor": "white",
             "startlinecolor": "#2a3f5f"
            },
            "type": "carpet"
           }
          ],
          "choropleth": [
           {
            "colorbar": {
             "outlinewidth": 0,
             "ticks": ""
            },
            "type": "choropleth"
           }
          ],
          "contour": [
           {
            "colorbar": {
             "outlinewidth": 0,
             "ticks": ""
            },
            "colorscale": [
             [
              0,
              "#0d0887"
             ],
             [
              0.1111111111111111,
              "#46039f"
             ],
             [
              0.2222222222222222,
              "#7201a8"
             ],
             [
              0.3333333333333333,
              "#9c179e"
             ],
             [
              0.4444444444444444,
              "#bd3786"
             ],
             [
              0.5555555555555556,
              "#d8576b"
             ],
             [
              0.6666666666666666,
              "#ed7953"
             ],
             [
              0.7777777777777778,
              "#fb9f3a"
             ],
             [
              0.8888888888888888,
              "#fdca26"
             ],
             [
              1,
              "#f0f921"
             ]
            ],
            "type": "contour"
           }
          ],
          "contourcarpet": [
           {
            "colorbar": {
             "outlinewidth": 0,
             "ticks": ""
            },
            "type": "contourcarpet"
           }
          ],
          "heatmap": [
           {
            "colorbar": {
             "outlinewidth": 0,
             "ticks": ""
            },
            "colorscale": [
             [
              0,
              "#0d0887"
             ],
             [
              0.1111111111111111,
              "#46039f"
             ],
             [
              0.2222222222222222,
              "#7201a8"
             ],
             [
              0.3333333333333333,
              "#9c179e"
             ],
             [
              0.4444444444444444,
              "#bd3786"
             ],
             [
              0.5555555555555556,
              "#d8576b"
             ],
             [
              0.6666666666666666,
              "#ed7953"
             ],
             [
              0.7777777777777778,
              "#fb9f3a"
             ],
             [
              0.8888888888888888,
              "#fdca26"
             ],
             [
              1,
              "#f0f921"
             ]
            ],
            "type": "heatmap"
           }
          ],
          "histogram": [
           {
            "marker": {
             "pattern": {
              "fillmode": "overlay",
              "size": 10,
              "solidity": 0.2
             }
            },
            "type": "histogram"
           }
          ],
          "histogram2d": [
           {
            "colorbar": {
             "outlinewidth": 0,
             "ticks": ""
            },
            "colorscale": [
             [
              0,
              "#0d0887"
             ],
             [
              0.1111111111111111,
              "#46039f"
             ],
             [
              0.2222222222222222,
              "#7201a8"
             ],
             [
              0.3333333333333333,
              "#9c179e"
             ],
             [
              0.4444444444444444,
              "#bd3786"
             ],
             [
              0.5555555555555556,
              "#d8576b"
             ],
             [
              0.6666666666666666,
              "#ed7953"
             ],
             [
              0.7777777777777778,
              "#fb9f3a"
             ],
             [
              0.8888888888888888,
              "#fdca26"
             ],
             [
              1,
              "#f0f921"
             ]
            ],
            "type": "histogram2d"
           }
          ],
          "histogram2dcontour": [
           {
            "colorbar": {
             "outlinewidth": 0,
             "ticks": ""
            },
            "colorscale": [
             [
              0,
              "#0d0887"
             ],
             [
              0.1111111111111111,
              "#46039f"
             ],
             [
              0.2222222222222222,
              "#7201a8"
             ],
             [
              0.3333333333333333,
              "#9c179e"
             ],
             [
              0.4444444444444444,
              "#bd3786"
             ],
             [
              0.5555555555555556,
              "#d8576b"
             ],
             [
              0.6666666666666666,
              "#ed7953"
             ],
             [
              0.7777777777777778,
              "#fb9f3a"
             ],
             [
              0.8888888888888888,
              "#fdca26"
             ],
             [
              1,
              "#f0f921"
             ]
            ],
            "type": "histogram2dcontour"
           }
          ],
          "mesh3d": [
           {
            "colorbar": {
             "outlinewidth": 0,
             "ticks": ""
            },
            "type": "mesh3d"
           }
          ],
          "parcoords": [
           {
            "line": {
             "colorbar": {
              "outlinewidth": 0,
              "ticks": ""
             }
            },
            "type": "parcoords"
           }
          ],
          "pie": [
           {
            "automargin": true,
            "type": "pie"
           }
          ],
          "scatter": [
           {
            "fillpattern": {
             "fillmode": "overlay",
             "size": 10,
             "solidity": 0.2
            },
            "type": "scatter"
           }
          ],
          "scatter3d": [
           {
            "line": {
             "colorbar": {
              "outlinewidth": 0,
              "ticks": ""
             }
            },
            "marker": {
             "colorbar": {
              "outlinewidth": 0,
              "ticks": ""
             }
            },
            "type": "scatter3d"
           }
          ],
          "scattercarpet": [
           {
            "marker": {
             "colorbar": {
              "outlinewidth": 0,
              "ticks": ""
             }
            },
            "type": "scattercarpet"
           }
          ],
          "scattergeo": [
           {
            "marker": {
             "colorbar": {
              "outlinewidth": 0,
              "ticks": ""
             }
            },
            "type": "scattergeo"
           }
          ],
          "scattergl": [
           {
            "marker": {
             "colorbar": {
              "outlinewidth": 0,
              "ticks": ""
             }
            },
            "type": "scattergl"
           }
          ],
          "scattermap": [
           {
            "marker": {
             "colorbar": {
              "outlinewidth": 0,
              "ticks": ""
             }
            },
            "type": "scattermap"
           }
          ],
          "scattermapbox": [
           {
            "marker": {
             "colorbar": {
              "outlinewidth": 0,
              "ticks": ""
             }
            },
            "type": "scattermapbox"
           }
          ],
          "scatterpolar": [
           {
            "marker": {
             "colorbar": {
              "outlinewidth": 0,
              "ticks": ""
             }
            },
            "type": "scatterpolar"
           }
          ],
          "scatterpolargl": [
           {
            "marker": {
             "colorbar": {
              "outlinewidth": 0,
              "ticks": ""
             }
            },
            "type": "scatterpolargl"
           }
          ],
          "scatterternary": [
           {
            "marker": {
             "colorbar": {
              "outlinewidth": 0,
              "ticks": ""
             }
            },
            "type": "scatterternary"
           }
          ],
          "surface": [
           {
            "colorbar": {
             "outlinewidth": 0,
             "ticks": ""
            },
            "colorscale": [
             [
              0,
              "#0d0887"
             ],
             [
              0.1111111111111111,
              "#46039f"
             ],
             [
              0.2222222222222222,
              "#7201a8"
             ],
             [
              0.3333333333333333,
              "#9c179e"
             ],
             [
              0.4444444444444444,
              "#bd3786"
             ],
             [
              0.5555555555555556,
              "#d8576b"
             ],
             [
              0.6666666666666666,
              "#ed7953"
             ],
             [
              0.7777777777777778,
              "#fb9f3a"
             ],
             [
              0.8888888888888888,
              "#fdca26"
             ],
             [
              1,
              "#f0f921"
             ]
            ],
            "type": "surface"
           }
          ],
          "table": [
           {
            "cells": {
             "fill": {
              "color": "#EBF0F8"
             },
             "line": {
              "color": "white"
             }
            },
            "header": {
             "fill": {
              "color": "#C8D4E3"
             },
             "line": {
              "color": "white"
             }
            },
            "type": "table"
           }
          ]
         },
         "layout": {
          "annotationdefaults": {
           "arrowcolor": "#2a3f5f",
           "arrowhead": 0,
           "arrowwidth": 1
          },
          "autotypenumbers": "strict",
          "coloraxis": {
           "colorbar": {
            "outlinewidth": 0,
            "ticks": ""
           }
          },
          "colorscale": {
           "diverging": [
            [
             0,
             "#8e0152"
            ],
            [
             0.1,
             "#c51b7d"
            ],
            [
             0.2,
             "#de77ae"
            ],
            [
             0.3,
             "#f1b6da"
            ],
            [
             0.4,
             "#fde0ef"
            ],
            [
             0.5,
             "#f7f7f7"
            ],
            [
             0.6,
             "#e6f5d0"
            ],
            [
             0.7,
             "#b8e186"
            ],
            [
             0.8,
             "#7fbc41"
            ],
            [
             0.9,
             "#4d9221"
            ],
            [
             1,
             "#276419"
            ]
           ],
           "sequential": [
            [
             0,
             "#0d0887"
            ],
            [
             0.1111111111111111,
             "#46039f"
            ],
            [
             0.2222222222222222,
             "#7201a8"
            ],
            [
             0.3333333333333333,
             "#9c179e"
            ],
            [
             0.4444444444444444,
             "#bd3786"
            ],
            [
             0.5555555555555556,
             "#d8576b"
            ],
            [
             0.6666666666666666,
             "#ed7953"
            ],
            [
             0.7777777777777778,
             "#fb9f3a"
            ],
            [
             0.8888888888888888,
             "#fdca26"
            ],
            [
             1,
             "#f0f921"
            ]
           ],
           "sequentialminus": [
            [
             0,
             "#0d0887"
            ],
            [
             0.1111111111111111,
             "#46039f"
            ],
            [
             0.2222222222222222,
             "#7201a8"
            ],
            [
             0.3333333333333333,
             "#9c179e"
            ],
            [
             0.4444444444444444,
             "#bd3786"
            ],
            [
             0.5555555555555556,
             "#d8576b"
            ],
            [
             0.6666666666666666,
             "#ed7953"
            ],
            [
             0.7777777777777778,
             "#fb9f3a"
            ],
            [
             0.8888888888888888,
             "#fdca26"
            ],
            [
             1,
             "#f0f921"
            ]
           ]
          },
          "colorway": [
           "#636efa",
           "#EF553B",
           "#00cc96",
           "#ab63fa",
           "#FFA15A",
           "#19d3f3",
           "#FF6692",
           "#B6E880",
           "#FF97FF",
           "#FECB52"
          ],
          "font": {
           "color": "#2a3f5f"
          },
          "geo": {
           "bgcolor": "white",
           "lakecolor": "white",
           "landcolor": "#E5ECF6",
           "showlakes": true,
           "showland": true,
           "subunitcolor": "white"
          },
          "hoverlabel": {
           "align": "left"
          },
          "hovermode": "closest",
          "mapbox": {
           "style": "light"
          },
          "paper_bgcolor": "white",
          "plot_bgcolor": "#E5ECF6",
          "polar": {
           "angularaxis": {
            "gridcolor": "white",
            "linecolor": "white",
            "ticks": ""
           },
           "bgcolor": "#E5ECF6",
           "radialaxis": {
            "gridcolor": "white",
            "linecolor": "white",
            "ticks": ""
           }
          },
          "scene": {
           "xaxis": {
            "backgroundcolor": "#E5ECF6",
            "gridcolor": "white",
            "gridwidth": 2,
            "linecolor": "white",
            "showbackground": true,
            "ticks": "",
            "zerolinecolor": "white"
           },
           "yaxis": {
            "backgroundcolor": "#E5ECF6",
            "gridcolor": "white",
            "gridwidth": 2,
            "linecolor": "white",
            "showbackground": true,
            "ticks": "",
            "zerolinecolor": "white"
           },
           "zaxis": {
            "backgroundcolor": "#E5ECF6",
            "gridcolor": "white",
            "gridwidth": 2,
            "linecolor": "white",
            "showbackground": true,
            "ticks": "",
            "zerolinecolor": "white"
           }
          },
          "shapedefaults": {
           "line": {
            "color": "#2a3f5f"
           }
          },
          "ternary": {
           "aaxis": {
            "gridcolor": "white",
            "linecolor": "white",
            "ticks": ""
           },
           "baxis": {
            "gridcolor": "white",
            "linecolor": "white",
            "ticks": ""
           },
           "bgcolor": "#E5ECF6",
           "caxis": {
            "gridcolor": "white",
            "linecolor": "white",
            "ticks": ""
           }
          },
          "title": {
           "x": 0.05
          },
          "xaxis": {
           "automargin": true,
           "gridcolor": "white",
           "linecolor": "white",
           "ticks": "",
           "title": {
            "standoff": 15
           },
           "zerolinecolor": "white",
           "zerolinewidth": 2
          },
          "yaxis": {
           "automargin": true,
           "gridcolor": "white",
           "linecolor": "white",
           "ticks": "",
           "title": {
            "standoff": 15
           },
           "zerolinecolor": "white",
           "zerolinewidth": 2
          }
         }
        },
        "width": 500
       }
      }
     },
     "metadata": {},
     "output_type": "display_data"
    }
   ],
   "source": [
    "# Test\n",
    "rg = Generator(PCG64(42069)) # set your own unique seed number\n",
    "n_cities = 10\n",
    "cities = simulate_cities(rg, n_cities) # simulate the list of cities\n",
    "start_time = time.time()  # Record start time\n",
    "solution, distance = full_enumeration(cities)\n",
    "end_time = time.time()  # Record end time\n",
    "print(\"best solution:\", solution)\n",
    "print(\"distance travelled:\", distance)\n",
    "print(\"Computing time:\", end_time - start_time, \"seconds\")\n",
    "\n",
    "draw_salesman(solution, cities)"
   ]
  },
  {
   "cell_type": "markdown",
   "metadata": {},
   "source": [
    "### Exercise 2: Greedy algorithm\n",
    "\n",
    "**Principles:**\n",
    "- Each step is taken as decisions from the previous step, therefore depends on the previous step.\n",
    "- It is easy to implement, but may generate poor solutions.\n",
    "\n",
    "**The algorithm:**\n",
    "1. Start from home city\n",
    "2. Select the next closest city\n",
    "3. Repeat 2 until all cities have been visited\n",
    "4. Return to home city\n",
    "\n",
    "Implement this algorithm in your own Python notebook and test it out. Try to reuse portions of the code in the first exercise.\n",
    "\n",
    "The function to implement:\n",
    "\n",
    "`greedy()`\n",
    "\n",
    "Calculate the computational time.\n",
    "\n",
    "Profile your greedy algorithm and compare it with the full enumeration algorithm. What do you observe? explain the pros and cons of each method.\n",
    "\n",
    "**ANSWER: The greedy algorithm is significantly faster than the enumeration method, but it doesn’t guarantee the optimal shortest path. It makes decisions based on locally nearest neighbors without accounting for the overall path structure—often overlooking the return distance to the starting city. In contrast, the enumeration method, though slower, always finds the optimal solution.**"
   ]
  },
  {
   "cell_type": "code",
   "execution_count": 13,
   "metadata": {},
   "outputs": [],
   "source": [
    "def greedy(cities, **kwargs):\n",
    "    \"\"\"Function to implement\n",
    "\n",
    "    Returns a good solution that minimizes distance travelled.\n",
    "\n",
    "    Args:\n",
    "        cities (dict, optional): data structure that contains supplementary \n",
    "            information about the problem, in particular the xy-coordinates of the \n",
    "            cities.\n",
    "        **kwargs: arbitrary keyword arguments (optional variables)\n",
    "    \n",
    "    Returns:\n",
    "        path (list): a row vector representing a feasible city sequence\n",
    "        path_cost (float): a scalar representing the objective function value of the path outputted\n",
    "    \n",
    "    \"\"\" \n",
    "    \n",
    "    # implement your own solution here\n",
    "    n_cities = len(cities)\n",
    "    path = [0]  # Start from the first city\n",
    "    visited = set(path)\n",
    "    path_cost = 0\n",
    "    current_city = 0\n",
    "    next_city = None\n",
    "    for i in range(1, n_cities):\n",
    "        min_distance = float('inf')\n",
    "        next_city = None\n",
    "        for city in range(n_cities):\n",
    "            if city not in visited:\n",
    "                distance = np.sqrt((cities[current_city][0] - cities[city][0])**2 + (cities[current_city][1] - cities[city][1])**2)\n",
    "                if distance < min_distance:\n",
    "                    min_distance = distance\n",
    "                    next_city = city\n",
    "        path.append(next_city)\n",
    "        visited.add(next_city)\n",
    "        path_cost += min_distance\n",
    "        current_city = next_city\n",
    "\n",
    "    path_cost = evaluate_city_sequence(path, cities)\n",
    "    \n",
    "    return path, path_cost\n",
    "    "
   ]
  },
  {
   "cell_type": "code",
   "execution_count": 14,
   "metadata": {},
   "outputs": [
    {
     "name": "stdout",
     "output_type": "stream",
     "text": [
      "best solution: [0, 5, 4, 8, 1, 9, 3, 6, 7, 2]\n",
      "distance travelled: 2.052215419628349\n",
      "Computing time: 0.00014638900756835938 seconds\n"
     ]
    },
    {
     "data": {
      "application/vnd.plotly.v1+json": {
       "config": {
        "plotlyServerURL": "https://plot.ly"
       },
       "data": [
        {
         "mode": "lines",
         "type": "scatter",
         "x": [
          0.9478996465627648,
          0.8072731499300757,
          0.5408533259842724,
          0.3989059418598707,
          0.07180247229372805,
          0.5754637086577505,
          0.721347982465723,
          0.6985951690873387,
          0.7701562520511277,
          0.5594414353429973
         ],
         "y": [
          0.2974102502883651,
          0.35227676836708866,
          0.4535449329926894,
          0.34322732737709305,
          0.3295081953938601,
          0.6388855586960542,
          0.691424444294593,
          0.735711881881111,
          0.7905928224207733,
          0.8634674736423997
         ]
        },
        {
         "marker": {
          "size": 10,
          "symbol": "star"
         },
         "mode": "markers",
         "text": "0",
         "type": "scatter",
         "x": [
          0.9478996465627648
         ],
         "y": [
          0.2974102502883651
         ]
        },
        {
         "marker": {
          "size": 10,
          "symbol": "x"
         },
         "mode": "markers",
         "text": [
          "5",
          "4",
          "8",
          "1",
          "9",
          "3",
          "6",
          "7"
         ],
         "type": "scatter",
         "x": [
          0.8072731499300757,
          0.5408533259842724,
          0.3989059418598707,
          0.07180247229372805,
          0.5754637086577505,
          0.721347982465723,
          0.6985951690873387,
          0.7701562520511277
         ],
         "y": [
          0.35227676836708866,
          0.4535449329926894,
          0.34322732737709305,
          0.3295081953938601,
          0.6388855586960542,
          0.691424444294593,
          0.735711881881111,
          0.7905928224207733
         ]
        }
       ],
       "layout": {
        "height": 500,
        "showlegend": false,
        "template": {
         "data": {
          "bar": [
           {
            "error_x": {
             "color": "#2a3f5f"
            },
            "error_y": {
             "color": "#2a3f5f"
            },
            "marker": {
             "line": {
              "color": "#E5ECF6",
              "width": 0.5
             },
             "pattern": {
              "fillmode": "overlay",
              "size": 10,
              "solidity": 0.2
             }
            },
            "type": "bar"
           }
          ],
          "barpolar": [
           {
            "marker": {
             "line": {
              "color": "#E5ECF6",
              "width": 0.5
             },
             "pattern": {
              "fillmode": "overlay",
              "size": 10,
              "solidity": 0.2
             }
            },
            "type": "barpolar"
           }
          ],
          "carpet": [
           {
            "aaxis": {
             "endlinecolor": "#2a3f5f",
             "gridcolor": "white",
             "linecolor": "white",
             "minorgridcolor": "white",
             "startlinecolor": "#2a3f5f"
            },
            "baxis": {
             "endlinecolor": "#2a3f5f",
             "gridcolor": "white",
             "linecolor": "white",
             "minorgridcolor": "white",
             "startlinecolor": "#2a3f5f"
            },
            "type": "carpet"
           }
          ],
          "choropleth": [
           {
            "colorbar": {
             "outlinewidth": 0,
             "ticks": ""
            },
            "type": "choropleth"
           }
          ],
          "contour": [
           {
            "colorbar": {
             "outlinewidth": 0,
             "ticks": ""
            },
            "colorscale": [
             [
              0,
              "#0d0887"
             ],
             [
              0.1111111111111111,
              "#46039f"
             ],
             [
              0.2222222222222222,
              "#7201a8"
             ],
             [
              0.3333333333333333,
              "#9c179e"
             ],
             [
              0.4444444444444444,
              "#bd3786"
             ],
             [
              0.5555555555555556,
              "#d8576b"
             ],
             [
              0.6666666666666666,
              "#ed7953"
             ],
             [
              0.7777777777777778,
              "#fb9f3a"
             ],
             [
              0.8888888888888888,
              "#fdca26"
             ],
             [
              1,
              "#f0f921"
             ]
            ],
            "type": "contour"
           }
          ],
          "contourcarpet": [
           {
            "colorbar": {
             "outlinewidth": 0,
             "ticks": ""
            },
            "type": "contourcarpet"
           }
          ],
          "heatmap": [
           {
            "colorbar": {
             "outlinewidth": 0,
             "ticks": ""
            },
            "colorscale": [
             [
              0,
              "#0d0887"
             ],
             [
              0.1111111111111111,
              "#46039f"
             ],
             [
              0.2222222222222222,
              "#7201a8"
             ],
             [
              0.3333333333333333,
              "#9c179e"
             ],
             [
              0.4444444444444444,
              "#bd3786"
             ],
             [
              0.5555555555555556,
              "#d8576b"
             ],
             [
              0.6666666666666666,
              "#ed7953"
             ],
             [
              0.7777777777777778,
              "#fb9f3a"
             ],
             [
              0.8888888888888888,
              "#fdca26"
             ],
             [
              1,
              "#f0f921"
             ]
            ],
            "type": "heatmap"
           }
          ],
          "histogram": [
           {
            "marker": {
             "pattern": {
              "fillmode": "overlay",
              "size": 10,
              "solidity": 0.2
             }
            },
            "type": "histogram"
           }
          ],
          "histogram2d": [
           {
            "colorbar": {
             "outlinewidth": 0,
             "ticks": ""
            },
            "colorscale": [
             [
              0,
              "#0d0887"
             ],
             [
              0.1111111111111111,
              "#46039f"
             ],
             [
              0.2222222222222222,
              "#7201a8"
             ],
             [
              0.3333333333333333,
              "#9c179e"
             ],
             [
              0.4444444444444444,
              "#bd3786"
             ],
             [
              0.5555555555555556,
              "#d8576b"
             ],
             [
              0.6666666666666666,
              "#ed7953"
             ],
             [
              0.7777777777777778,
              "#fb9f3a"
             ],
             [
              0.8888888888888888,
              "#fdca26"
             ],
             [
              1,
              "#f0f921"
             ]
            ],
            "type": "histogram2d"
           }
          ],
          "histogram2dcontour": [
           {
            "colorbar": {
             "outlinewidth": 0,
             "ticks": ""
            },
            "colorscale": [
             [
              0,
              "#0d0887"
             ],
             [
              0.1111111111111111,
              "#46039f"
             ],
             [
              0.2222222222222222,
              "#7201a8"
             ],
             [
              0.3333333333333333,
              "#9c179e"
             ],
             [
              0.4444444444444444,
              "#bd3786"
             ],
             [
              0.5555555555555556,
              "#d8576b"
             ],
             [
              0.6666666666666666,
              "#ed7953"
             ],
             [
              0.7777777777777778,
              "#fb9f3a"
             ],
             [
              0.8888888888888888,
              "#fdca26"
             ],
             [
              1,
              "#f0f921"
             ]
            ],
            "type": "histogram2dcontour"
           }
          ],
          "mesh3d": [
           {
            "colorbar": {
             "outlinewidth": 0,
             "ticks": ""
            },
            "type": "mesh3d"
           }
          ],
          "parcoords": [
           {
            "line": {
             "colorbar": {
              "outlinewidth": 0,
              "ticks": ""
             }
            },
            "type": "parcoords"
           }
          ],
          "pie": [
           {
            "automargin": true,
            "type": "pie"
           }
          ],
          "scatter": [
           {
            "fillpattern": {
             "fillmode": "overlay",
             "size": 10,
             "solidity": 0.2
            },
            "type": "scatter"
           }
          ],
          "scatter3d": [
           {
            "line": {
             "colorbar": {
              "outlinewidth": 0,
              "ticks": ""
             }
            },
            "marker": {
             "colorbar": {
              "outlinewidth": 0,
              "ticks": ""
             }
            },
            "type": "scatter3d"
           }
          ],
          "scattercarpet": [
           {
            "marker": {
             "colorbar": {
              "outlinewidth": 0,
              "ticks": ""
             }
            },
            "type": "scattercarpet"
           }
          ],
          "scattergeo": [
           {
            "marker": {
             "colorbar": {
              "outlinewidth": 0,
              "ticks": ""
             }
            },
            "type": "scattergeo"
           }
          ],
          "scattergl": [
           {
            "marker": {
             "colorbar": {
              "outlinewidth": 0,
              "ticks": ""
             }
            },
            "type": "scattergl"
           }
          ],
          "scattermap": [
           {
            "marker": {
             "colorbar": {
              "outlinewidth": 0,
              "ticks": ""
             }
            },
            "type": "scattermap"
           }
          ],
          "scattermapbox": [
           {
            "marker": {
             "colorbar": {
              "outlinewidth": 0,
              "ticks": ""
             }
            },
            "type": "scattermapbox"
           }
          ],
          "scatterpolar": [
           {
            "marker": {
             "colorbar": {
              "outlinewidth": 0,
              "ticks": ""
             }
            },
            "type": "scatterpolar"
           }
          ],
          "scatterpolargl": [
           {
            "marker": {
             "colorbar": {
              "outlinewidth": 0,
              "ticks": ""
             }
            },
            "type": "scatterpolargl"
           }
          ],
          "scatterternary": [
           {
            "marker": {
             "colorbar": {
              "outlinewidth": 0,
              "ticks": ""
             }
            },
            "type": "scatterternary"
           }
          ],
          "surface": [
           {
            "colorbar": {
             "outlinewidth": 0,
             "ticks": ""
            },
            "colorscale": [
             [
              0,
              "#0d0887"
             ],
             [
              0.1111111111111111,
              "#46039f"
             ],
             [
              0.2222222222222222,
              "#7201a8"
             ],
             [
              0.3333333333333333,
              "#9c179e"
             ],
             [
              0.4444444444444444,
              "#bd3786"
             ],
             [
              0.5555555555555556,
              "#d8576b"
             ],
             [
              0.6666666666666666,
              "#ed7953"
             ],
             [
              0.7777777777777778,
              "#fb9f3a"
             ],
             [
              0.8888888888888888,
              "#fdca26"
             ],
             [
              1,
              "#f0f921"
             ]
            ],
            "type": "surface"
           }
          ],
          "table": [
           {
            "cells": {
             "fill": {
              "color": "#EBF0F8"
             },
             "line": {
              "color": "white"
             }
            },
            "header": {
             "fill": {
              "color": "#C8D4E3"
             },
             "line": {
              "color": "white"
             }
            },
            "type": "table"
           }
          ]
         },
         "layout": {
          "annotationdefaults": {
           "arrowcolor": "#2a3f5f",
           "arrowhead": 0,
           "arrowwidth": 1
          },
          "autotypenumbers": "strict",
          "coloraxis": {
           "colorbar": {
            "outlinewidth": 0,
            "ticks": ""
           }
          },
          "colorscale": {
           "diverging": [
            [
             0,
             "#8e0152"
            ],
            [
             0.1,
             "#c51b7d"
            ],
            [
             0.2,
             "#de77ae"
            ],
            [
             0.3,
             "#f1b6da"
            ],
            [
             0.4,
             "#fde0ef"
            ],
            [
             0.5,
             "#f7f7f7"
            ],
            [
             0.6,
             "#e6f5d0"
            ],
            [
             0.7,
             "#b8e186"
            ],
            [
             0.8,
             "#7fbc41"
            ],
            [
             0.9,
             "#4d9221"
            ],
            [
             1,
             "#276419"
            ]
           ],
           "sequential": [
            [
             0,
             "#0d0887"
            ],
            [
             0.1111111111111111,
             "#46039f"
            ],
            [
             0.2222222222222222,
             "#7201a8"
            ],
            [
             0.3333333333333333,
             "#9c179e"
            ],
            [
             0.4444444444444444,
             "#bd3786"
            ],
            [
             0.5555555555555556,
             "#d8576b"
            ],
            [
             0.6666666666666666,
             "#ed7953"
            ],
            [
             0.7777777777777778,
             "#fb9f3a"
            ],
            [
             0.8888888888888888,
             "#fdca26"
            ],
            [
             1,
             "#f0f921"
            ]
           ],
           "sequentialminus": [
            [
             0,
             "#0d0887"
            ],
            [
             0.1111111111111111,
             "#46039f"
            ],
            [
             0.2222222222222222,
             "#7201a8"
            ],
            [
             0.3333333333333333,
             "#9c179e"
            ],
            [
             0.4444444444444444,
             "#bd3786"
            ],
            [
             0.5555555555555556,
             "#d8576b"
            ],
            [
             0.6666666666666666,
             "#ed7953"
            ],
            [
             0.7777777777777778,
             "#fb9f3a"
            ],
            [
             0.8888888888888888,
             "#fdca26"
            ],
            [
             1,
             "#f0f921"
            ]
           ]
          },
          "colorway": [
           "#636efa",
           "#EF553B",
           "#00cc96",
           "#ab63fa",
           "#FFA15A",
           "#19d3f3",
           "#FF6692",
           "#B6E880",
           "#FF97FF",
           "#FECB52"
          ],
          "font": {
           "color": "#2a3f5f"
          },
          "geo": {
           "bgcolor": "white",
           "lakecolor": "white",
           "landcolor": "#E5ECF6",
           "showlakes": true,
           "showland": true,
           "subunitcolor": "white"
          },
          "hoverlabel": {
           "align": "left"
          },
          "hovermode": "closest",
          "mapbox": {
           "style": "light"
          },
          "paper_bgcolor": "white",
          "plot_bgcolor": "#E5ECF6",
          "polar": {
           "angularaxis": {
            "gridcolor": "white",
            "linecolor": "white",
            "ticks": ""
           },
           "bgcolor": "#E5ECF6",
           "radialaxis": {
            "gridcolor": "white",
            "linecolor": "white",
            "ticks": ""
           }
          },
          "scene": {
           "xaxis": {
            "backgroundcolor": "#E5ECF6",
            "gridcolor": "white",
            "gridwidth": 2,
            "linecolor": "white",
            "showbackground": true,
            "ticks": "",
            "zerolinecolor": "white"
           },
           "yaxis": {
            "backgroundcolor": "#E5ECF6",
            "gridcolor": "white",
            "gridwidth": 2,
            "linecolor": "white",
            "showbackground": true,
            "ticks": "",
            "zerolinecolor": "white"
           },
           "zaxis": {
            "backgroundcolor": "#E5ECF6",
            "gridcolor": "white",
            "gridwidth": 2,
            "linecolor": "white",
            "showbackground": true,
            "ticks": "",
            "zerolinecolor": "white"
           }
          },
          "shapedefaults": {
           "line": {
            "color": "#2a3f5f"
           }
          },
          "ternary": {
           "aaxis": {
            "gridcolor": "white",
            "linecolor": "white",
            "ticks": ""
           },
           "baxis": {
            "gridcolor": "white",
            "linecolor": "white",
            "ticks": ""
           },
           "bgcolor": "#E5ECF6",
           "caxis": {
            "gridcolor": "white",
            "linecolor": "white",
            "ticks": ""
           }
          },
          "title": {
           "x": 0.05
          },
          "xaxis": {
           "automargin": true,
           "gridcolor": "white",
           "linecolor": "white",
           "ticks": "",
           "title": {
            "standoff": 15
           },
           "zerolinecolor": "white",
           "zerolinewidth": 2
          },
          "yaxis": {
           "automargin": true,
           "gridcolor": "white",
           "linecolor": "white",
           "ticks": "",
           "title": {
            "standoff": 15
           },
           "zerolinecolor": "white",
           "zerolinewidth": 2
          }
         }
        },
        "width": 500
       }
      }
     },
     "metadata": {},
     "output_type": "display_data"
    }
   ],
   "source": [
    "# Test\n",
    "rg = Generator(PCG64(42069)) # set your own unique seed number\n",
    "n_cities = 10\n",
    "cities = simulate_cities(rg, n_cities)\n",
    "start_time = time.time()  # Record start time\n",
    "solution, distance = greedy(cities) # new input parameter K\n",
    "end_time = time.time()  # Record end time\n",
    "print(\"best solution:\", solution)\n",
    "print(\"distance travelled:\", distance)\n",
    "print(\"Computing time:\", end_time - start_time, \"seconds\")\n",
    "\n",
    "draw_salesman(solution, cities)"
   ]
  },
  {
   "cell_type": "markdown",
   "metadata": {},
   "source": [
    "### Exercise 3: Local search\n",
    "\n",
    "A local search algorithm iteratively explores neighboring solutions to improve upon an initial candidate, aiming to find the optimal solution by making incremental changes.\n",
    "\n",
    "**Input**: \n",
    "\n",
    "$V(x)$: Neighbourhood structure, where $V(x)$ is the set of feasible neighbors of $x$. Use the 2-OPT neighborhod.\n",
    "\n",
    "**Initialization**: \n",
    "- $x_0$: use the outcome of the greedy algorithm\n",
    "\n",
    "**Iterations**: \n",
    "- At each iteration $k$, consider the neighbors in $V(x_k)$ one at a time\n",
    "- For each $y \\in V(x_k)$, if $f(y) \\leq f(x_k)$, then $x_{k+1} = y$\n",
    "- If $f(y) > f(x_k), \\forall y \\in V(x_k)$, $x_k$ is a local minimum. Stop."
   ]
  },
  {
   "cell_type": "markdown",
   "metadata": {},
   "source": [
    "Functions to implement:\n",
    "\n",
    "`twoOPT_neighborhood()`\n",
    "\n",
    "`local_search()`\n",
    "\n",
    "Calculate the computational time."
   ]
  },
  {
   "cell_type": "code",
   "execution_count": 15,
   "metadata": {},
   "outputs": [],
   "source": [
    "def twoOPT_neighborhood(x, cities=None, **kwargs):\n",
    "    \"\"\"Function to implement\n",
    "\n",
    "    Returns the 2-OPT neighborhoods of a path. \n",
    "\n",
    "    Args:\n",
    "        x : a row vector representing the current city sequence\n",
    "        cities (dict, optional): data structure that contains supplementary \n",
    "            information about the problem, in particular the xy-coordinates of the \n",
    "            cities.\n",
    "        **kwargs: arbitrary keyword arguments (optional variables)\n",
    "    \n",
    "    Returns:\n",
    "        neighbors (list): a matrix representing all paths part of the neighbohood of x\n",
    "    \n",
    "    \"\"\"\n",
    "    \n",
    "    # implement your own solution here\n",
    "    n = len(x)\n",
    "    neighbors = []\n",
    "    # Generate all 2-opt neighbors\n",
    "    for i in range(1, n-2):\n",
    "        for j in range(i+1, n-1):\n",
    "            # Create a new path by reversing the segment between i and j\n",
    "            new_path = x[:i] + x[i:j+1][::-1] + x[j+1:]\n",
    "            neighbors.append(new_path)\n",
    "    \n",
    "    return neighbors\n",
    "    \n",
    "    \n",
    "\n",
    "def local_search(cities, **kwargs):\n",
    "    \"\"\"Function to implement\n",
    "\n",
    "     Returns a local minimum of the traveling salesman problem\n",
    "\n",
    "    Args:\n",
    "        cities (dict, optional): data structure that contains supplementary \n",
    "            information about the problem, in particular the xy-coordinates of the \n",
    "            cities.\n",
    "        **kwargs: arbitrary keyword arguments (optional variables)\n",
    "    \n",
    "    Returns:\n",
    "        x:  a row vector representing a local minimum city sequence\n",
    "        objValue_x: a scalar representing the objective function value of the path outputted\n",
    "    \n",
    "    \"\"\"\n",
    "    \n",
    "    # implement your own solution here\n",
    "    # Initialize the path using a greedy solution\n",
    "    x, objValue_x = greedy(cities)\n",
    "    improved = True\n",
    "    while improved:\n",
    "        improved = False\n",
    "        # Generate 2-opt neighbors\n",
    "        neighbors = twoOPT_neighborhood(x, cities)\n",
    "        for neighbor in neighbors:\n",
    "            # Evaluate the objective function value of the neighbor\n",
    "            objValue_neighbor = evaluate_city_sequence(neighbor, cities)\n",
    "            # If the neighbor is better, update x and objValue_x\n",
    "            if objValue_neighbor < objValue_x:\n",
    "                x = neighbor\n",
    "                objValue_x = objValue_neighbor\n",
    "                improved = True\n",
    "                break  # Exit the inner loop to start again with the new x\n",
    "\n",
    "    # Return the best path and its cost\n",
    "    return x, objValue_x\n",
    "    "
   ]
  },
  {
   "cell_type": "markdown",
   "metadata": {},
   "source": [
    "#### Test the function"
   ]
  },
  {
   "cell_type": "code",
   "execution_count": 16,
   "metadata": {},
   "outputs": [
    {
     "name": "stdout",
     "output_type": "stream",
     "text": [
      "best solution: [0, 5, 4, 8, 1, 9, 3, 6, 7, 2]\n",
      "distance travelled: 2.052215419628349\n",
      "Computing time: 0.0005652904510498047 seconds\n"
     ]
    },
    {
     "data": {
      "application/vnd.plotly.v1+json": {
       "config": {
        "plotlyServerURL": "https://plot.ly"
       },
       "data": [
        {
         "mode": "lines",
         "type": "scatter",
         "x": [
          0.9478996465627648,
          0.8072731499300757,
          0.5408533259842724,
          0.3989059418598707,
          0.07180247229372805,
          0.5754637086577505,
          0.721347982465723,
          0.6985951690873387,
          0.7701562520511277,
          0.5594414353429973
         ],
         "y": [
          0.2974102502883651,
          0.35227676836708866,
          0.4535449329926894,
          0.34322732737709305,
          0.3295081953938601,
          0.6388855586960542,
          0.691424444294593,
          0.735711881881111,
          0.7905928224207733,
          0.8634674736423997
         ]
        },
        {
         "marker": {
          "size": 10,
          "symbol": "star"
         },
         "mode": "markers",
         "text": "0",
         "type": "scatter",
         "x": [
          0.9478996465627648
         ],
         "y": [
          0.2974102502883651
         ]
        },
        {
         "marker": {
          "size": 10,
          "symbol": "x"
         },
         "mode": "markers",
         "text": [
          "5",
          "4",
          "8",
          "1",
          "9",
          "3",
          "6",
          "7"
         ],
         "type": "scatter",
         "x": [
          0.8072731499300757,
          0.5408533259842724,
          0.3989059418598707,
          0.07180247229372805,
          0.5754637086577505,
          0.721347982465723,
          0.6985951690873387,
          0.7701562520511277
         ],
         "y": [
          0.35227676836708866,
          0.4535449329926894,
          0.34322732737709305,
          0.3295081953938601,
          0.6388855586960542,
          0.691424444294593,
          0.735711881881111,
          0.7905928224207733
         ]
        }
       ],
       "layout": {
        "height": 500,
        "showlegend": false,
        "template": {
         "data": {
          "bar": [
           {
            "error_x": {
             "color": "#2a3f5f"
            },
            "error_y": {
             "color": "#2a3f5f"
            },
            "marker": {
             "line": {
              "color": "#E5ECF6",
              "width": 0.5
             },
             "pattern": {
              "fillmode": "overlay",
              "size": 10,
              "solidity": 0.2
             }
            },
            "type": "bar"
           }
          ],
          "barpolar": [
           {
            "marker": {
             "line": {
              "color": "#E5ECF6",
              "width": 0.5
             },
             "pattern": {
              "fillmode": "overlay",
              "size": 10,
              "solidity": 0.2
             }
            },
            "type": "barpolar"
           }
          ],
          "carpet": [
           {
            "aaxis": {
             "endlinecolor": "#2a3f5f",
             "gridcolor": "white",
             "linecolor": "white",
             "minorgridcolor": "white",
             "startlinecolor": "#2a3f5f"
            },
            "baxis": {
             "endlinecolor": "#2a3f5f",
             "gridcolor": "white",
             "linecolor": "white",
             "minorgridcolor": "white",
             "startlinecolor": "#2a3f5f"
            },
            "type": "carpet"
           }
          ],
          "choropleth": [
           {
            "colorbar": {
             "outlinewidth": 0,
             "ticks": ""
            },
            "type": "choropleth"
           }
          ],
          "contour": [
           {
            "colorbar": {
             "outlinewidth": 0,
             "ticks": ""
            },
            "colorscale": [
             [
              0,
              "#0d0887"
             ],
             [
              0.1111111111111111,
              "#46039f"
             ],
             [
              0.2222222222222222,
              "#7201a8"
             ],
             [
              0.3333333333333333,
              "#9c179e"
             ],
             [
              0.4444444444444444,
              "#bd3786"
             ],
             [
              0.5555555555555556,
              "#d8576b"
             ],
             [
              0.6666666666666666,
              "#ed7953"
             ],
             [
              0.7777777777777778,
              "#fb9f3a"
             ],
             [
              0.8888888888888888,
              "#fdca26"
             ],
             [
              1,
              "#f0f921"
             ]
            ],
            "type": "contour"
           }
          ],
          "contourcarpet": [
           {
            "colorbar": {
             "outlinewidth": 0,
             "ticks": ""
            },
            "type": "contourcarpet"
           }
          ],
          "heatmap": [
           {
            "colorbar": {
             "outlinewidth": 0,
             "ticks": ""
            },
            "colorscale": [
             [
              0,
              "#0d0887"
             ],
             [
              0.1111111111111111,
              "#46039f"
             ],
             [
              0.2222222222222222,
              "#7201a8"
             ],
             [
              0.3333333333333333,
              "#9c179e"
             ],
             [
              0.4444444444444444,
              "#bd3786"
             ],
             [
              0.5555555555555556,
              "#d8576b"
             ],
             [
              0.6666666666666666,
              "#ed7953"
             ],
             [
              0.7777777777777778,
              "#fb9f3a"
             ],
             [
              0.8888888888888888,
              "#fdca26"
             ],
             [
              1,
              "#f0f921"
             ]
            ],
            "type": "heatmap"
           }
          ],
          "histogram": [
           {
            "marker": {
             "pattern": {
              "fillmode": "overlay",
              "size": 10,
              "solidity": 0.2
             }
            },
            "type": "histogram"
           }
          ],
          "histogram2d": [
           {
            "colorbar": {
             "outlinewidth": 0,
             "ticks": ""
            },
            "colorscale": [
             [
              0,
              "#0d0887"
             ],
             [
              0.1111111111111111,
              "#46039f"
             ],
             [
              0.2222222222222222,
              "#7201a8"
             ],
             [
              0.3333333333333333,
              "#9c179e"
             ],
             [
              0.4444444444444444,
              "#bd3786"
             ],
             [
              0.5555555555555556,
              "#d8576b"
             ],
             [
              0.6666666666666666,
              "#ed7953"
             ],
             [
              0.7777777777777778,
              "#fb9f3a"
             ],
             [
              0.8888888888888888,
              "#fdca26"
             ],
             [
              1,
              "#f0f921"
             ]
            ],
            "type": "histogram2d"
           }
          ],
          "histogram2dcontour": [
           {
            "colorbar": {
             "outlinewidth": 0,
             "ticks": ""
            },
            "colorscale": [
             [
              0,
              "#0d0887"
             ],
             [
              0.1111111111111111,
              "#46039f"
             ],
             [
              0.2222222222222222,
              "#7201a8"
             ],
             [
              0.3333333333333333,
              "#9c179e"
             ],
             [
              0.4444444444444444,
              "#bd3786"
             ],
             [
              0.5555555555555556,
              "#d8576b"
             ],
             [
              0.6666666666666666,
              "#ed7953"
             ],
             [
              0.7777777777777778,
              "#fb9f3a"
             ],
             [
              0.8888888888888888,
              "#fdca26"
             ],
             [
              1,
              "#f0f921"
             ]
            ],
            "type": "histogram2dcontour"
           }
          ],
          "mesh3d": [
           {
            "colorbar": {
             "outlinewidth": 0,
             "ticks": ""
            },
            "type": "mesh3d"
           }
          ],
          "parcoords": [
           {
            "line": {
             "colorbar": {
              "outlinewidth": 0,
              "ticks": ""
             }
            },
            "type": "parcoords"
           }
          ],
          "pie": [
           {
            "automargin": true,
            "type": "pie"
           }
          ],
          "scatter": [
           {
            "fillpattern": {
             "fillmode": "overlay",
             "size": 10,
             "solidity": 0.2
            },
            "type": "scatter"
           }
          ],
          "scatter3d": [
           {
            "line": {
             "colorbar": {
              "outlinewidth": 0,
              "ticks": ""
             }
            },
            "marker": {
             "colorbar": {
              "outlinewidth": 0,
              "ticks": ""
             }
            },
            "type": "scatter3d"
           }
          ],
          "scattercarpet": [
           {
            "marker": {
             "colorbar": {
              "outlinewidth": 0,
              "ticks": ""
             }
            },
            "type": "scattercarpet"
           }
          ],
          "scattergeo": [
           {
            "marker": {
             "colorbar": {
              "outlinewidth": 0,
              "ticks": ""
             }
            },
            "type": "scattergeo"
           }
          ],
          "scattergl": [
           {
            "marker": {
             "colorbar": {
              "outlinewidth": 0,
              "ticks": ""
             }
            },
            "type": "scattergl"
           }
          ],
          "scattermap": [
           {
            "marker": {
             "colorbar": {
              "outlinewidth": 0,
              "ticks": ""
             }
            },
            "type": "scattermap"
           }
          ],
          "scattermapbox": [
           {
            "marker": {
             "colorbar": {
              "outlinewidth": 0,
              "ticks": ""
             }
            },
            "type": "scattermapbox"
           }
          ],
          "scatterpolar": [
           {
            "marker": {
             "colorbar": {
              "outlinewidth": 0,
              "ticks": ""
             }
            },
            "type": "scatterpolar"
           }
          ],
          "scatterpolargl": [
           {
            "marker": {
             "colorbar": {
              "outlinewidth": 0,
              "ticks": ""
             }
            },
            "type": "scatterpolargl"
           }
          ],
          "scatterternary": [
           {
            "marker": {
             "colorbar": {
              "outlinewidth": 0,
              "ticks": ""
             }
            },
            "type": "scatterternary"
           }
          ],
          "surface": [
           {
            "colorbar": {
             "outlinewidth": 0,
             "ticks": ""
            },
            "colorscale": [
             [
              0,
              "#0d0887"
             ],
             [
              0.1111111111111111,
              "#46039f"
             ],
             [
              0.2222222222222222,
              "#7201a8"
             ],
             [
              0.3333333333333333,
              "#9c179e"
             ],
             [
              0.4444444444444444,
              "#bd3786"
             ],
             [
              0.5555555555555556,
              "#d8576b"
             ],
             [
              0.6666666666666666,
              "#ed7953"
             ],
             [
              0.7777777777777778,
              "#fb9f3a"
             ],
             [
              0.8888888888888888,
              "#fdca26"
             ],
             [
              1,
              "#f0f921"
             ]
            ],
            "type": "surface"
           }
          ],
          "table": [
           {
            "cells": {
             "fill": {
              "color": "#EBF0F8"
             },
             "line": {
              "color": "white"
             }
            },
            "header": {
             "fill": {
              "color": "#C8D4E3"
             },
             "line": {
              "color": "white"
             }
            },
            "type": "table"
           }
          ]
         },
         "layout": {
          "annotationdefaults": {
           "arrowcolor": "#2a3f5f",
           "arrowhead": 0,
           "arrowwidth": 1
          },
          "autotypenumbers": "strict",
          "coloraxis": {
           "colorbar": {
            "outlinewidth": 0,
            "ticks": ""
           }
          },
          "colorscale": {
           "diverging": [
            [
             0,
             "#8e0152"
            ],
            [
             0.1,
             "#c51b7d"
            ],
            [
             0.2,
             "#de77ae"
            ],
            [
             0.3,
             "#f1b6da"
            ],
            [
             0.4,
             "#fde0ef"
            ],
            [
             0.5,
             "#f7f7f7"
            ],
            [
             0.6,
             "#e6f5d0"
            ],
            [
             0.7,
             "#b8e186"
            ],
            [
             0.8,
             "#7fbc41"
            ],
            [
             0.9,
             "#4d9221"
            ],
            [
             1,
             "#276419"
            ]
           ],
           "sequential": [
            [
             0,
             "#0d0887"
            ],
            [
             0.1111111111111111,
             "#46039f"
            ],
            [
             0.2222222222222222,
             "#7201a8"
            ],
            [
             0.3333333333333333,
             "#9c179e"
            ],
            [
             0.4444444444444444,
             "#bd3786"
            ],
            [
             0.5555555555555556,
             "#d8576b"
            ],
            [
             0.6666666666666666,
             "#ed7953"
            ],
            [
             0.7777777777777778,
             "#fb9f3a"
            ],
            [
             0.8888888888888888,
             "#fdca26"
            ],
            [
             1,
             "#f0f921"
            ]
           ],
           "sequentialminus": [
            [
             0,
             "#0d0887"
            ],
            [
             0.1111111111111111,
             "#46039f"
            ],
            [
             0.2222222222222222,
             "#7201a8"
            ],
            [
             0.3333333333333333,
             "#9c179e"
            ],
            [
             0.4444444444444444,
             "#bd3786"
            ],
            [
             0.5555555555555556,
             "#d8576b"
            ],
            [
             0.6666666666666666,
             "#ed7953"
            ],
            [
             0.7777777777777778,
             "#fb9f3a"
            ],
            [
             0.8888888888888888,
             "#fdca26"
            ],
            [
             1,
             "#f0f921"
            ]
           ]
          },
          "colorway": [
           "#636efa",
           "#EF553B",
           "#00cc96",
           "#ab63fa",
           "#FFA15A",
           "#19d3f3",
           "#FF6692",
           "#B6E880",
           "#FF97FF",
           "#FECB52"
          ],
          "font": {
           "color": "#2a3f5f"
          },
          "geo": {
           "bgcolor": "white",
           "lakecolor": "white",
           "landcolor": "#E5ECF6",
           "showlakes": true,
           "showland": true,
           "subunitcolor": "white"
          },
          "hoverlabel": {
           "align": "left"
          },
          "hovermode": "closest",
          "mapbox": {
           "style": "light"
          },
          "paper_bgcolor": "white",
          "plot_bgcolor": "#E5ECF6",
          "polar": {
           "angularaxis": {
            "gridcolor": "white",
            "linecolor": "white",
            "ticks": ""
           },
           "bgcolor": "#E5ECF6",
           "radialaxis": {
            "gridcolor": "white",
            "linecolor": "white",
            "ticks": ""
           }
          },
          "scene": {
           "xaxis": {
            "backgroundcolor": "#E5ECF6",
            "gridcolor": "white",
            "gridwidth": 2,
            "linecolor": "white",
            "showbackground": true,
            "ticks": "",
            "zerolinecolor": "white"
           },
           "yaxis": {
            "backgroundcolor": "#E5ECF6",
            "gridcolor": "white",
            "gridwidth": 2,
            "linecolor": "white",
            "showbackground": true,
            "ticks": "",
            "zerolinecolor": "white"
           },
           "zaxis": {
            "backgroundcolor": "#E5ECF6",
            "gridcolor": "white",
            "gridwidth": 2,
            "linecolor": "white",
            "showbackground": true,
            "ticks": "",
            "zerolinecolor": "white"
           }
          },
          "shapedefaults": {
           "line": {
            "color": "#2a3f5f"
           }
          },
          "ternary": {
           "aaxis": {
            "gridcolor": "white",
            "linecolor": "white",
            "ticks": ""
           },
           "baxis": {
            "gridcolor": "white",
            "linecolor": "white",
            "ticks": ""
           },
           "bgcolor": "#E5ECF6",
           "caxis": {
            "gridcolor": "white",
            "linecolor": "white",
            "ticks": ""
           }
          },
          "title": {
           "x": 0.05
          },
          "xaxis": {
           "automargin": true,
           "gridcolor": "white",
           "linecolor": "white",
           "ticks": "",
           "title": {
            "standoff": 15
           },
           "zerolinecolor": "white",
           "zerolinewidth": 2
          },
          "yaxis": {
           "automargin": true,
           "gridcolor": "white",
           "linecolor": "white",
           "ticks": "",
           "title": {
            "standoff": 15
           },
           "zerolinecolor": "white",
           "zerolinewidth": 2
          }
         }
        },
        "width": 500
       }
      }
     },
     "metadata": {},
     "output_type": "display_data"
    }
   ],
   "source": [
    "# Test\n",
    "rg = Generator(PCG64(42069)) # set your own unique seed number\n",
    "n_cities = 10\n",
    "cities = simulate_cities(rg, n_cities)\n",
    "start_time = time.time()  # Record start time\n",
    "solution, distance = local_search(cities, iterations=1000)\n",
    "end_time = time.time()  # Record end time\n",
    "print(\"best solution:\", solution)\n",
    "print(\"distance travelled:\", distance)\n",
    "print(\"Computing time:\", end_time - start_time, \"seconds\")\n",
    "\n",
    "draw_salesman(solution, cities)"
   ]
  },
  {
   "cell_type": "markdown",
   "metadata": {},
   "source": [
    "### Exercise 4: Variable Neighborhood Search\n",
    "\n",
    "In variable neighbourhood search, we consider several neighborhood structures.\n",
    "\n",
    "When a local optimum has been found for a given neighborhood structure, continue with another structure.\n",
    "\n",
    "**Input**: \n",
    "\n",
    "$V_1, V_2, ..., V_K$: Neighborhood structures\n",
    "where $K$ is the total number of neighborhoods\n",
    "\n",
    "**Initialization**: \n",
    "- $x_c \\leftarrow x_0$ (initial solution)\n",
    "- $k\\leftarrow 0$ "
   ]
  },
  {
   "cell_type": "markdown",
   "metadata": {},
   "source": [
    "Functions to implement:\n",
    "\n",
    "`neighborhood_1()`\n",
    "\n",
    "`neighborhood_2()`\n",
    "\n",
    "`neighborhood_...()`\n",
    "\n",
    "`neighborhood_k()`\n",
    "\n",
    "`variable_neighborhood_search()`\n",
    "\n",
    "Calculate the computational time."
   ]
  },
  {
   "cell_type": "code",
   "execution_count": 17,
   "metadata": {},
   "outputs": [
    {
     "name": "stdout",
     "output_type": "stream",
     "text": [
      "[(1, 2), (1, 3), (2, 3)]\n"
     ]
    }
   ],
   "source": [
    "# Test\n",
    "import itertools\n",
    "l = [1, 2, 3]\n",
    "combs = itertools.combinations(l, 2)\n",
    "print(list(combs))"
   ]
  },
  {
   "cell_type": "code",
   "execution_count": 18,
   "metadata": {},
   "outputs": [],
   "source": [
    "def neighborhood_1(x, cities=None, **kwargs):\n",
    "    \"\"\"Function to implement\n",
    "\n",
    "    This function returns the neighborhoods of a path. The neighbourhood is defined as swapping t\n",
    "\n",
    "    Args:\n",
    "        x : a row vector representing the current city sequence\n",
    "        cities (dict, optional): data structure that contains supplementary \n",
    "            information about the problem, in particular the xy-coordinates of the \n",
    "            cities.\n",
    "        **kwargs: arbitrary keyword arguments (optional variables)\n",
    "    \n",
    "    Returns:\n",
    "        neighbors (list): a matrix representing all paths part of the neighbohood of x\n",
    "    \"\"\"\n",
    "    x = np.array(x)\n",
    "    \n",
    "    # implement your own solution here\n",
    "    neighbors = []\n",
    "    for i, j in itertools.combinations(np.arange(len(x)), 2):\n",
    "\n",
    "        # Swap the two cities\n",
    "        new_path = x.copy()\n",
    "        new_path[i], new_path[j] = new_path[j], new_path[i]\n",
    "        neighbors.append(new_path)\n",
    "    \n",
    "    return neighbors\n",
    "\n",
    "def neighborhood_2(x, cities=None, **kwargs):\n",
    "    \"\"\"Function to implement\n",
    "\n",
    "    This function returns the neighborhoods of a path. The neighbourhood is defined as swapping t\n",
    "\n",
    "    Args:\n",
    "        x : a row vector representing the current city sequence\n",
    "        cities (dict, optional): data structure that contains supplementary \n",
    "            information about the problem, in particular the xy-coordinates of the \n",
    "            cities.\n",
    "        **kwargs: arbitrary keyword arguments (optional variables)\n",
    "    \n",
    "    Returns:\n",
    "        neighbors (list): a matrix representing all paths part of the neighbohood of x\n",
    "    \"\"\"\n",
    "    x = np.array(x)\n",
    "    \n",
    "    # implement your own solution here\n",
    "    neighbors = []\n",
    "    for i, j, k in itertools.combinations(np.arange(len(x)), 3):\n",
    "\n",
    "        for i_, j_, k_ in itertools.permutations([i, j, k]):\n",
    "            if i_ == i and j_ == j and k_ == k:\n",
    "                continue\n",
    "            \n",
    "            # Swap the two cities\n",
    "            new_path = x.copy()\n",
    "            new_path[i_], new_path[j_], new_path[k_] = new_path[i], new_path[j], new_path[k]\n",
    "            neighbors.append(new_path)\n",
    "\n",
    "    \n",
    "    return neighbors\n",
    "    \n",
    "\n",
    "def variable_neighborhood_search(cities, iterations=600, **kwargs):\n",
    "    \"\"\"Function to implement\n",
    "\n",
    "     Returns a local minimum of the traveling salesman problem\n",
    "\n",
    "    Args:\n",
    "        cities (dict, optional): data structure that contains supplementary \n",
    "            information about the problem, in particular the xy-coordinates of the \n",
    "            cities.\n",
    "        iterations (int): maximum number of iterations of the algorithm\n",
    "        **kwargs: arbitrary keyword arguments (optional variables)\n",
    "    \n",
    "    Returns:\n",
    "        x:  a row vector representing a local minimum city sequence\n",
    "        objValue_x: a scalar representing the objective function value of the path outputted\n",
    "    \n",
    "    \"\"\"\n",
    "    \n",
    "    # implement your own solution here\n",
    "\n",
    "    # Initialize the path using a greedy solution\n",
    "    x, objValue_x = greedy(cities)\n",
    "    print(f\"greedy x: {x}\")\n",
    "\n",
    "    improved = True\n",
    "    iter = 0\n",
    "    while iter < iterations:\n",
    "        improved = False\n",
    "\n",
    "        # Generate 2-opt neighbors\n",
    "        neighbors = neighborhood_1(x, cities)\n",
    "        for neighbor in neighbors:\n",
    "            iter += 1\n",
    "\n",
    "            # Evaluate the objective function value of the neighbor\n",
    "            objValue_neighbor = evaluate_city_sequence(neighbor, cities)\n",
    "\n",
    "            # If the neighbor is better, update x and objValue_x\n",
    "            if objValue_neighbor < objValue_x:\n",
    "                x = neighbor\n",
    "                objValue_x = objValue_neighbor\n",
    "                improved = True\n",
    "                print(f\"neighborhood_1: x = {x}\")\n",
    "                break  # Exit the inner loop to start again with the new x\n",
    "\n",
    "        if improved:\n",
    "            continue\n",
    "\n",
    "        neighbors = neighborhood_2(x, cities)\n",
    "        for neighbor in neighbors:\n",
    "            iter += 1\n",
    "\n",
    "            # Evaluate the objective function value of the neighbor\n",
    "            objValue_neighbor = evaluate_city_sequence(neighbor, cities)\n",
    "\n",
    "            # If the neighbor is better, update x and objValue_x\n",
    "            if objValue_neighbor < objValue_x:\n",
    "                x = neighbor\n",
    "                objValue_x = objValue_neighbor\n",
    "                improved = True\n",
    "                print(f\"neighborhood_2: x = {x}\")\n",
    "                break\n",
    "\n",
    "    # Return the best path and its cost          \n",
    "    return x, objValue_x\n",
    "    "
   ]
  },
  {
   "cell_type": "markdown",
   "metadata": {},
   "source": [
    "#### Test the function"
   ]
  },
  {
   "cell_type": "code",
   "execution_count": 19,
   "metadata": {},
   "outputs": [
    {
     "name": "stdout",
     "output_type": "stream",
     "text": [
      "greedy x: [0, 2, 6, 5, 7, 3, 4, 1, 9, 8]\n",
      "neighborhood_1: x = [2 0 6 5 7 3 4 1 9 8]\n",
      "neighborhood_1: x = [6 0 2 5 7 3 4 1 9 8]\n",
      "best solution: [6 0 2 5 7 3 4 1 9 8]\n",
      "distance travelled: 2.074748817331888\n",
      "Computing time: 0.015939712524414062 seconds\n"
     ]
    },
    {
     "data": {
      "application/vnd.plotly.v1+json": {
       "config": {
        "plotlyServerURL": "https://plot.ly"
       },
       "data": [
        {
         "mode": "lines",
         "type": "scatter",
         "x": [
          0.7949051162030177,
          0.9056042766903121,
          0.9340284082893642,
          0.8804914776062093,
          0.7303591821397812,
          0.6292297667279622,
          0.5114435121032097,
          0.27256975591863775,
          0.39009466097852896,
          0.06646993518474575
         ],
         "y": [
          0.05517228920370765,
          0.0772267932117432,
          0.08494678693877655,
          0.49914664183094415,
          0.7729027325200477,
          0.7755717464742619,
          0.7485077186625034,
          0.621850482246133,
          0.32608869002845986,
          0.10505916153339656
         ]
        },
        {
         "marker": {
          "size": 10,
          "symbol": "star"
         },
         "mode": "markers",
         "text": "0",
         "type": "scatter",
         "x": [
          0.7949051162030177
         ],
         "y": [
          0.05517228920370765
         ]
        },
        {
         "marker": {
          "size": 10,
          "symbol": "x"
         },
         "mode": "markers",
         "text": [
          "0",
          "2",
          "5",
          "7",
          "3",
          "4",
          "1",
          "9"
         ],
         "type": "scatter",
         "x": [
          0.9056042766903121,
          0.9340284082893642,
          0.8804914776062093,
          0.7303591821397812,
          0.6292297667279622,
          0.5114435121032097,
          0.27256975591863775,
          0.39009466097852896
         ],
         "y": [
          0.0772267932117432,
          0.08494678693877655,
          0.49914664183094415,
          0.7729027325200477,
          0.7755717464742619,
          0.7485077186625034,
          0.621850482246133,
          0.32608869002845986
         ]
        }
       ],
       "layout": {
        "height": 500,
        "showlegend": false,
        "template": {
         "data": {
          "bar": [
           {
            "error_x": {
             "color": "#2a3f5f"
            },
            "error_y": {
             "color": "#2a3f5f"
            },
            "marker": {
             "line": {
              "color": "#E5ECF6",
              "width": 0.5
             },
             "pattern": {
              "fillmode": "overlay",
              "size": 10,
              "solidity": 0.2
             }
            },
            "type": "bar"
           }
          ],
          "barpolar": [
           {
            "marker": {
             "line": {
              "color": "#E5ECF6",
              "width": 0.5
             },
             "pattern": {
              "fillmode": "overlay",
              "size": 10,
              "solidity": 0.2
             }
            },
            "type": "barpolar"
           }
          ],
          "carpet": [
           {
            "aaxis": {
             "endlinecolor": "#2a3f5f",
             "gridcolor": "white",
             "linecolor": "white",
             "minorgridcolor": "white",
             "startlinecolor": "#2a3f5f"
            },
            "baxis": {
             "endlinecolor": "#2a3f5f",
             "gridcolor": "white",
             "linecolor": "white",
             "minorgridcolor": "white",
             "startlinecolor": "#2a3f5f"
            },
            "type": "carpet"
           }
          ],
          "choropleth": [
           {
            "colorbar": {
             "outlinewidth": 0,
             "ticks": ""
            },
            "type": "choropleth"
           }
          ],
          "contour": [
           {
            "colorbar": {
             "outlinewidth": 0,
             "ticks": ""
            },
            "colorscale": [
             [
              0,
              "#0d0887"
             ],
             [
              0.1111111111111111,
              "#46039f"
             ],
             [
              0.2222222222222222,
              "#7201a8"
             ],
             [
              0.3333333333333333,
              "#9c179e"
             ],
             [
              0.4444444444444444,
              "#bd3786"
             ],
             [
              0.5555555555555556,
              "#d8576b"
             ],
             [
              0.6666666666666666,
              "#ed7953"
             ],
             [
              0.7777777777777778,
              "#fb9f3a"
             ],
             [
              0.8888888888888888,
              "#fdca26"
             ],
             [
              1,
              "#f0f921"
             ]
            ],
            "type": "contour"
           }
          ],
          "contourcarpet": [
           {
            "colorbar": {
             "outlinewidth": 0,
             "ticks": ""
            },
            "type": "contourcarpet"
           }
          ],
          "heatmap": [
           {
            "colorbar": {
             "outlinewidth": 0,
             "ticks": ""
            },
            "colorscale": [
             [
              0,
              "#0d0887"
             ],
             [
              0.1111111111111111,
              "#46039f"
             ],
             [
              0.2222222222222222,
              "#7201a8"
             ],
             [
              0.3333333333333333,
              "#9c179e"
             ],
             [
              0.4444444444444444,
              "#bd3786"
             ],
             [
              0.5555555555555556,
              "#d8576b"
             ],
             [
              0.6666666666666666,
              "#ed7953"
             ],
             [
              0.7777777777777778,
              "#fb9f3a"
             ],
             [
              0.8888888888888888,
              "#fdca26"
             ],
             [
              1,
              "#f0f921"
             ]
            ],
            "type": "heatmap"
           }
          ],
          "histogram": [
           {
            "marker": {
             "pattern": {
              "fillmode": "overlay",
              "size": 10,
              "solidity": 0.2
             }
            },
            "type": "histogram"
           }
          ],
          "histogram2d": [
           {
            "colorbar": {
             "outlinewidth": 0,
             "ticks": ""
            },
            "colorscale": [
             [
              0,
              "#0d0887"
             ],
             [
              0.1111111111111111,
              "#46039f"
             ],
             [
              0.2222222222222222,
              "#7201a8"
             ],
             [
              0.3333333333333333,
              "#9c179e"
             ],
             [
              0.4444444444444444,
              "#bd3786"
             ],
             [
              0.5555555555555556,
              "#d8576b"
             ],
             [
              0.6666666666666666,
              "#ed7953"
             ],
             [
              0.7777777777777778,
              "#fb9f3a"
             ],
             [
              0.8888888888888888,
              "#fdca26"
             ],
             [
              1,
              "#f0f921"
             ]
            ],
            "type": "histogram2d"
           }
          ],
          "histogram2dcontour": [
           {
            "colorbar": {
             "outlinewidth": 0,
             "ticks": ""
            },
            "colorscale": [
             [
              0,
              "#0d0887"
             ],
             [
              0.1111111111111111,
              "#46039f"
             ],
             [
              0.2222222222222222,
              "#7201a8"
             ],
             [
              0.3333333333333333,
              "#9c179e"
             ],
             [
              0.4444444444444444,
              "#bd3786"
             ],
             [
              0.5555555555555556,
              "#d8576b"
             ],
             [
              0.6666666666666666,
              "#ed7953"
             ],
             [
              0.7777777777777778,
              "#fb9f3a"
             ],
             [
              0.8888888888888888,
              "#fdca26"
             ],
             [
              1,
              "#f0f921"
             ]
            ],
            "type": "histogram2dcontour"
           }
          ],
          "mesh3d": [
           {
            "colorbar": {
             "outlinewidth": 0,
             "ticks": ""
            },
            "type": "mesh3d"
           }
          ],
          "parcoords": [
           {
            "line": {
             "colorbar": {
              "outlinewidth": 0,
              "ticks": ""
             }
            },
            "type": "parcoords"
           }
          ],
          "pie": [
           {
            "automargin": true,
            "type": "pie"
           }
          ],
          "scatter": [
           {
            "fillpattern": {
             "fillmode": "overlay",
             "size": 10,
             "solidity": 0.2
            },
            "type": "scatter"
           }
          ],
          "scatter3d": [
           {
            "line": {
             "colorbar": {
              "outlinewidth": 0,
              "ticks": ""
             }
            },
            "marker": {
             "colorbar": {
              "outlinewidth": 0,
              "ticks": ""
             }
            },
            "type": "scatter3d"
           }
          ],
          "scattercarpet": [
           {
            "marker": {
             "colorbar": {
              "outlinewidth": 0,
              "ticks": ""
             }
            },
            "type": "scattercarpet"
           }
          ],
          "scattergeo": [
           {
            "marker": {
             "colorbar": {
              "outlinewidth": 0,
              "ticks": ""
             }
            },
            "type": "scattergeo"
           }
          ],
          "scattergl": [
           {
            "marker": {
             "colorbar": {
              "outlinewidth": 0,
              "ticks": ""
             }
            },
            "type": "scattergl"
           }
          ],
          "scattermap": [
           {
            "marker": {
             "colorbar": {
              "outlinewidth": 0,
              "ticks": ""
             }
            },
            "type": "scattermap"
           }
          ],
          "scattermapbox": [
           {
            "marker": {
             "colorbar": {
              "outlinewidth": 0,
              "ticks": ""
             }
            },
            "type": "scattermapbox"
           }
          ],
          "scatterpolar": [
           {
            "marker": {
             "colorbar": {
              "outlinewidth": 0,
              "ticks": ""
             }
            },
            "type": "scatterpolar"
           }
          ],
          "scatterpolargl": [
           {
            "marker": {
             "colorbar": {
              "outlinewidth": 0,
              "ticks": ""
             }
            },
            "type": "scatterpolargl"
           }
          ],
          "scatterternary": [
           {
            "marker": {
             "colorbar": {
              "outlinewidth": 0,
              "ticks": ""
             }
            },
            "type": "scatterternary"
           }
          ],
          "surface": [
           {
            "colorbar": {
             "outlinewidth": 0,
             "ticks": ""
            },
            "colorscale": [
             [
              0,
              "#0d0887"
             ],
             [
              0.1111111111111111,
              "#46039f"
             ],
             [
              0.2222222222222222,
              "#7201a8"
             ],
             [
              0.3333333333333333,
              "#9c179e"
             ],
             [
              0.4444444444444444,
              "#bd3786"
             ],
             [
              0.5555555555555556,
              "#d8576b"
             ],
             [
              0.6666666666666666,
              "#ed7953"
             ],
             [
              0.7777777777777778,
              "#fb9f3a"
             ],
             [
              0.8888888888888888,
              "#fdca26"
             ],
             [
              1,
              "#f0f921"
             ]
            ],
            "type": "surface"
           }
          ],
          "table": [
           {
            "cells": {
             "fill": {
              "color": "#EBF0F8"
             },
             "line": {
              "color": "white"
             }
            },
            "header": {
             "fill": {
              "color": "#C8D4E3"
             },
             "line": {
              "color": "white"
             }
            },
            "type": "table"
           }
          ]
         },
         "layout": {
          "annotationdefaults": {
           "arrowcolor": "#2a3f5f",
           "arrowhead": 0,
           "arrowwidth": 1
          },
          "autotypenumbers": "strict",
          "coloraxis": {
           "colorbar": {
            "outlinewidth": 0,
            "ticks": ""
           }
          },
          "colorscale": {
           "diverging": [
            [
             0,
             "#8e0152"
            ],
            [
             0.1,
             "#c51b7d"
            ],
            [
             0.2,
             "#de77ae"
            ],
            [
             0.3,
             "#f1b6da"
            ],
            [
             0.4,
             "#fde0ef"
            ],
            [
             0.5,
             "#f7f7f7"
            ],
            [
             0.6,
             "#e6f5d0"
            ],
            [
             0.7,
             "#b8e186"
            ],
            [
             0.8,
             "#7fbc41"
            ],
            [
             0.9,
             "#4d9221"
            ],
            [
             1,
             "#276419"
            ]
           ],
           "sequential": [
            [
             0,
             "#0d0887"
            ],
            [
             0.1111111111111111,
             "#46039f"
            ],
            [
             0.2222222222222222,
             "#7201a8"
            ],
            [
             0.3333333333333333,
             "#9c179e"
            ],
            [
             0.4444444444444444,
             "#bd3786"
            ],
            [
             0.5555555555555556,
             "#d8576b"
            ],
            [
             0.6666666666666666,
             "#ed7953"
            ],
            [
             0.7777777777777778,
             "#fb9f3a"
            ],
            [
             0.8888888888888888,
             "#fdca26"
            ],
            [
             1,
             "#f0f921"
            ]
           ],
           "sequentialminus": [
            [
             0,
             "#0d0887"
            ],
            [
             0.1111111111111111,
             "#46039f"
            ],
            [
             0.2222222222222222,
             "#7201a8"
            ],
            [
             0.3333333333333333,
             "#9c179e"
            ],
            [
             0.4444444444444444,
             "#bd3786"
            ],
            [
             0.5555555555555556,
             "#d8576b"
            ],
            [
             0.6666666666666666,
             "#ed7953"
            ],
            [
             0.7777777777777778,
             "#fb9f3a"
            ],
            [
             0.8888888888888888,
             "#fdca26"
            ],
            [
             1,
             "#f0f921"
            ]
           ]
          },
          "colorway": [
           "#636efa",
           "#EF553B",
           "#00cc96",
           "#ab63fa",
           "#FFA15A",
           "#19d3f3",
           "#FF6692",
           "#B6E880",
           "#FF97FF",
           "#FECB52"
          ],
          "font": {
           "color": "#2a3f5f"
          },
          "geo": {
           "bgcolor": "white",
           "lakecolor": "white",
           "landcolor": "#E5ECF6",
           "showlakes": true,
           "showland": true,
           "subunitcolor": "white"
          },
          "hoverlabel": {
           "align": "left"
          },
          "hovermode": "closest",
          "mapbox": {
           "style": "light"
          },
          "paper_bgcolor": "white",
          "plot_bgcolor": "#E5ECF6",
          "polar": {
           "angularaxis": {
            "gridcolor": "white",
            "linecolor": "white",
            "ticks": ""
           },
           "bgcolor": "#E5ECF6",
           "radialaxis": {
            "gridcolor": "white",
            "linecolor": "white",
            "ticks": ""
           }
          },
          "scene": {
           "xaxis": {
            "backgroundcolor": "#E5ECF6",
            "gridcolor": "white",
            "gridwidth": 2,
            "linecolor": "white",
            "showbackground": true,
            "ticks": "",
            "zerolinecolor": "white"
           },
           "yaxis": {
            "backgroundcolor": "#E5ECF6",
            "gridcolor": "white",
            "gridwidth": 2,
            "linecolor": "white",
            "showbackground": true,
            "ticks": "",
            "zerolinecolor": "white"
           },
           "zaxis": {
            "backgroundcolor": "#E5ECF6",
            "gridcolor": "white",
            "gridwidth": 2,
            "linecolor": "white",
            "showbackground": true,
            "ticks": "",
            "zerolinecolor": "white"
           }
          },
          "shapedefaults": {
           "line": {
            "color": "#2a3f5f"
           }
          },
          "ternary": {
           "aaxis": {
            "gridcolor": "white",
            "linecolor": "white",
            "ticks": ""
           },
           "baxis": {
            "gridcolor": "white",
            "linecolor": "white",
            "ticks": ""
           },
           "bgcolor": "#E5ECF6",
           "caxis": {
            "gridcolor": "white",
            "linecolor": "white",
            "ticks": ""
           }
          },
          "title": {
           "x": 0.05
          },
          "xaxis": {
           "automargin": true,
           "gridcolor": "white",
           "linecolor": "white",
           "ticks": "",
           "title": {
            "standoff": 15
           },
           "zerolinecolor": "white",
           "zerolinewidth": 2
          },
          "yaxis": {
           "automargin": true,
           "gridcolor": "white",
           "linecolor": "white",
           "ticks": "",
           "title": {
            "standoff": 15
           },
           "zerolinecolor": "white",
           "zerolinewidth": 2
          }
         }
        },
        "width": 500
       }
      }
     },
     "metadata": {},
     "output_type": "display_data"
    }
   ],
   "source": [
    "# Test\n",
    "rg = Generator(PCG64(46)) # set your own unique seed number\n",
    "n_cities = 10\n",
    "cities = simulate_cities(rg, n_cities)\n",
    "start_time = time.time()  # Record start time\n",
    "solution, distance = variable_neighborhood_search(cities, iterations=100)\n",
    "end_time = time.time()  # Record end time\n",
    "print(\"best solution:\", solution)\n",
    "print(\"distance travelled:\", distance)\n",
    "print(\"Computing time:\", end_time - start_time, \"seconds\")\n",
    "\n",
    "draw_salesman(solution, cities)"
   ]
  },
  {
   "cell_type": "markdown",
   "metadata": {},
   "source": [
    "### Exercise 5: Simulated annealing\n",
    "\n",
    "In simulated annealing, we consider solutions that are not better from the current best solution with a probability.\n",
    "\n",
    "***\n",
    "- Select a random solution $y \\in V(x_k)$\n",
    "- If $f(y) \\leq f(x_k)$ \n",
    "    - $x_{k+1} = y$\n",
    "- Else \n",
    "    - $x_{k+1} = y$ with probability $e^{-\\frac{f(y)-f(x_k)}{T}}$ with T > 0\n",
    "***\n",
    "\n",
    "To deal with that, one can draw $r$ from $uniform(0,1)$ distribution and accept $y$ if $e^{-\\frac{f(y)-f(x_k)}{T}} > r$."
   ]
  },
  {
   "cell_type": "markdown",
   "metadata": {},
   "source": [
    "Functions to implement:\n",
    "\n",
    "`temperature_upt()`\n",
    "\n",
    "`simulated_annealing()`\n",
    "\n",
    "Calculate the computational time."
   ]
  },
  {
   "cell_type": "code",
   "execution_count": 20,
   "metadata": {},
   "outputs": [],
   "source": [
    "def temperature_upt(max_t_changes, t_changes, avg_inc_obj, accep_init, accep_final):\n",
    "\n",
    "    # implement your own solution here\n",
    "    T_init  = -avg_inc_obj / np.log(accep_init)   # Calculate initial temperature\n",
    "    T_final = -avg_inc_obj / np.log(accep_final)  # Calculate final temperature\n",
    "    decay_rate = (T_final / T_init) ** (1 / max_t_changes)  # Calculate decay rate\n",
    "    temperature = T_init * (decay_rate ** t_changes)  # Update temperature\n",
    "    \n",
    "    return temperature\n",
    "\n",
    "def simulated_annealing(cities, iterations=600, **kwargs):\n",
    "    \"\"\"Function to implement\n",
    "\n",
    "     Returns a good feasible solution to the traveling salesman problem\n",
    "\n",
    "    Args:\n",
    "        cities (dict, optional): data structure that contains supplementary \n",
    "            information about the problem, in particular the xy-coordinates of the \n",
    "            cities.\n",
    "        iterations (int): maximum number of iterations of the algorithm\n",
    "        **kwargs: arbitrary keyword arguments (optional variables)\n",
    "    \n",
    "    Returns:\n",
    "        x:  a row vector representing a local minimum city sequence\n",
    "        objValue_x: a scalar representing the objective function value of the path outputted\n",
    "    \"\"\"\n",
    "\n",
    "    # define your own parameters as you desire:\n",
    "    max_t_changes = int(0.6*iterations) # Maximum number of temperature changes\n",
    "    num_itr_temp  = int(0.4*iterations) # Maximum number of iterations per level of temperature\n",
    "    avg_inc_obj   = 0.1 # Average increase of the objective function\n",
    "    accep_init    = 0.95 # Initial acceptance probability\n",
    "    accep_final   = 0.00001 # Final acceptance probability\n",
    "    # Vary any of these parameters to change the behaviour of the optimization\n",
    "    \n",
    "    T_init  = -avg_inc_obj / np.log(accep_init)   # Calculate initial temperature\n",
    "    T_final = -avg_inc_obj / np.log(accep_final)  # Calculate final temperature\n",
    "    decay_rate = (T_final / T_init) ** (1 / max_t_changes)  # Calculate decay rate    \n",
    "    print(f\"Initial Temperature: {T_init} ℃\")\n",
    "    print(f\"End Temperature: {T_final} ℃\")\n",
    "    print(f\"Decay Rate: {decay_rate}\\n\\n\")\n",
    "    \n",
    "    # implement your own solution here\n",
    "    path = list(range(len(cities))) + [0]\n",
    "    cost = 1e10\n",
    "    \n",
    "    best_cost = cost\n",
    "    best_path = path\n",
    "    x = path\n",
    "    visited_paths = [path]\n",
    "    \n",
    "    k = 0\n",
    "    while k < max_t_changes:\n",
    "        # calculate current temperature\n",
    "        T = temperature_upt(max_t_changes, k, avg_inc_obj, accep_init, accep_final)\n",
    "        \n",
    "        neighbors = twoOPT_neighborhood(x)\n",
    "        for neighbor in neighbors:\n",
    "            cost = evaluate_city_sequence(neighbor, cities)\n",
    "            \n",
    "            # internal energy decrease\n",
    "            delta = cost - best_cost\n",
    "            \n",
    "            # simulated annealing\n",
    "            if neighbor in visited_paths: continue # jump the evaluated paths\n",
    "\n",
    "            if delta < 0:\n",
    "                best_cost = cost\n",
    "                best_path = neighbor\n",
    "                x = neighbor\n",
    "                visited_paths.append(neighbor)\n",
    "                break\n",
    "            elif np.exp(-delta/T) > np.random.random():\n",
    "                x = neighbor\n",
    "                visited_paths.append(neighbor)\n",
    "                break\n",
    "    \n",
    "    return best_path, best_cost\n",
    "        \n"
   ]
  },
  {
   "cell_type": "markdown",
   "metadata": {},
   "source": [
    "#### Test the function"
   ]
  },
  {
   "cell_type": "code",
   "execution_count": 21,
   "metadata": {},
   "outputs": [
    {
     "name": "stdout",
     "output_type": "stream",
     "text": [
      "Initial Temperature: 1.9495725746223673 ℃\n",
      "End Temperature: 0.008685889638065037 ℃\n",
      "Decay Rate: 0.985074545445181\n",
      "\n",
      "\n"
     ]
    },
    {
     "ename": "KeyboardInterrupt",
     "evalue": "",
     "output_type": "error",
     "traceback": [
      "\u001b[0;31m---------------------------------------------------------------------------\u001b[0m",
      "\u001b[0;31mKeyboardInterrupt\u001b[0m                         Traceback (most recent call last)",
      "Cell \u001b[0;32mIn[21], line 6\u001b[0m\n\u001b[1;32m      4\u001b[0m cities \u001b[38;5;241m=\u001b[39m simulate_cities(rg, n_cities)\n\u001b[1;32m      5\u001b[0m start_time \u001b[38;5;241m=\u001b[39m time\u001b[38;5;241m.\u001b[39mtime()  \u001b[38;5;66;03m# Record start time\u001b[39;00m\n\u001b[0;32m----> 6\u001b[0m solution, distance \u001b[38;5;241m=\u001b[39m \u001b[43msimulated_annealing\u001b[49m\u001b[43m(\u001b[49m\u001b[43mcities\u001b[49m\u001b[43m,\u001b[49m\u001b[43m \u001b[49m\u001b[43miterations\u001b[49m\u001b[43m \u001b[49m\u001b[38;5;241;43m=\u001b[39;49m\u001b[43m \u001b[49m\u001b[38;5;241;43m600\u001b[39;49m\u001b[43m)\u001b[49m\n\u001b[1;32m      7\u001b[0m end_time \u001b[38;5;241m=\u001b[39m time\u001b[38;5;241m.\u001b[39mtime()  \u001b[38;5;66;03m# Record end time\u001b[39;00m\n\u001b[1;32m      8\u001b[0m \u001b[38;5;28mprint\u001b[39m(\u001b[38;5;124m\"\u001b[39m\u001b[38;5;124mbest solution:\u001b[39m\u001b[38;5;124m\"\u001b[39m, solution)\n",
      "Cell \u001b[0;32mIn[20], line 65\u001b[0m, in \u001b[0;36msimulated_annealing\u001b[0;34m(cities, iterations, **kwargs)\u001b[0m\n\u001b[1;32m     62\u001b[0m delta \u001b[38;5;241m=\u001b[39m cost \u001b[38;5;241m-\u001b[39m best_cost\n\u001b[1;32m     64\u001b[0m \u001b[38;5;66;03m# simulated annealing\u001b[39;00m\n\u001b[0;32m---> 65\u001b[0m \u001b[38;5;28;01mif\u001b[39;00m neighbor \u001b[38;5;129;01min\u001b[39;00m visited_paths: \u001b[38;5;28;01mcontinue\u001b[39;00m \u001b[38;5;66;03m# jump the evaluated paths\u001b[39;00m\n\u001b[1;32m     67\u001b[0m \u001b[38;5;28;01mif\u001b[39;00m delta \u001b[38;5;241m<\u001b[39m \u001b[38;5;241m0\u001b[39m:\n\u001b[1;32m     68\u001b[0m     best_cost \u001b[38;5;241m=\u001b[39m cost\n",
      "\u001b[0;31mKeyboardInterrupt\u001b[0m: "
     ]
    }
   ],
   "source": [
    "# Test\n",
    "rg = Generator(PCG64(42069)) # set your own unique seed number\n",
    "n_cities = 10\n",
    "cities = simulate_cities(rg, n_cities)\n",
    "start_time = time.time()  # Record start time\n",
    "solution, distance = simulated_annealing(cities, iterations = 600)\n",
    "end_time = time.time()  # Record end time\n",
    "print(\"best solution:\", solution)\n",
    "print(\"distance travelled:\", distance)\n",
    "print(\"Computing time:\", end_time - start_time, \"seconds\")\n",
    "\n",
    "draw_salesman(solution, cities)"
   ]
  },
  {
   "cell_type": "markdown",
   "metadata": {},
   "source": [
    "## Testing the optimization algorithms and solution profiling"
   ]
  },
  {
   "cell_type": "markdown",
   "metadata": {},
   "source": [
    "### Testing\n",
    "#### Test your optimization functions using `optimization_TSP_test()`"
   ]
  },
  {
   "cell_type": "code",
   "execution_count": null,
   "metadata": {},
   "outputs": [],
   "source": [
    "# Run the optimization by reusing the functions simulateCities(), drawSalesman(), evaluate()\n",
    "\n",
    "def optimization_TSP_test(rg, n_cities=15, iterations=600):\n",
    "    cities = simulate_cities(rg, n_cities)\n",
    "    inital_solution = list(range(len(cities))) + [0]\n",
    "    print(cities)\n",
    "    print(\"initial solution:\", inital_solution)\n",
    "    print(\"inital distance travelled:\", evaluate_city_sequence(inital_solution, cities))\n",
    "    draw_salesman(inital_solution, cities, \"Initial Solution\") # show the inital solution\n",
    "    \n",
    "    algorithms = {\n",
    "    'Full Enumeration': full_enumeration,\n",
    "    'Greedy algorithm': greedy,\n",
    "    'Local search algorithm': local_search,\n",
    "    'Variable neighborhood search algorithm': variable_neighborhood_search,\n",
    "    'Simulated annealing algorithm': simulated_annealing\n",
    "    }\n",
    "    \n",
    "    for algorithm_name, algorithm in algorithms.items():\n",
    "        print(algorithm_name + \"\\n-----------\")\n",
    "        start_time = time.time()  # Record start time\n",
    "        solution, distance = algorithm(cities, iterations=iterations, display=False)\n",
    "        end_time = time.time()  # Record end time\n",
    "        print(\"best solution:\", solution)\n",
    "        print(\"distance travelled:\", distance)\n",
    "        print(\"Computing time:\", end_time - start_time, \"seconds\")\n",
    "        draw_salesman(solution, cities, algorithm_name)\n",
    "\n",
    "# run all\n",
    "rg = Generator(PCG64(42069)) \n",
    "optimization_TSP_test(rg, n_cities=10, iterations=600)"
   ]
  },
  {
   "cell_type": "markdown",
   "metadata": {},
   "source": [
    "---"
   ]
  },
  {
   "cell_type": "code",
   "execution_count": null,
   "metadata": {},
   "outputs": [],
   "source": []
  }
 ],
 "metadata": {
  "kernelspec": {
   "display_name": "Python 3 (ipykernel)",
   "language": "python",
   "name": "python3"
  },
  "language_info": {
   "codemirror_mode": {
    "name": "ipython",
    "version": 3
   },
   "file_extension": ".py",
   "mimetype": "text/x-python",
   "name": "python",
   "nbconvert_exporter": "python",
   "pygments_lexer": "ipython3",
   "version": "3.10.12"
  },
  "varInspector": {
   "cols": {
    "lenName": 16,
    "lenType": 16,
    "lenVar": 40
   },
   "kernels_config": {
    "python": {
     "delete_cmd_postfix": "",
     "delete_cmd_prefix": "del ",
     "library": "var_list.py",
     "varRefreshCmd": "print(var_dic_list())"
    },
    "r": {
     "delete_cmd_postfix": ") ",
     "delete_cmd_prefix": "rm(",
     "library": "var_list.r",
     "varRefreshCmd": "cat(var_dic_list()) "
    }
   },
   "types_to_exclude": [
    "module",
    "function",
    "builtin_function_or_method",
    "instance",
    "_Feature"
   ],
   "window_display": false
  }
 },
 "nbformat": 4,
 "nbformat_minor": 4
}
